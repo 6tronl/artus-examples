{
 "cells": [
  {
   "attachments": {},
   "cell_type": "markdown",
   "metadata": {},
   "source": [
    "# &#x1F4F7; Train an AI model with images associated to a GPS point and use it to make maps\n",
    "\n",
    "In this tutorial, we will learn how to automatically produce maps with images associated to a GPS location.\n",
    "\n",
    "## &#x1F3AC; Scenario\n",
    "\n",
    "Imagine you are a research scientist and you have collected images associated to a GPS point. You have annotated some of the images with your classes of interest (plants, clouds, marine species) thanks to an annotation tool (CVAT, Labelbox...). At the end on the annotation process, you have a COCO file storing your annotations. As part of your project, you know that artificial intelligence is the key to annotate more images and to automatically produce georeferenced anntoations. Seeing the colossal work you have yet to accomplish, you sweat drops (&#x1F613;). Fortunately, in a useful breath, you discover artus (&#x1F631;)! But unfortunately you have no knowledge of artificial intelligence. That's good because it's not necessary, this tutorial will guide you to your holy grail! &#x1F60E;\n",
    "\n",
    "## Input data needed\n",
    "\n",
    "As explained previously, you must have images associated to GPS point. To train a supervised deep learning model, you also need annotation. What is expected here is a COCO file storing your annotations. \n",
    "\n",
    "To spatialize the predictions of the deep learning, you also need a csv storing the image location (3 columns : \"filename\", \"latitude\", \"longitude\")\n",
    "\n",
    "## &#x0031; Data splitting\n",
    "\n",
    "Data splitting in an important step when training a deep learning model. We will split the COCO file created into 3 coco files : a train dataset, a validation dataset and a test dataset to further evaluate the model."
   ]
  },
  {
   "cell_type": "code",
   "execution_count": null,
   "metadata": {},
   "outputs": [],
   "source": [
    "import artus.prepare.coco_splitting as tusplit\n",
    "import artus.evaluate_model.coco_stats as tustats"
   ]
  },
  {
   "cell_type": "code",
   "execution_count": null,
   "metadata": {},
   "outputs": [],
   "source": [
    "coco_path = '/path/to/coco/export/directory/coco_annotations.json'"
   ]
  },
  {
   "attachments": {},
   "cell_type": "markdown",
   "metadata": {},
   "source": [
    "If you have under represented classes in your annotations, you can set a minimal number of occurrences (min_nb_occurences) to remove classes that do not reach the threshold."
   ]
  },
  {
   "cell_type": "code",
   "execution_count": null,
   "metadata": {},
   "outputs": [],
   "source": [
    "min_nb_occurences=50"
   ]
  },
  {
   "attachments": {},
   "cell_type": "markdown",
   "metadata": {},
   "source": [
    "You can also export some statistics on the classes distribution before the training process. This is optional but useful to get an idea of the annotations composition."
   ]
  },
  {
   "cell_type": "code",
   "execution_count": null,
   "metadata": {},
   "outputs": [],
   "source": [
    "stats = tustats.COCOStats(coco_path, min_nb_occurences)\n",
    "stats.get_class_stats()\n",
    "stats.export_stats(export_path='/path/to/export/stats.csv') #optionnal : export the classes distribution in csv format"
   ]
  },
  {
   "cell_type": "code",
   "execution_count": null,
   "metadata": {},
   "outputs": [],
   "source": [
    "splitter = tusplit.COCOSplitter(\n",
    "    coco_path=coco_path,\n",
    "    export_dir='/path/to/coco/export/directory/',\n",
    "    coco_train_name='coco_train.json',\n",
    "    coco_test_name='coco_test.json',\n",
    "    coco_val_name='coco_val.json',\n",
    "    min_nb_occurrences=min_nb_occurences,\n",
    "    train_pct=.8,\n",
    "    val_pct=.1,\n",
    "    test_pct=.1,\n",
    "    batch_size=8\n",
    ")\n",
    "\n",
    "splitter.split_coco()"
   ]
  },
  {
   "attachments": {},
   "cell_type": "markdown",
   "metadata": {},
   "source": [
    "## &#x0032; Train a deep learning model\n",
    "### &#x0032;. &#x0031;. Configure config file and train\n",
    "\n",
    "To configure the deep learning model that you will train, you must write a model configuration file. Examples are available in the ../models_config/ folder."
   ]
  },
  {
   "cell_type": "code",
   "execution_count": null,
   "metadata": {},
   "outputs": [],
   "source": [
    "import artus.train.train as tustrain\n"
   ]
  },
  {
   "cell_type": "code",
   "execution_count": null,
   "metadata": {},
   "outputs": [],
   "source": [
    "config_path = '../../configs/x101_allsites_species_overlapping25_tiles1500_ITER3000.yml' "
   ]
  },
  {
   "attachments": {},
   "cell_type": "markdown",
   "metadata": {},
   "source": [
    "In the cell below, you will train a deep learning model. Depending on you data and on your machine ressources, this step can take several hours."
   ]
  },
  {
   "cell_type": "code",
   "execution_count": null,
   "metadata": {},
   "outputs": [],
   "source": [
    "tustrain.train_model(config_path)"
   ]
  },
  {
   "attachments": {},
   "cell_type": "markdown",
   "metadata": {},
   "source": [
    "### &#x0032;. &#x0032;. Evaluate model\n",
    "By running the code below, you open tensorboard which will help you to analyze training metrics and detect you have, for instance, overfitted training data."
   ]
  },
  {
   "cell_type": "code",
   "execution_count": null,
   "metadata": {},
   "outputs": [],
   "source": [
    "import os\n",
    "%load_ext tensorboard\n",
    "%tensorboard --logdir='/path/to/logs/directory/'"
   ]
  },
  {
   "attachments": {},
   "cell_type": "markdown",
   "metadata": {},
   "source": [
    "When evaluating the model trained, you will get a csv that reports what is the performance of the trained model on your test dataset."
   ]
  },
  {
   "cell_type": "code",
   "execution_count": 4,
   "metadata": {},
   "outputs": [],
   "source": [
    "import artus.evaluate_model.evaluate as tuseval"
   ]
  },
  {
   "cell_type": "code",
   "execution_count": null,
   "metadata": {},
   "outputs": [],
   "source": [
    "tuseval.evaluate_model(\n",
    "    config_path, \n",
    "    csv_metrics_name='/path/to/export/models_metrics.csv')"
   ]
  },
  {
   "attachments": {},
   "cell_type": "markdown",
   "metadata": {},
   "source": [
    "You can also plot the evaluation results with artus. You will get several interactive barplots that can be useful to compare models when you tried different model configuration."
   ]
  },
  {
   "cell_type": "code",
   "execution_count": 12,
   "metadata": {},
   "outputs": [],
   "source": [
    "import plotly.express as px\n",
    "import pandas as pd\n",
    "import artus.evaluate_model.write_eval_results as tusevalplot"
   ]
  },
  {
   "cell_type": "code",
   "execution_count": 13,
   "metadata": {},
   "outputs": [],
   "source": [
    "plots = tusevalplot.ModelsMetricsPlots(\n",
    "    csv_metrics_path = '/home/justine/Documents/G2OI/collaborations/brianna/logs/models_metrics.csv', #the results from evaluate_model.ipynb\n",
    "    export_dir = '/path/to/export/plots/',\n",
    "    plot_name = 'metrics.html',\n",
    "    title = 'Average precision'\n",
    ")"
   ]
  },
  {
   "cell_type": "code",
   "execution_count": 14,
   "metadata": {},
   "outputs": [
    {
     "data": {
      "application/vnd.plotly.v1+json": {
       "config": {
        "plotlyServerURL": "https://plot.ly"
       },
       "data": [
        {
         "alignmentgroup": "True",
         "hovertemplate": "model=%{x}<br>variable=AP50<br>Average precision=%{y}<extra></extra>",
         "legendgroup": "20221201_18:21:50_ITER10000_X101_DATAUGM",
         "marker": {
          "color": "#636efa",
          "pattern": {
           "shape": ""
          }
         },
         "name": "20221201_18:21:50_ITER10000_X101_DATAUGM",
         "offsetgroup": "20221201_18:21:50_ITER10000_X101_DATAUGM",
         "orientation": "v",
         "showlegend": true,
         "textposition": "auto",
         "type": "bar",
         "x": [
          "20221201_18:21:50_ITER10000_X101_DATAUGM"
         ],
         "xaxis": "x6",
         "y": [
          39.08172883447693
         ],
         "yaxis": "y6"
        },
        {
         "alignmentgroup": "True",
         "hovertemplate": "model=%{x}<br>variable=AP75<br>Average precision=%{y}<extra></extra>",
         "legendgroup": "20221201_18:21:50_ITER10000_X101_DATAUGM",
         "marker": {
          "color": "#636efa",
          "pattern": {
           "shape": ""
          }
         },
         "name": "20221201_18:21:50_ITER10000_X101_DATAUGM",
         "offsetgroup": "20221201_18:21:50_ITER10000_X101_DATAUGM",
         "orientation": "v",
         "showlegend": false,
         "textposition": "auto",
         "type": "bar",
         "x": [
          "20221201_18:21:50_ITER10000_X101_DATAUGM"
         ],
         "xaxis": "x7",
         "y": [
          12.760450500176336
         ],
         "yaxis": "y7"
        },
        {
         "alignmentgroup": "True",
         "hovertemplate": "model=%{x}<br>variable=APl<br>Average precision=%{y}<extra></extra>",
         "legendgroup": "20221201_18:21:50_ITER10000_X101_DATAUGM",
         "marker": {
          "color": "#636efa",
          "pattern": {
           "shape": ""
          }
         },
         "name": "20221201_18:21:50_ITER10000_X101_DATAUGM",
         "offsetgroup": "20221201_18:21:50_ITER10000_X101_DATAUGM",
         "orientation": "v",
         "showlegend": false,
         "textposition": "auto",
         "type": "bar",
         "x": [
          "20221201_18:21:50_ITER10000_X101_DATAUGM"
         ],
         "xaxis": "x10",
         "y": [
          17.269682492759152
         ],
         "yaxis": "y10"
        },
        {
         "alignmentgroup": "True",
         "hovertemplate": "model=%{x}<br>variable=AP-Maybe<br>Average precision=%{y}<extra></extra>",
         "legendgroup": "20221201_18:21:50_ITER10000_X101_DATAUGM",
         "marker": {
          "color": "#636efa",
          "pattern": {
           "shape": ""
          }
         },
         "name": "20221201_18:21:50_ITER10000_X101_DATAUGM",
         "offsetgroup": "20221201_18:21:50_ITER10000_X101_DATAUGM",
         "orientation": "v",
         "showlegend": false,
         "textposition": "auto",
         "type": "bar",
         "x": [
          "20221201_18:21:50_ITER10000_X101_DATAUGM"
         ],
         "xaxis": "x",
         "y": [
          3.895449547278957
         ],
         "yaxis": "y"
        },
        {
         "alignmentgroup": "True",
         "hovertemplate": "model=%{x}<br>variable=AP-Yes<br>Average precision=%{y}<extra></extra>",
         "legendgroup": "20221201_18:21:50_ITER10000_X101_DATAUGM",
         "marker": {
          "color": "#636efa",
          "pattern": {
           "shape": ""
          }
         },
         "name": "20221201_18:21:50_ITER10000_X101_DATAUGM",
         "offsetgroup": "20221201_18:21:50_ITER10000_X101_DATAUGM",
         "orientation": "v",
         "showlegend": false,
         "textposition": "auto",
         "type": "bar",
         "x": [
          "20221201_18:21:50_ITER10000_X101_DATAUGM"
         ],
         "xaxis": "x2",
         "y": [
          15.557968304132933
         ],
         "yaxis": "y2"
        },
        {
         "alignmentgroup": "True",
         "hovertemplate": "model=%{x}<br>variable=AP-No<br>Average precision=%{y}<extra></extra>",
         "legendgroup": "20221201_18:21:50_ITER10000_X101_DATAUGM",
         "marker": {
          "color": "#636efa",
          "pattern": {
           "shape": ""
          }
         },
         "name": "20221201_18:21:50_ITER10000_X101_DATAUGM",
         "offsetgroup": "20221201_18:21:50_ITER10000_X101_DATAUGM",
         "orientation": "v",
         "showlegend": false,
         "textposition": "auto",
         "type": "bar",
         "x": [
          "20221201_18:21:50_ITER10000_X101_DATAUGM"
         ],
         "xaxis": "x3",
         "y": [
          32.355629626865564
         ],
         "yaxis": "y3"
        },
        {
         "alignmentgroup": "True",
         "hovertemplate": "model=%{x}<br>variable=AP50<br>Average precision=%{y}<extra></extra>",
         "legendgroup": "20221202_16:10:14_ITER10000_X101",
         "marker": {
          "color": "#EF553B",
          "pattern": {
           "shape": ""
          }
         },
         "name": "20221202_16:10:14_ITER10000_X101",
         "offsetgroup": "20221202_16:10:14_ITER10000_X101",
         "orientation": "v",
         "showlegend": true,
         "textposition": "auto",
         "type": "bar",
         "x": [
          "20221202_16:10:14_ITER10000_X101"
         ],
         "xaxis": "x6",
         "y": [
          64.53272539317044
         ],
         "yaxis": "y6"
        },
        {
         "alignmentgroup": "True",
         "hovertemplate": "model=%{x}<br>variable=AP75<br>Average precision=%{y}<extra></extra>",
         "legendgroup": "20221202_16:10:14_ITER10000_X101",
         "marker": {
          "color": "#EF553B",
          "pattern": {
           "shape": ""
          }
         },
         "name": "20221202_16:10:14_ITER10000_X101",
         "offsetgroup": "20221202_16:10:14_ITER10000_X101",
         "orientation": "v",
         "showlegend": false,
         "textposition": "auto",
         "type": "bar",
         "x": [
          "20221202_16:10:14_ITER10000_X101"
         ],
         "xaxis": "x7",
         "y": [
          39.59289228838143
         ],
         "yaxis": "y7"
        },
        {
         "alignmentgroup": "True",
         "hovertemplate": "model=%{x}<br>variable=APl<br>Average precision=%{y}<extra></extra>",
         "legendgroup": "20221202_16:10:14_ITER10000_X101",
         "marker": {
          "color": "#EF553B",
          "pattern": {
           "shape": ""
          }
         },
         "name": "20221202_16:10:14_ITER10000_X101",
         "offsetgroup": "20221202_16:10:14_ITER10000_X101",
         "orientation": "v",
         "showlegend": false,
         "textposition": "auto",
         "type": "bar",
         "x": [
          "20221202_16:10:14_ITER10000_X101"
         ],
         "xaxis": "x10",
         "y": [
          37.61811409480627
         ],
         "yaxis": "y10"
        },
        {
         "alignmentgroup": "True",
         "hovertemplate": "model=%{x}<br>variable=AP-Maybe<br>Average precision=%{y}<extra></extra>",
         "legendgroup": "20221202_16:10:14_ITER10000_X101",
         "marker": {
          "color": "#EF553B",
          "pattern": {
           "shape": ""
          }
         },
         "name": "20221202_16:10:14_ITER10000_X101",
         "offsetgroup": "20221202_16:10:14_ITER10000_X101",
         "orientation": "v",
         "showlegend": false,
         "textposition": "auto",
         "type": "bar",
         "x": [
          "20221202_16:10:14_ITER10000_X101"
         ],
         "xaxis": "x",
         "y": [
          11.919777315160156
         ],
         "yaxis": "y"
        },
        {
         "alignmentgroup": "True",
         "hovertemplate": "model=%{x}<br>variable=AP-Yes<br>Average precision=%{y}<extra></extra>",
         "legendgroup": "20221202_16:10:14_ITER10000_X101",
         "marker": {
          "color": "#EF553B",
          "pattern": {
           "shape": ""
          }
         },
         "name": "20221202_16:10:14_ITER10000_X101",
         "offsetgroup": "20221202_16:10:14_ITER10000_X101",
         "orientation": "v",
         "showlegend": false,
         "textposition": "auto",
         "type": "bar",
         "x": [
          "20221202_16:10:14_ITER10000_X101"
         ],
         "xaxis": "x2",
         "y": [
          37.60547736237964
         ],
         "yaxis": "y2"
        },
        {
         "alignmentgroup": "True",
         "hovertemplate": "model=%{x}<br>variable=AP-No<br>Average precision=%{y}<extra></extra>",
         "legendgroup": "20221202_16:10:14_ITER10000_X101",
         "marker": {
          "color": "#EF553B",
          "pattern": {
           "shape": ""
          }
         },
         "name": "20221202_16:10:14_ITER10000_X101",
         "offsetgroup": "20221202_16:10:14_ITER10000_X101",
         "orientation": "v",
         "showlegend": false,
         "textposition": "auto",
         "type": "bar",
         "x": [
          "20221202_16:10:14_ITER10000_X101"
         ],
         "xaxis": "x3",
         "y": [
          63.308160782255605
         ],
         "yaxis": "y3"
        },
        {
         "alignmentgroup": "True",
         "hovertemplate": "model=%{x}<br>variable=AP50<br>Average precision=%{y}<extra></extra>",
         "legendgroup": "20221206_17:50:40_ITER20000_X101",
         "marker": {
          "color": "#00cc96",
          "pattern": {
           "shape": ""
          }
         },
         "name": "20221206_17:50:40_ITER20000_X101",
         "offsetgroup": "20221206_17:50:40_ITER20000_X101",
         "orientation": "v",
         "showlegend": true,
         "textposition": "auto",
         "type": "bar",
         "x": [
          "20221206_17:50:40_ITER20000_X101"
         ],
         "xaxis": "x6",
         "y": [
          63.39964189197168
         ],
         "yaxis": "y6"
        },
        {
         "alignmentgroup": "True",
         "hovertemplate": "model=%{x}<br>variable=AP75<br>Average precision=%{y}<extra></extra>",
         "legendgroup": "20221206_17:50:40_ITER20000_X101",
         "marker": {
          "color": "#00cc96",
          "pattern": {
           "shape": ""
          }
         },
         "name": "20221206_17:50:40_ITER20000_X101",
         "offsetgroup": "20221206_17:50:40_ITER20000_X101",
         "orientation": "v",
         "showlegend": false,
         "textposition": "auto",
         "type": "bar",
         "x": [
          "20221206_17:50:40_ITER20000_X101"
         ],
         "xaxis": "x7",
         "y": [
          41.05595842574952
         ],
         "yaxis": "y7"
        },
        {
         "alignmentgroup": "True",
         "hovertemplate": "model=%{x}<br>variable=APl<br>Average precision=%{y}<extra></extra>",
         "legendgroup": "20221206_17:50:40_ITER20000_X101",
         "marker": {
          "color": "#00cc96",
          "pattern": {
           "shape": ""
          }
         },
         "name": "20221206_17:50:40_ITER20000_X101",
         "offsetgroup": "20221206_17:50:40_ITER20000_X101",
         "orientation": "v",
         "showlegend": false,
         "textposition": "auto",
         "type": "bar",
         "x": [
          "20221206_17:50:40_ITER20000_X101"
         ],
         "xaxis": "x10",
         "y": [
          37.45614773829005
         ],
         "yaxis": "y10"
        },
        {
         "alignmentgroup": "True",
         "hovertemplate": "model=%{x}<br>variable=AP-Maybe<br>Average precision=%{y}<extra></extra>",
         "legendgroup": "20221206_17:50:40_ITER20000_X101",
         "marker": {
          "color": "#00cc96",
          "pattern": {
           "shape": ""
          }
         },
         "name": "20221206_17:50:40_ITER20000_X101",
         "offsetgroup": "20221206_17:50:40_ITER20000_X101",
         "orientation": "v",
         "showlegend": false,
         "textposition": "auto",
         "type": "bar",
         "x": [
          "20221206_17:50:40_ITER20000_X101"
         ],
         "xaxis": "x",
         "y": [
          13.110320697153488
         ],
         "yaxis": "y"
        },
        {
         "alignmentgroup": "True",
         "hovertemplate": "model=%{x}<br>variable=AP-Yes<br>Average precision=%{y}<extra></extra>",
         "legendgroup": "20221206_17:50:40_ITER20000_X101",
         "marker": {
          "color": "#00cc96",
          "pattern": {
           "shape": ""
          }
         },
         "name": "20221206_17:50:40_ITER20000_X101",
         "offsetgroup": "20221206_17:50:40_ITER20000_X101",
         "orientation": "v",
         "showlegend": false,
         "textposition": "auto",
         "type": "bar",
         "x": [
          "20221206_17:50:40_ITER20000_X101"
         ],
         "xaxis": "x2",
         "y": [
          35.62532852550335
         ],
         "yaxis": "y2"
        },
        {
         "alignmentgroup": "True",
         "hovertemplate": "model=%{x}<br>variable=AP-No<br>Average precision=%{y}<extra></extra>",
         "legendgroup": "20221206_17:50:40_ITER20000_X101",
         "marker": {
          "color": "#00cc96",
          "pattern": {
           "shape": ""
          }
         },
         "name": "20221206_17:50:40_ITER20000_X101",
         "offsetgroup": "20221206_17:50:40_ITER20000_X101",
         "orientation": "v",
         "showlegend": false,
         "textposition": "auto",
         "type": "bar",
         "x": [
          "20221206_17:50:40_ITER20000_X101"
         ],
         "xaxis": "x3",
         "y": [
          63.62670356550775
         ],
         "yaxis": "y3"
        },
        {
         "alignmentgroup": "True",
         "hovertemplate": "model=%{x}<br>variable=AP50<br>Average precision=%{y}<extra></extra>",
         "legendgroup": "20221212_11:24:37_ITER10000_X101_wVAL",
         "marker": {
          "color": "#ab63fa",
          "pattern": {
           "shape": ""
          }
         },
         "name": "20221212_11:24:37_ITER10000_X101_wVAL",
         "offsetgroup": "20221212_11:24:37_ITER10000_X101_wVAL",
         "orientation": "v",
         "showlegend": true,
         "textposition": "auto",
         "type": "bar",
         "x": [
          "20221212_11:24:37_ITER10000_X101_wVAL"
         ],
         "xaxis": "x6",
         "y": [
          64.1483308967297
         ],
         "yaxis": "y6"
        },
        {
         "alignmentgroup": "True",
         "hovertemplate": "model=%{x}<br>variable=AP75<br>Average precision=%{y}<extra></extra>",
         "legendgroup": "20221212_11:24:37_ITER10000_X101_wVAL",
         "marker": {
          "color": "#ab63fa",
          "pattern": {
           "shape": ""
          }
         },
         "name": "20221212_11:24:37_ITER10000_X101_wVAL",
         "offsetgroup": "20221212_11:24:37_ITER10000_X101_wVAL",
         "orientation": "v",
         "showlegend": false,
         "textposition": "auto",
         "type": "bar",
         "x": [
          "20221212_11:24:37_ITER10000_X101_wVAL"
         ],
         "xaxis": "x7",
         "y": [
          40.76039710685891
         ],
         "yaxis": "y7"
        },
        {
         "alignmentgroup": "True",
         "hovertemplate": "model=%{x}<br>variable=APl<br>Average precision=%{y}<extra></extra>",
         "legendgroup": "20221212_11:24:37_ITER10000_X101_wVAL",
         "marker": {
          "color": "#ab63fa",
          "pattern": {
           "shape": ""
          }
         },
         "name": "20221212_11:24:37_ITER10000_X101_wVAL",
         "offsetgroup": "20221212_11:24:37_ITER10000_X101_wVAL",
         "orientation": "v",
         "showlegend": false,
         "textposition": "auto",
         "type": "bar",
         "x": [
          "20221212_11:24:37_ITER10000_X101_wVAL"
         ],
         "xaxis": "x10",
         "y": [
          38.17093889243193
         ],
         "yaxis": "y10"
        },
        {
         "alignmentgroup": "True",
         "hovertemplate": "model=%{x}<br>variable=AP-Maybe<br>Average precision=%{y}<extra></extra>",
         "legendgroup": "20221212_11:24:37_ITER10000_X101_wVAL",
         "marker": {
          "color": "#ab63fa",
          "pattern": {
           "shape": ""
          }
         },
         "name": "20221212_11:24:37_ITER10000_X101_wVAL",
         "offsetgroup": "20221212_11:24:37_ITER10000_X101_wVAL",
         "orientation": "v",
         "showlegend": false,
         "textposition": "auto",
         "type": "bar",
         "x": [
          "20221212_11:24:37_ITER10000_X101_wVAL"
         ],
         "xaxis": "x",
         "y": [
          13.465352925513844
         ],
         "yaxis": "y"
        },
        {
         "alignmentgroup": "True",
         "hovertemplate": "model=%{x}<br>variable=AP-Yes<br>Average precision=%{y}<extra></extra>",
         "legendgroup": "20221212_11:24:37_ITER10000_X101_wVAL",
         "marker": {
          "color": "#ab63fa",
          "pattern": {
           "shape": ""
          }
         },
         "name": "20221212_11:24:37_ITER10000_X101_wVAL",
         "offsetgroup": "20221212_11:24:37_ITER10000_X101_wVAL",
         "orientation": "v",
         "showlegend": false,
         "textposition": "auto",
         "type": "bar",
         "x": [
          "20221212_11:24:37_ITER10000_X101_wVAL"
         ],
         "xaxis": "x2",
         "y": [
          37.17138754868893
         ],
         "yaxis": "y2"
        },
        {
         "alignmentgroup": "True",
         "hovertemplate": "model=%{x}<br>variable=AP-No<br>Average precision=%{y}<extra></extra>",
         "legendgroup": "20221212_11:24:37_ITER10000_X101_wVAL",
         "marker": {
          "color": "#ab63fa",
          "pattern": {
           "shape": ""
          }
         },
         "name": "20221212_11:24:37_ITER10000_X101_wVAL",
         "offsetgroup": "20221212_11:24:37_ITER10000_X101_wVAL",
         "orientation": "v",
         "showlegend": false,
         "textposition": "auto",
         "type": "bar",
         "x": [
          "20221212_11:24:37_ITER10000_X101_wVAL"
         ],
         "xaxis": "x3",
         "y": [
          63.86533213000472
         ],
         "yaxis": "y3"
        },
        {
         "alignmentgroup": "True",
         "hovertemplate": "model=%{x}<br>variable=AP50<br>Average precision=%{y}<extra></extra>",
         "legendgroup": "20230103_13:36:15_ITER4000_X101_wP3_dataugm",
         "marker": {
          "color": "#FFA15A",
          "pattern": {
           "shape": ""
          }
         },
         "name": "20230103_13:36:15_ITER4000_X101_wP3_dataugm",
         "offsetgroup": "20230103_13:36:15_ITER4000_X101_wP3_dataugm",
         "orientation": "v",
         "showlegend": true,
         "textposition": "auto",
         "type": "bar",
         "x": [
          "20230103_13:36:15_ITER4000_X101_wP3_dataugm"
         ],
         "xaxis": "x6",
         "y": [
          0.2382153004604955
         ],
         "yaxis": "y6"
        },
        {
         "alignmentgroup": "True",
         "hovertemplate": "model=%{x}<br>variable=AP75<br>Average precision=%{y}<extra></extra>",
         "legendgroup": "20230103_13:36:15_ITER4000_X101_wP3_dataugm",
         "marker": {
          "color": "#FFA15A",
          "pattern": {
           "shape": ""
          }
         },
         "name": "20230103_13:36:15_ITER4000_X101_wP3_dataugm",
         "offsetgroup": "20230103_13:36:15_ITER4000_X101_wP3_dataugm",
         "orientation": "v",
         "showlegend": false,
         "textposition": "auto",
         "type": "bar",
         "x": [
          "20230103_13:36:15_ITER4000_X101_wP3_dataugm"
         ],
         "xaxis": "x7",
         "y": [
          0.003510989396812
         ],
         "yaxis": "y7"
        },
        {
         "alignmentgroup": "True",
         "hovertemplate": "model=%{x}<br>variable=APm<br>Average precision=%{y}<extra></extra>",
         "legendgroup": "20230103_13:36:15_ITER4000_X101_wP3_dataugm",
         "marker": {
          "color": "#FFA15A",
          "pattern": {
           "shape": ""
          }
         },
         "name": "20230103_13:36:15_ITER4000_X101_wP3_dataugm",
         "offsetgroup": "20230103_13:36:15_ITER4000_X101_wP3_dataugm",
         "orientation": "v",
         "showlegend": false,
         "textposition": "auto",
         "type": "bar",
         "x": [
          "20230103_13:36:15_ITER4000_X101_wP3_dataugm"
         ],
         "xaxis": "x9",
         "y": [
          0
         ],
         "yaxis": "y9"
        },
        {
         "alignmentgroup": "True",
         "hovertemplate": "model=%{x}<br>variable=APl<br>Average precision=%{y}<extra></extra>",
         "legendgroup": "20230103_13:36:15_ITER4000_X101_wP3_dataugm",
         "marker": {
          "color": "#FFA15A",
          "pattern": {
           "shape": ""
          }
         },
         "name": "20230103_13:36:15_ITER4000_X101_wP3_dataugm",
         "offsetgroup": "20230103_13:36:15_ITER4000_X101_wP3_dataugm",
         "orientation": "v",
         "showlegend": false,
         "textposition": "auto",
         "type": "bar",
         "x": [
          "20230103_13:36:15_ITER4000_X101_wP3_dataugm"
         ],
         "xaxis": "x10",
         "y": [
          0.0493842651772858
         ],
         "yaxis": "y10"
        },
        {
         "alignmentgroup": "True",
         "hovertemplate": "model=%{x}<br>variable=AP-Maybe<br>Average precision=%{y}<extra></extra>",
         "legendgroup": "20230103_13:36:15_ITER4000_X101_wP3_dataugm",
         "marker": {
          "color": "#FFA15A",
          "pattern": {
           "shape": ""
          }
         },
         "name": "20230103_13:36:15_ITER4000_X101_wP3_dataugm",
         "offsetgroup": "20230103_13:36:15_ITER4000_X101_wP3_dataugm",
         "orientation": "v",
         "showlegend": false,
         "textposition": "auto",
         "type": "bar",
         "x": [
          "20230103_13:36:15_ITER4000_X101_wP3_dataugm"
         ],
         "xaxis": "x",
         "y": [
          0.0792079207920792
         ],
         "yaxis": "y"
        },
        {
         "alignmentgroup": "True",
         "hovertemplate": "model=%{x}<br>variable=AP-Yes<br>Average precision=%{y}<extra></extra>",
         "legendgroup": "20230103_13:36:15_ITER4000_X101_wP3_dataugm",
         "marker": {
          "color": "#FFA15A",
          "pattern": {
           "shape": ""
          }
         },
         "name": "20230103_13:36:15_ITER4000_X101_wP3_dataugm",
         "offsetgroup": "20230103_13:36:15_ITER4000_X101_wP3_dataugm",
         "orientation": "v",
         "showlegend": false,
         "textposition": "auto",
         "type": "bar",
         "x": [
          "20230103_13:36:15_ITER4000_X101_wP3_dataugm"
         ],
         "xaxis": "x2",
         "y": [
          0.0231519289197478
         ],
         "yaxis": "y2"
        },
        {
         "alignmentgroup": "True",
         "hovertemplate": "model=%{x}<br>variable=AP-No<br>Average precision=%{y}<extra></extra>",
         "legendgroup": "20230103_13:36:15_ITER4000_X101_wP3_dataugm",
         "marker": {
          "color": "#FFA15A",
          "pattern": {
           "shape": ""
          }
         },
         "name": "20230103_13:36:15_ITER4000_X101_wP3_dataugm",
         "offsetgroup": "20230103_13:36:15_ITER4000_X101_wP3_dataugm",
         "orientation": "v",
         "showlegend": false,
         "textposition": "auto",
         "type": "bar",
         "x": [
          "20230103_13:36:15_ITER4000_X101_wP3_dataugm"
         ],
         "xaxis": "x3",
         "y": [
          0.0457929458200306
         ],
         "yaxis": "y3"
        },
        {
         "alignmentgroup": "True",
         "hovertemplate": "model=%{x}<br>variable=AP50<br>Average precision=%{y}<extra></extra>",
         "legendgroup": "20230104_13:09:39_ITER4000_X101_wK3",
         "marker": {
          "color": "#19d3f3",
          "pattern": {
           "shape": ""
          }
         },
         "name": "20230104_13:09:39_ITER4000_X101_wK3",
         "offsetgroup": "20230104_13:09:39_ITER4000_X101_wK3",
         "orientation": "v",
         "showlegend": true,
         "textposition": "auto",
         "type": "bar",
         "x": [
          "20230104_13:09:39_ITER4000_X101_wK3"
         ],
         "xaxis": "x6",
         "y": [
          62.68261305653476
         ],
         "yaxis": "y6"
        },
        {
         "alignmentgroup": "True",
         "hovertemplate": "model=%{x}<br>variable=AP75<br>Average precision=%{y}<extra></extra>",
         "legendgroup": "20230104_13:09:39_ITER4000_X101_wK3",
         "marker": {
          "color": "#19d3f3",
          "pattern": {
           "shape": ""
          }
         },
         "name": "20230104_13:09:39_ITER4000_X101_wK3",
         "offsetgroup": "20230104_13:09:39_ITER4000_X101_wK3",
         "orientation": "v",
         "showlegend": false,
         "textposition": "auto",
         "type": "bar",
         "x": [
          "20230104_13:09:39_ITER4000_X101_wK3"
         ],
         "xaxis": "x7",
         "y": [
          40.932010947174895
         ],
         "yaxis": "y7"
        },
        {
         "alignmentgroup": "True",
         "hovertemplate": "model=%{x}<br>variable=APm<br>Average precision=%{y}<extra></extra>",
         "legendgroup": "20230104_13:09:39_ITER4000_X101_wK3",
         "marker": {
          "color": "#19d3f3",
          "pattern": {
           "shape": ""
          }
         },
         "name": "20230104_13:09:39_ITER4000_X101_wK3",
         "offsetgroup": "20230104_13:09:39_ITER4000_X101_wK3",
         "orientation": "v",
         "showlegend": false,
         "textposition": "auto",
         "type": "bar",
         "x": [
          "20230104_13:09:39_ITER4000_X101_wK3"
         ],
         "xaxis": "x9",
         "y": [
          0.7425742574257426
         ],
         "yaxis": "y9"
        },
        {
         "alignmentgroup": "True",
         "hovertemplate": "model=%{x}<br>variable=APl<br>Average precision=%{y}<extra></extra>",
         "legendgroup": "20230104_13:09:39_ITER4000_X101_wK3",
         "marker": {
          "color": "#19d3f3",
          "pattern": {
           "shape": ""
          }
         },
         "name": "20230104_13:09:39_ITER4000_X101_wK3",
         "offsetgroup": "20230104_13:09:39_ITER4000_X101_wK3",
         "orientation": "v",
         "showlegend": false,
         "textposition": "auto",
         "type": "bar",
         "x": [
          "20230104_13:09:39_ITER4000_X101_wK3"
         ],
         "xaxis": "x10",
         "y": [
          37.724495732164826
         ],
         "yaxis": "y10"
        },
        {
         "alignmentgroup": "True",
         "hovertemplate": "model=%{x}<br>variable=AP-Maybe<br>Average precision=%{y}<extra></extra>",
         "legendgroup": "20230104_13:09:39_ITER4000_X101_wK3",
         "marker": {
          "color": "#19d3f3",
          "pattern": {
           "shape": ""
          }
         },
         "name": "20230104_13:09:39_ITER4000_X101_wK3",
         "offsetgroup": "20230104_13:09:39_ITER4000_X101_wK3",
         "orientation": "v",
         "showlegend": false,
         "textposition": "auto",
         "type": "bar",
         "x": [
          "20230104_13:09:39_ITER4000_X101_wK3"
         ],
         "xaxis": "x",
         "y": [
          11.946216636719564
         ],
         "yaxis": "y"
        },
        {
         "alignmentgroup": "True",
         "hovertemplate": "model=%{x}<br>variable=AP-Yes<br>Average precision=%{y}<extra></extra>",
         "legendgroup": "20230104_13:09:39_ITER4000_X101_wK3",
         "marker": {
          "color": "#19d3f3",
          "pattern": {
           "shape": ""
          }
         },
         "name": "20230104_13:09:39_ITER4000_X101_wK3",
         "offsetgroup": "20230104_13:09:39_ITER4000_X101_wK3",
         "orientation": "v",
         "showlegend": false,
         "textposition": "auto",
         "type": "bar",
         "x": [
          "20230104_13:09:39_ITER4000_X101_wK3"
         ],
         "xaxis": "x2",
         "y": [
          34.18406483061147
         ],
         "yaxis": "y2"
        },
        {
         "alignmentgroup": "True",
         "hovertemplate": "model=%{x}<br>variable=AP-No<br>Average precision=%{y}<extra></extra>",
         "legendgroup": "20230104_13:09:39_ITER4000_X101_wK3",
         "marker": {
          "color": "#19d3f3",
          "pattern": {
           "shape": ""
          }
         },
         "name": "20230104_13:09:39_ITER4000_X101_wK3",
         "offsetgroup": "20230104_13:09:39_ITER4000_X101_wK3",
         "orientation": "v",
         "showlegend": false,
         "textposition": "auto",
         "type": "bar",
         "x": [
          "20230104_13:09:39_ITER4000_X101_wK3"
         ],
         "xaxis": "x3",
         "y": [
          66.61632524004204
         ],
         "yaxis": "y3"
        },
        {
         "alignmentgroup": "True",
         "hovertemplate": "model=%{x}<br>variable=AP50<br>Average precision=%{y}<extra></extra>",
         "legendgroup": "20230104_13:09:39_ITER4000_X101_wK3_dataugm_during_inference",
         "marker": {
          "color": "#FF6692",
          "pattern": {
           "shape": ""
          }
         },
         "name": "20230104_13:09:39_ITER4000_X101_wK3_dataugm_during_inference",
         "offsetgroup": "20230104_13:09:39_ITER4000_X101_wK3_dataugm_during_inference",
         "orientation": "v",
         "showlegend": true,
         "textposition": "auto",
         "type": "bar",
         "x": [
          "20230104_13:09:39_ITER4000_X101_wK3_dataugm_during_inference"
         ],
         "xaxis": "x6",
         "y": [
          3.4960281706726346
         ],
         "yaxis": "y6"
        },
        {
         "alignmentgroup": "True",
         "hovertemplate": "model=%{x}<br>variable=AP75<br>Average precision=%{y}<extra></extra>",
         "legendgroup": "20230104_13:09:39_ITER4000_X101_wK3_dataugm_during_inference",
         "marker": {
          "color": "#FF6692",
          "pattern": {
           "shape": ""
          }
         },
         "name": "20230104_13:09:39_ITER4000_X101_wK3_dataugm_during_inference",
         "offsetgroup": "20230104_13:09:39_ITER4000_X101_wK3_dataugm_during_inference",
         "orientation": "v",
         "showlegend": false,
         "textposition": "auto",
         "type": "bar",
         "x": [
          "20230104_13:09:39_ITER4000_X101_wK3_dataugm_during_inference"
         ],
         "xaxis": "x7",
         "y": [
          0.7933876593021854
         ],
         "yaxis": "y7"
        },
        {
         "alignmentgroup": "True",
         "hovertemplate": "model=%{x}<br>variable=APm<br>Average precision=%{y}<extra></extra>",
         "legendgroup": "20230104_13:09:39_ITER4000_X101_wK3_dataugm_during_inference",
         "marker": {
          "color": "#FF6692",
          "pattern": {
           "shape": ""
          }
         },
         "name": "20230104_13:09:39_ITER4000_X101_wK3_dataugm_during_inference",
         "offsetgroup": "20230104_13:09:39_ITER4000_X101_wK3_dataugm_during_inference",
         "orientation": "v",
         "showlegend": false,
         "textposition": "auto",
         "type": "bar",
         "x": [
          "20230104_13:09:39_ITER4000_X101_wK3_dataugm_during_inference"
         ],
         "xaxis": "x9",
         "y": [
          0.2062706270627062
         ],
         "yaxis": "y9"
        },
        {
         "alignmentgroup": "True",
         "hovertemplate": "model=%{x}<br>variable=APl<br>Average precision=%{y}<extra></extra>",
         "legendgroup": "20230104_13:09:39_ITER4000_X101_wK3_dataugm_during_inference",
         "marker": {
          "color": "#FF6692",
          "pattern": {
           "shape": ""
          }
         },
         "name": "20230104_13:09:39_ITER4000_X101_wK3_dataugm_during_inference",
         "offsetgroup": "20230104_13:09:39_ITER4000_X101_wK3_dataugm_during_inference",
         "orientation": "v",
         "showlegend": false,
         "textposition": "auto",
         "type": "bar",
         "x": [
          "20230104_13:09:39_ITER4000_X101_wK3_dataugm_during_inference"
         ],
         "xaxis": "x10",
         "y": [
          1.9151508821261605
         ],
         "yaxis": "y10"
        },
        {
         "alignmentgroup": "True",
         "hovertemplate": "model=%{x}<br>variable=AP-Maybe<br>Average precision=%{y}<extra></extra>",
         "legendgroup": "20230104_13:09:39_ITER4000_X101_wK3_dataugm_during_inference",
         "marker": {
          "color": "#FF6692",
          "pattern": {
           "shape": ""
          }
         },
         "name": "20230104_13:09:39_ITER4000_X101_wK3_dataugm_during_inference",
         "offsetgroup": "20230104_13:09:39_ITER4000_X101_wK3_dataugm_during_inference",
         "orientation": "v",
         "showlegend": false,
         "textposition": "auto",
         "type": "bar",
         "x": [
          "20230104_13:09:39_ITER4000_X101_wK3_dataugm_during_inference"
         ],
         "xaxis": "x",
         "y": [
          0.0918013357181002
         ],
         "yaxis": "y"
        },
        {
         "alignmentgroup": "True",
         "hovertemplate": "model=%{x}<br>variable=AP-Yes<br>Average precision=%{y}<extra></extra>",
         "legendgroup": "20230104_13:09:39_ITER4000_X101_wK3_dataugm_during_inference",
         "marker": {
          "color": "#FF6692",
          "pattern": {
           "shape": ""
          }
         },
         "name": "20230104_13:09:39_ITER4000_X101_wK3_dataugm_during_inference",
         "offsetgroup": "20230104_13:09:39_ITER4000_X101_wK3_dataugm_during_inference",
         "orientation": "v",
         "showlegend": false,
         "textposition": "auto",
         "type": "bar",
         "x": [
          "20230104_13:09:39_ITER4000_X101_wK3_dataugm_during_inference"
         ],
         "xaxis": "x2",
         "y": [
          2.519788880189508
         ],
         "yaxis": "y2"
        },
        {
         "alignmentgroup": "True",
         "hovertemplate": "model=%{x}<br>variable=AP-No<br>Average precision=%{y}<extra></extra>",
         "legendgroup": "20230104_13:09:39_ITER4000_X101_wK3_dataugm_during_inference",
         "marker": {
          "color": "#FF6692",
          "pattern": {
           "shape": ""
          }
         },
         "name": "20230104_13:09:39_ITER4000_X101_wK3_dataugm_during_inference",
         "offsetgroup": "20230104_13:09:39_ITER4000_X101_wK3_dataugm_during_inference",
         "orientation": "v",
         "showlegend": false,
         "textposition": "auto",
         "type": "bar",
         "x": [
          "20230104_13:09:39_ITER4000_X101_wK3_dataugm_during_inference"
         ],
         "xaxis": "x3",
         "y": [
          0.9730264206499568
         ],
         "yaxis": "y3"
        },
        {
         "alignmentgroup": "True",
         "hovertemplate": "model=%{x}<br>variable=AP50<br>Average precision=%{y}<extra></extra>",
         "legendgroup": "20230106_14:08:45_ITER5000_X101_resize4000",
         "marker": {
          "color": "#B6E880",
          "pattern": {
           "shape": ""
          }
         },
         "name": "20230106_14:08:45_ITER5000_X101_resize4000",
         "offsetgroup": "20230106_14:08:45_ITER5000_X101_resize4000",
         "orientation": "v",
         "showlegend": true,
         "textposition": "auto",
         "type": "bar",
         "x": [
          "20230106_14:08:45_ITER5000_X101_resize4000"
         ],
         "xaxis": "x6",
         "y": [
          64.71051939587672
         ],
         "yaxis": "y6"
        },
        {
         "alignmentgroup": "True",
         "hovertemplate": "model=%{x}<br>variable=AP75<br>Average precision=%{y}<extra></extra>",
         "legendgroup": "20230106_14:08:45_ITER5000_X101_resize4000",
         "marker": {
          "color": "#B6E880",
          "pattern": {
           "shape": ""
          }
         },
         "name": "20230106_14:08:45_ITER5000_X101_resize4000",
         "offsetgroup": "20230106_14:08:45_ITER5000_X101_resize4000",
         "orientation": "v",
         "showlegend": false,
         "textposition": "auto",
         "type": "bar",
         "x": [
          "20230106_14:08:45_ITER5000_X101_resize4000"
         ],
         "xaxis": "x7",
         "y": [
          42.07025084387423
         ],
         "yaxis": "y7"
        },
        {
         "alignmentgroup": "True",
         "hovertemplate": "model=%{x}<br>variable=APm<br>Average precision=%{y}<extra></extra>",
         "legendgroup": "20230106_14:08:45_ITER5000_X101_resize4000",
         "marker": {
          "color": "#B6E880",
          "pattern": {
           "shape": ""
          }
         },
         "name": "20230106_14:08:45_ITER5000_X101_resize4000",
         "offsetgroup": "20230106_14:08:45_ITER5000_X101_resize4000",
         "orientation": "v",
         "showlegend": false,
         "textposition": "auto",
         "type": "bar",
         "x": [
          "20230106_14:08:45_ITER5000_X101_resize4000"
         ],
         "xaxis": "x9",
         "y": [
          2.2277227722772275
         ],
         "yaxis": "y9"
        },
        {
         "alignmentgroup": "True",
         "hovertemplate": "model=%{x}<br>variable=APl<br>Average precision=%{y}<extra></extra>",
         "legendgroup": "20230106_14:08:45_ITER5000_X101_resize4000",
         "marker": {
          "color": "#B6E880",
          "pattern": {
           "shape": ""
          }
         },
         "name": "20230106_14:08:45_ITER5000_X101_resize4000",
         "offsetgroup": "20230106_14:08:45_ITER5000_X101_resize4000",
         "orientation": "v",
         "showlegend": false,
         "textposition": "auto",
         "type": "bar",
         "x": [
          "20230106_14:08:45_ITER5000_X101_resize4000"
         ],
         "xaxis": "x10",
         "y": [
          38.78113824509307
         ],
         "yaxis": "y10"
        },
        {
         "alignmentgroup": "True",
         "hovertemplate": "model=%{x}<br>variable=AP-Maybe<br>Average precision=%{y}<extra></extra>",
         "legendgroup": "20230106_14:08:45_ITER5000_X101_resize4000",
         "marker": {
          "color": "#B6E880",
          "pattern": {
           "shape": ""
          }
         },
         "name": "20230106_14:08:45_ITER5000_X101_resize4000",
         "offsetgroup": "20230106_14:08:45_ITER5000_X101_resize4000",
         "orientation": "v",
         "showlegend": false,
         "textposition": "auto",
         "type": "bar",
         "x": [
          "20230106_14:08:45_ITER5000_X101_resize4000"
         ],
         "xaxis": "x",
         "y": [
          13.81304631000216
         ],
         "yaxis": "y"
        },
        {
         "alignmentgroup": "True",
         "hovertemplate": "model=%{x}<br>variable=AP-Yes<br>Average precision=%{y}<extra></extra>",
         "legendgroup": "20230106_14:08:45_ITER5000_X101_resize4000",
         "marker": {
          "color": "#B6E880",
          "pattern": {
           "shape": ""
          }
         },
         "name": "20230106_14:08:45_ITER5000_X101_resize4000",
         "offsetgroup": "20230106_14:08:45_ITER5000_X101_resize4000",
         "orientation": "v",
         "showlegend": false,
         "textposition": "auto",
         "type": "bar",
         "x": [
          "20230106_14:08:45_ITER5000_X101_resize4000"
         ],
         "xaxis": "x2",
         "y": [
          36.74624992181313
         ],
         "yaxis": "y2"
        },
        {
         "alignmentgroup": "True",
         "hovertemplate": "model=%{x}<br>variable=AP-No<br>Average precision=%{y}<extra></extra>",
         "legendgroup": "20230106_14:08:45_ITER5000_X101_resize4000",
         "marker": {
          "color": "#B6E880",
          "pattern": {
           "shape": ""
          }
         },
         "name": "20230106_14:08:45_ITER5000_X101_resize4000",
         "offsetgroup": "20230106_14:08:45_ITER5000_X101_resize4000",
         "orientation": "v",
         "showlegend": false,
         "textposition": "auto",
         "type": "bar",
         "x": [
          "20230106_14:08:45_ITER5000_X101_resize4000"
         ],
         "xaxis": "x3",
         "y": [
          65.24072458893504
         ],
         "yaxis": "y3"
        },
        {
         "alignmentgroup": "True",
         "hovertemplate": "model=%{x}<br>variable=AP50<br>Average precision=%{y}<extra></extra>",
         "legendgroup": "20230207_07:09:07_X101_allsamples_ITER5000",
         "marker": {
          "color": "#FF97FF",
          "pattern": {
           "shape": ""
          }
         },
         "name": "20230207_07:09:07_X101_allsamples_ITER5000",
         "offsetgroup": "20230207_07:09:07_X101_allsamples_ITER5000",
         "orientation": "v",
         "showlegend": true,
         "textposition": "auto",
         "type": "bar",
         "x": [
          "20230207_07:09:07_X101_allsamples_ITER5000"
         ],
         "xaxis": "x6",
         "y": [
          15.642384638570269
         ],
         "yaxis": "y6"
        },
        {
         "alignmentgroup": "True",
         "hovertemplate": "model=%{x}<br>variable=AP75<br>Average precision=%{y}<extra></extra>",
         "legendgroup": "20230207_07:09:07_X101_allsamples_ITER5000",
         "marker": {
          "color": "#FF97FF",
          "pattern": {
           "shape": ""
          }
         },
         "name": "20230207_07:09:07_X101_allsamples_ITER5000",
         "offsetgroup": "20230207_07:09:07_X101_allsamples_ITER5000",
         "orientation": "v",
         "showlegend": false,
         "textposition": "auto",
         "type": "bar",
         "x": [
          "20230207_07:09:07_X101_allsamples_ITER5000"
         ],
         "xaxis": "x7",
         "y": [
          7.22215495675148
         ],
         "yaxis": "y7"
        },
        {
         "alignmentgroup": "True",
         "hovertemplate": "model=%{x}<br>variable=APs<br>Average precision=%{y}<extra></extra>",
         "legendgroup": "20230207_07:09:07_X101_allsamples_ITER5000",
         "marker": {
          "color": "#FF97FF",
          "pattern": {
           "shape": ""
          }
         },
         "name": "20230207_07:09:07_X101_allsamples_ITER5000",
         "offsetgroup": "20230207_07:09:07_X101_allsamples_ITER5000",
         "orientation": "v",
         "showlegend": false,
         "textposition": "auto",
         "type": "bar",
         "x": [
          "20230207_07:09:07_X101_allsamples_ITER5000"
         ],
         "xaxis": "x8",
         "y": [
          14.830624571891152
         ],
         "yaxis": "y8"
        },
        {
         "alignmentgroup": "True",
         "hovertemplate": "model=%{x}<br>variable=APm<br>Average precision=%{y}<extra></extra>",
         "legendgroup": "20230207_07:09:07_X101_allsamples_ITER5000",
         "marker": {
          "color": "#FF97FF",
          "pattern": {
           "shape": ""
          }
         },
         "name": "20230207_07:09:07_X101_allsamples_ITER5000",
         "offsetgroup": "20230207_07:09:07_X101_allsamples_ITER5000",
         "orientation": "v",
         "showlegend": false,
         "textposition": "auto",
         "type": "bar",
         "x": [
          "20230207_07:09:07_X101_allsamples_ITER5000"
         ],
         "xaxis": "x9",
         "y": [
          4.185910632826114
         ],
         "yaxis": "y9"
        },
        {
         "alignmentgroup": "True",
         "hovertemplate": "model=%{x}<br>variable=APl<br>Average precision=%{y}<extra></extra>",
         "legendgroup": "20230207_07:09:07_X101_allsamples_ITER5000",
         "marker": {
          "color": "#FF97FF",
          "pattern": {
           "shape": ""
          }
         },
         "name": "20230207_07:09:07_X101_allsamples_ITER5000",
         "offsetgroup": "20230207_07:09:07_X101_allsamples_ITER5000",
         "orientation": "v",
         "showlegend": false,
         "textposition": "auto",
         "type": "bar",
         "x": [
          "20230207_07:09:07_X101_allsamples_ITER5000"
         ],
         "xaxis": "x10",
         "y": [
          8.447344602535319
         ],
         "yaxis": "y10"
        },
        {
         "alignmentgroup": "True",
         "hovertemplate": "model=%{x}<br>variable=AP-Maybe<br>Average precision=%{y}<extra></extra>",
         "legendgroup": "20230207_07:09:07_X101_allsamples_ITER5000",
         "marker": {
          "color": "#FF97FF",
          "pattern": {
           "shape": ""
          }
         },
         "name": "20230207_07:09:07_X101_allsamples_ITER5000",
         "offsetgroup": "20230207_07:09:07_X101_allsamples_ITER5000",
         "orientation": "v",
         "showlegend": false,
         "textposition": "auto",
         "type": "bar",
         "x": [
          "20230207_07:09:07_X101_allsamples_ITER5000"
         ],
         "xaxis": "x",
         "y": [
          0.261108619655817
         ],
         "yaxis": "y"
        },
        {
         "alignmentgroup": "True",
         "hovertemplate": "model=%{x}<br>variable=AP-Yes<br>Average precision=%{y}<extra></extra>",
         "legendgroup": "20230207_07:09:07_X101_allsamples_ITER5000",
         "marker": {
          "color": "#FF97FF",
          "pattern": {
           "shape": ""
          }
         },
         "name": "20230207_07:09:07_X101_allsamples_ITER5000",
         "offsetgroup": "20230207_07:09:07_X101_allsamples_ITER5000",
         "orientation": "v",
         "showlegend": false,
         "textposition": "auto",
         "type": "bar",
         "x": [
          "20230207_07:09:07_X101_allsamples_ITER5000"
         ],
         "xaxis": "x2",
         "y": [
          22.50389370039
         ],
         "yaxis": "y2"
        },
        {
         "alignmentgroup": "True",
         "hovertemplate": "model=%{x}<br>variable=AP-No<br>Average precision=%{y}<extra></extra>",
         "legendgroup": "20230207_07:09:07_X101_allsamples_ITER5000",
         "marker": {
          "color": "#FF97FF",
          "pattern": {
           "shape": ""
          }
         },
         "name": "20230207_07:09:07_X101_allsamples_ITER5000",
         "offsetgroup": "20230207_07:09:07_X101_allsamples_ITER5000",
         "orientation": "v",
         "showlegend": false,
         "textposition": "auto",
         "type": "bar",
         "x": [
          "20230207_07:09:07_X101_allsamples_ITER5000"
         ],
         "xaxis": "x3",
         "y": [
          0.8996533879405083
         ],
         "yaxis": "y3"
        },
        {
         "alignmentgroup": "True",
         "hovertemplate": "model=%{x}<br>variable=AP50<br>Average precision=%{y}<extra></extra>",
         "legendgroup": "20230321_08:16:40_X101_allsamples_ITER5000_resize3000_balance_dataset",
         "marker": {
          "color": "#FECB52",
          "pattern": {
           "shape": ""
          }
         },
         "name": "20230321_08:16:40_X101_allsamples_ITER5000_resize3000_balance_dataset",
         "offsetgroup": "20230321_08:16:40_X101_allsamples_ITER5000_resize3000_balance_dataset",
         "orientation": "v",
         "showlegend": true,
         "textposition": "auto",
         "type": "bar",
         "x": [
          "20230321_08:16:40_X101_allsamples_ITER5000_resize3000_balance_dataset"
         ],
         "xaxis": "x6",
         "y": [
          69.90587761007467
         ],
         "yaxis": "y6"
        },
        {
         "alignmentgroup": "True",
         "hovertemplate": "model=%{x}<br>variable=AP75<br>Average precision=%{y}<extra></extra>",
         "legendgroup": "20230321_08:16:40_X101_allsamples_ITER5000_resize3000_balance_dataset",
         "marker": {
          "color": "#FECB52",
          "pattern": {
           "shape": ""
          }
         },
         "name": "20230321_08:16:40_X101_allsamples_ITER5000_resize3000_balance_dataset",
         "offsetgroup": "20230321_08:16:40_X101_allsamples_ITER5000_resize3000_balance_dataset",
         "orientation": "v",
         "showlegend": false,
         "textposition": "auto",
         "type": "bar",
         "x": [
          "20230321_08:16:40_X101_allsamples_ITER5000_resize3000_balance_dataset"
         ],
         "xaxis": "x7",
         "y": [
          47.84221019721488
         ],
         "yaxis": "y7"
        },
        {
         "alignmentgroup": "True",
         "hovertemplate": "model=%{x}<br>variable=APl<br>Average precision=%{y}<extra></extra>",
         "legendgroup": "20230321_08:16:40_X101_allsamples_ITER5000_resize3000_balance_dataset",
         "marker": {
          "color": "#FECB52",
          "pattern": {
           "shape": ""
          }
         },
         "name": "20230321_08:16:40_X101_allsamples_ITER5000_resize3000_balance_dataset",
         "offsetgroup": "20230321_08:16:40_X101_allsamples_ITER5000_resize3000_balance_dataset",
         "orientation": "v",
         "showlegend": false,
         "textposition": "auto",
         "type": "bar",
         "x": [
          "20230321_08:16:40_X101_allsamples_ITER5000_resize3000_balance_dataset"
         ],
         "xaxis": "x10",
         "y": [
          43.529163373933365
         ],
         "yaxis": "y10"
        },
        {
         "alignmentgroup": "True",
         "hovertemplate": "model=%{x}<br>variable=AP-Maybe<br>Average precision=%{y}<extra></extra>",
         "legendgroup": "20230321_08:16:40_X101_allsamples_ITER5000_resize3000_balance_dataset",
         "marker": {
          "color": "#FECB52",
          "pattern": {
           "shape": ""
          }
         },
         "name": "20230321_08:16:40_X101_allsamples_ITER5000_resize3000_balance_dataset",
         "offsetgroup": "20230321_08:16:40_X101_allsamples_ITER5000_resize3000_balance_dataset",
         "orientation": "v",
         "showlegend": false,
         "textposition": "auto",
         "type": "bar",
         "x": [
          "20230321_08:16:40_X101_allsamples_ITER5000_resize3000_balance_dataset"
         ],
         "xaxis": "x",
         "y": [
          41.66579585745637
         ],
         "yaxis": "y"
        },
        {
         "alignmentgroup": "True",
         "hovertemplate": "model=%{x}<br>variable=AP-Yes<br>Average precision=%{y}<extra></extra>",
         "legendgroup": "20230321_08:16:40_X101_allsamples_ITER5000_resize3000_balance_dataset",
         "marker": {
          "color": "#FECB52",
          "pattern": {
           "shape": ""
          }
         },
         "name": "20230321_08:16:40_X101_allsamples_ITER5000_resize3000_balance_dataset",
         "offsetgroup": "20230321_08:16:40_X101_allsamples_ITER5000_resize3000_balance_dataset",
         "orientation": "v",
         "showlegend": false,
         "textposition": "auto",
         "type": "bar",
         "x": [
          "20230321_08:16:40_X101_allsamples_ITER5000_resize3000_balance_dataset"
         ],
         "xaxis": "x2",
         "y": [
          29.05277717267519
         ],
         "yaxis": "y2"
        },
        {
         "alignmentgroup": "True",
         "hovertemplate": "model=%{x}<br>variable=AP-No<br>Average precision=%{y}<extra></extra>",
         "legendgroup": "20230321_08:16:40_X101_allsamples_ITER5000_resize3000_balance_dataset",
         "marker": {
          "color": "#FECB52",
          "pattern": {
           "shape": ""
          }
         },
         "name": "20230321_08:16:40_X101_allsamples_ITER5000_resize3000_balance_dataset",
         "offsetgroup": "20230321_08:16:40_X101_allsamples_ITER5000_resize3000_balance_dataset",
         "orientation": "v",
         "showlegend": false,
         "textposition": "auto",
         "type": "bar",
         "x": [
          "20230321_08:16:40_X101_allsamples_ITER5000_resize3000_balance_dataset"
         ],
         "xaxis": "x3",
         "y": [
          59.85948887298687
         ],
         "yaxis": "y3"
        },
        {
         "alignmentgroup": "True",
         "hovertemplate": "model=%{x}<br>variable=AP50<br>Average precision=%{y}<extra></extra>",
         "legendgroup": "20230406_13:51:27_cityscapes_balanced_datasetITER8000",
         "marker": {
          "color": "#636efa",
          "pattern": {
           "shape": ""
          }
         },
         "name": "20230406_13:51:27_cityscapes_balanced_datasetITER8000",
         "offsetgroup": "20230406_13:51:27_cityscapes_balanced_datasetITER8000",
         "orientation": "v",
         "showlegend": true,
         "textposition": "auto",
         "type": "bar",
         "x": [
          "20230406_13:51:27_cityscapes_balanced_datasetITER8000"
         ],
         "xaxis": "x6",
         "y": [
          71.0898
         ],
         "yaxis": "y6"
        },
        {
         "alignmentgroup": "True",
         "hovertemplate": "model=%{x}<br>variable=AP75<br>Average precision=%{y}<extra></extra>",
         "legendgroup": "20230406_13:51:27_cityscapes_balanced_datasetITER8000",
         "marker": {
          "color": "#636efa",
          "pattern": {
           "shape": ""
          }
         },
         "name": "20230406_13:51:27_cityscapes_balanced_datasetITER8000",
         "offsetgroup": "20230406_13:51:27_cityscapes_balanced_datasetITER8000",
         "orientation": "v",
         "showlegend": false,
         "textposition": "auto",
         "type": "bar",
         "x": [
          "20230406_13:51:27_cityscapes_balanced_datasetITER8000"
         ],
         "xaxis": "x7",
         "y": [
          50.1134
         ],
         "yaxis": "y7"
        },
        {
         "alignmentgroup": "True",
         "hovertemplate": "model=%{x}<br>variable=APl<br>Average precision=%{y}<extra></extra>",
         "legendgroup": "20230406_13:51:27_cityscapes_balanced_datasetITER8000",
         "marker": {
          "color": "#636efa",
          "pattern": {
           "shape": ""
          }
         },
         "name": "20230406_13:51:27_cityscapes_balanced_datasetITER8000",
         "offsetgroup": "20230406_13:51:27_cityscapes_balanced_datasetITER8000",
         "orientation": "v",
         "showlegend": false,
         "textposition": "auto",
         "type": "bar",
         "x": [
          "20230406_13:51:27_cityscapes_balanced_datasetITER8000"
         ],
         "xaxis": "x10",
         "y": [
          43.7196
         ],
         "yaxis": "y10"
        },
        {
         "alignmentgroup": "True",
         "hovertemplate": "model=%{x}<br>variable=AP-Maybe<br>Average precision=%{y}<extra></extra>",
         "legendgroup": "20230406_13:51:27_cityscapes_balanced_datasetITER8000",
         "marker": {
          "color": "#636efa",
          "pattern": {
           "shape": ""
          }
         },
         "name": "20230406_13:51:27_cityscapes_balanced_datasetITER8000",
         "offsetgroup": "20230406_13:51:27_cityscapes_balanced_datasetITER8000",
         "orientation": "v",
         "showlegend": false,
         "textposition": "auto",
         "type": "bar",
         "x": [
          "20230406_13:51:27_cityscapes_balanced_datasetITER8000"
         ],
         "xaxis": "x",
         "y": [
          45.714
         ],
         "yaxis": "y"
        },
        {
         "alignmentgroup": "True",
         "hovertemplate": "model=%{x}<br>variable=AP-Yes<br>Average precision=%{y}<extra></extra>",
         "legendgroup": "20230406_13:51:27_cityscapes_balanced_datasetITER8000",
         "marker": {
          "color": "#636efa",
          "pattern": {
           "shape": ""
          }
         },
         "name": "20230406_13:51:27_cityscapes_balanced_datasetITER8000",
         "offsetgroup": "20230406_13:51:27_cityscapes_balanced_datasetITER8000",
         "orientation": "v",
         "showlegend": false,
         "textposition": "auto",
         "type": "bar",
         "x": [
          "20230406_13:51:27_cityscapes_balanced_datasetITER8000"
         ],
         "xaxis": "x2",
         "y": [
          33.67
         ],
         "yaxis": "y2"
        },
        {
         "alignmentgroup": "True",
         "hovertemplate": "model=%{x}<br>variable=AP-No<br>Average precision=%{y}<extra></extra>",
         "legendgroup": "20230406_13:51:27_cityscapes_balanced_datasetITER8000",
         "marker": {
          "color": "#636efa",
          "pattern": {
           "shape": ""
          }
         },
         "name": "20230406_13:51:27_cityscapes_balanced_datasetITER8000",
         "offsetgroup": "20230406_13:51:27_cityscapes_balanced_datasetITER8000",
         "orientation": "v",
         "showlegend": false,
         "textposition": "auto",
         "type": "bar",
         "x": [
          "20230406_13:51:27_cityscapes_balanced_datasetITER8000"
         ],
         "xaxis": "x3",
         "y": [
          51.365
         ],
         "yaxis": "y3"
        }
       ],
       "layout": {
        "annotations": [
         {
          "font": {},
          "showarrow": false,
          "text": "AP-Maybe",
          "x": 0.084,
          "xanchor": "center",
          "xref": "paper",
          "y": 0.48,
          "yanchor": "bottom",
          "yref": "paper"
         },
         {
          "font": {},
          "showarrow": false,
          "text": "AP-Yes",
          "x": 0.29200000000000004,
          "xanchor": "center",
          "xref": "paper",
          "y": 0.48,
          "yanchor": "bottom",
          "yref": "paper"
         },
         {
          "font": {},
          "showarrow": false,
          "text": "AP-No",
          "x": 0.5,
          "xanchor": "center",
          "xref": "paper",
          "y": 0.48,
          "yanchor": "bottom",
          "yref": "paper"
         },
         {
          "font": {},
          "showarrow": false,
          "text": "AP50",
          "x": 0.084,
          "xanchor": "center",
          "xref": "paper",
          "y": 1,
          "yanchor": "bottom",
          "yref": "paper"
         },
         {
          "font": {},
          "showarrow": false,
          "text": "AP75",
          "x": 0.29200000000000004,
          "xanchor": "center",
          "xref": "paper",
          "y": 1,
          "yanchor": "bottom",
          "yref": "paper"
         },
         {
          "font": {},
          "showarrow": false,
          "text": "APs",
          "x": 0.5,
          "xanchor": "center",
          "xref": "paper",
          "y": 1,
          "yanchor": "bottom",
          "yref": "paper"
         },
         {
          "font": {},
          "showarrow": false,
          "text": "APm",
          "x": 0.708,
          "xanchor": "center",
          "xref": "paper",
          "y": 1,
          "yanchor": "bottom",
          "yref": "paper"
         },
         {
          "font": {},
          "showarrow": false,
          "text": "APl",
          "x": 0.916,
          "xanchor": "center",
          "xref": "paper",
          "y": 1,
          "yanchor": "bottom",
          "yref": "paper"
         }
        ],
        "barmode": "relative",
        "height": 2000,
        "legend": {
         "title": {
          "text": "model"
         },
         "tracegroupgap": 0
        },
        "template": {
         "data": {
          "bar": [
           {
            "error_x": {
             "color": "#2a3f5f"
            },
            "error_y": {
             "color": "#2a3f5f"
            },
            "marker": {
             "line": {
              "color": "#E5ECF6",
              "width": 0.5
             },
             "pattern": {
              "fillmode": "overlay",
              "size": 10,
              "solidity": 0.2
             }
            },
            "type": "bar"
           }
          ],
          "barpolar": [
           {
            "marker": {
             "line": {
              "color": "#E5ECF6",
              "width": 0.5
             },
             "pattern": {
              "fillmode": "overlay",
              "size": 10,
              "solidity": 0.2
             }
            },
            "type": "barpolar"
           }
          ],
          "carpet": [
           {
            "aaxis": {
             "endlinecolor": "#2a3f5f",
             "gridcolor": "white",
             "linecolor": "white",
             "minorgridcolor": "white",
             "startlinecolor": "#2a3f5f"
            },
            "baxis": {
             "endlinecolor": "#2a3f5f",
             "gridcolor": "white",
             "linecolor": "white",
             "minorgridcolor": "white",
             "startlinecolor": "#2a3f5f"
            },
            "type": "carpet"
           }
          ],
          "choropleth": [
           {
            "colorbar": {
             "outlinewidth": 0,
             "ticks": ""
            },
            "type": "choropleth"
           }
          ],
          "contour": [
           {
            "colorbar": {
             "outlinewidth": 0,
             "ticks": ""
            },
            "colorscale": [
             [
              0,
              "#0d0887"
             ],
             [
              0.1111111111111111,
              "#46039f"
             ],
             [
              0.2222222222222222,
              "#7201a8"
             ],
             [
              0.3333333333333333,
              "#9c179e"
             ],
             [
              0.4444444444444444,
              "#bd3786"
             ],
             [
              0.5555555555555556,
              "#d8576b"
             ],
             [
              0.6666666666666666,
              "#ed7953"
             ],
             [
              0.7777777777777778,
              "#fb9f3a"
             ],
             [
              0.8888888888888888,
              "#fdca26"
             ],
             [
              1,
              "#f0f921"
             ]
            ],
            "type": "contour"
           }
          ],
          "contourcarpet": [
           {
            "colorbar": {
             "outlinewidth": 0,
             "ticks": ""
            },
            "type": "contourcarpet"
           }
          ],
          "heatmap": [
           {
            "colorbar": {
             "outlinewidth": 0,
             "ticks": ""
            },
            "colorscale": [
             [
              0,
              "#0d0887"
             ],
             [
              0.1111111111111111,
              "#46039f"
             ],
             [
              0.2222222222222222,
              "#7201a8"
             ],
             [
              0.3333333333333333,
              "#9c179e"
             ],
             [
              0.4444444444444444,
              "#bd3786"
             ],
             [
              0.5555555555555556,
              "#d8576b"
             ],
             [
              0.6666666666666666,
              "#ed7953"
             ],
             [
              0.7777777777777778,
              "#fb9f3a"
             ],
             [
              0.8888888888888888,
              "#fdca26"
             ],
             [
              1,
              "#f0f921"
             ]
            ],
            "type": "heatmap"
           }
          ],
          "heatmapgl": [
           {
            "colorbar": {
             "outlinewidth": 0,
             "ticks": ""
            },
            "colorscale": [
             [
              0,
              "#0d0887"
             ],
             [
              0.1111111111111111,
              "#46039f"
             ],
             [
              0.2222222222222222,
              "#7201a8"
             ],
             [
              0.3333333333333333,
              "#9c179e"
             ],
             [
              0.4444444444444444,
              "#bd3786"
             ],
             [
              0.5555555555555556,
              "#d8576b"
             ],
             [
              0.6666666666666666,
              "#ed7953"
             ],
             [
              0.7777777777777778,
              "#fb9f3a"
             ],
             [
              0.8888888888888888,
              "#fdca26"
             ],
             [
              1,
              "#f0f921"
             ]
            ],
            "type": "heatmapgl"
           }
          ],
          "histogram": [
           {
            "marker": {
             "pattern": {
              "fillmode": "overlay",
              "size": 10,
              "solidity": 0.2
             }
            },
            "type": "histogram"
           }
          ],
          "histogram2d": [
           {
            "colorbar": {
             "outlinewidth": 0,
             "ticks": ""
            },
            "colorscale": [
             [
              0,
              "#0d0887"
             ],
             [
              0.1111111111111111,
              "#46039f"
             ],
             [
              0.2222222222222222,
              "#7201a8"
             ],
             [
              0.3333333333333333,
              "#9c179e"
             ],
             [
              0.4444444444444444,
              "#bd3786"
             ],
             [
              0.5555555555555556,
              "#d8576b"
             ],
             [
              0.6666666666666666,
              "#ed7953"
             ],
             [
              0.7777777777777778,
              "#fb9f3a"
             ],
             [
              0.8888888888888888,
              "#fdca26"
             ],
             [
              1,
              "#f0f921"
             ]
            ],
            "type": "histogram2d"
           }
          ],
          "histogram2dcontour": [
           {
            "colorbar": {
             "outlinewidth": 0,
             "ticks": ""
            },
            "colorscale": [
             [
              0,
              "#0d0887"
             ],
             [
              0.1111111111111111,
              "#46039f"
             ],
             [
              0.2222222222222222,
              "#7201a8"
             ],
             [
              0.3333333333333333,
              "#9c179e"
             ],
             [
              0.4444444444444444,
              "#bd3786"
             ],
             [
              0.5555555555555556,
              "#d8576b"
             ],
             [
              0.6666666666666666,
              "#ed7953"
             ],
             [
              0.7777777777777778,
              "#fb9f3a"
             ],
             [
              0.8888888888888888,
              "#fdca26"
             ],
             [
              1,
              "#f0f921"
             ]
            ],
            "type": "histogram2dcontour"
           }
          ],
          "mesh3d": [
           {
            "colorbar": {
             "outlinewidth": 0,
             "ticks": ""
            },
            "type": "mesh3d"
           }
          ],
          "parcoords": [
           {
            "line": {
             "colorbar": {
              "outlinewidth": 0,
              "ticks": ""
             }
            },
            "type": "parcoords"
           }
          ],
          "pie": [
           {
            "automargin": true,
            "type": "pie"
           }
          ],
          "scatter": [
           {
            "fillpattern": {
             "fillmode": "overlay",
             "size": 10,
             "solidity": 0.2
            },
            "type": "scatter"
           }
          ],
          "scatter3d": [
           {
            "line": {
             "colorbar": {
              "outlinewidth": 0,
              "ticks": ""
             }
            },
            "marker": {
             "colorbar": {
              "outlinewidth": 0,
              "ticks": ""
             }
            },
            "type": "scatter3d"
           }
          ],
          "scattercarpet": [
           {
            "marker": {
             "colorbar": {
              "outlinewidth": 0,
              "ticks": ""
             }
            },
            "type": "scattercarpet"
           }
          ],
          "scattergeo": [
           {
            "marker": {
             "colorbar": {
              "outlinewidth": 0,
              "ticks": ""
             }
            },
            "type": "scattergeo"
           }
          ],
          "scattergl": [
           {
            "marker": {
             "colorbar": {
              "outlinewidth": 0,
              "ticks": ""
             }
            },
            "type": "scattergl"
           }
          ],
          "scattermapbox": [
           {
            "marker": {
             "colorbar": {
              "outlinewidth": 0,
              "ticks": ""
             }
            },
            "type": "scattermapbox"
           }
          ],
          "scatterpolar": [
           {
            "marker": {
             "colorbar": {
              "outlinewidth": 0,
              "ticks": ""
             }
            },
            "type": "scatterpolar"
           }
          ],
          "scatterpolargl": [
           {
            "marker": {
             "colorbar": {
              "outlinewidth": 0,
              "ticks": ""
             }
            },
            "type": "scatterpolargl"
           }
          ],
          "scatterternary": [
           {
            "marker": {
             "colorbar": {
              "outlinewidth": 0,
              "ticks": ""
             }
            },
            "type": "scatterternary"
           }
          ],
          "surface": [
           {
            "colorbar": {
             "outlinewidth": 0,
             "ticks": ""
            },
            "colorscale": [
             [
              0,
              "#0d0887"
             ],
             [
              0.1111111111111111,
              "#46039f"
             ],
             [
              0.2222222222222222,
              "#7201a8"
             ],
             [
              0.3333333333333333,
              "#9c179e"
             ],
             [
              0.4444444444444444,
              "#bd3786"
             ],
             [
              0.5555555555555556,
              "#d8576b"
             ],
             [
              0.6666666666666666,
              "#ed7953"
             ],
             [
              0.7777777777777778,
              "#fb9f3a"
             ],
             [
              0.8888888888888888,
              "#fdca26"
             ],
             [
              1,
              "#f0f921"
             ]
            ],
            "type": "surface"
           }
          ],
          "table": [
           {
            "cells": {
             "fill": {
              "color": "#EBF0F8"
             },
             "line": {
              "color": "white"
             }
            },
            "header": {
             "fill": {
              "color": "#C8D4E3"
             },
             "line": {
              "color": "white"
             }
            },
            "type": "table"
           }
          ]
         },
         "layout": {
          "annotationdefaults": {
           "arrowcolor": "#2a3f5f",
           "arrowhead": 0,
           "arrowwidth": 1
          },
          "autotypenumbers": "strict",
          "coloraxis": {
           "colorbar": {
            "outlinewidth": 0,
            "ticks": ""
           }
          },
          "colorscale": {
           "diverging": [
            [
             0,
             "#8e0152"
            ],
            [
             0.1,
             "#c51b7d"
            ],
            [
             0.2,
             "#de77ae"
            ],
            [
             0.3,
             "#f1b6da"
            ],
            [
             0.4,
             "#fde0ef"
            ],
            [
             0.5,
             "#f7f7f7"
            ],
            [
             0.6,
             "#e6f5d0"
            ],
            [
             0.7,
             "#b8e186"
            ],
            [
             0.8,
             "#7fbc41"
            ],
            [
             0.9,
             "#4d9221"
            ],
            [
             1,
             "#276419"
            ]
           ],
           "sequential": [
            [
             0,
             "#0d0887"
            ],
            [
             0.1111111111111111,
             "#46039f"
            ],
            [
             0.2222222222222222,
             "#7201a8"
            ],
            [
             0.3333333333333333,
             "#9c179e"
            ],
            [
             0.4444444444444444,
             "#bd3786"
            ],
            [
             0.5555555555555556,
             "#d8576b"
            ],
            [
             0.6666666666666666,
             "#ed7953"
            ],
            [
             0.7777777777777778,
             "#fb9f3a"
            ],
            [
             0.8888888888888888,
             "#fdca26"
            ],
            [
             1,
             "#f0f921"
            ]
           ],
           "sequentialminus": [
            [
             0,
             "#0d0887"
            ],
            [
             0.1111111111111111,
             "#46039f"
            ],
            [
             0.2222222222222222,
             "#7201a8"
            ],
            [
             0.3333333333333333,
             "#9c179e"
            ],
            [
             0.4444444444444444,
             "#bd3786"
            ],
            [
             0.5555555555555556,
             "#d8576b"
            ],
            [
             0.6666666666666666,
             "#ed7953"
            ],
            [
             0.7777777777777778,
             "#fb9f3a"
            ],
            [
             0.8888888888888888,
             "#fdca26"
            ],
            [
             1,
             "#f0f921"
            ]
           ]
          },
          "colorway": [
           "#636efa",
           "#EF553B",
           "#00cc96",
           "#ab63fa",
           "#FFA15A",
           "#19d3f3",
           "#FF6692",
           "#B6E880",
           "#FF97FF",
           "#FECB52"
          ],
          "font": {
           "color": "#2a3f5f"
          },
          "geo": {
           "bgcolor": "white",
           "lakecolor": "white",
           "landcolor": "#E5ECF6",
           "showlakes": true,
           "showland": true,
           "subunitcolor": "white"
          },
          "hoverlabel": {
           "align": "left"
          },
          "hovermode": "closest",
          "mapbox": {
           "style": "light"
          },
          "paper_bgcolor": "white",
          "plot_bgcolor": "#E5ECF6",
          "polar": {
           "angularaxis": {
            "gridcolor": "white",
            "linecolor": "white",
            "ticks": ""
           },
           "bgcolor": "#E5ECF6",
           "radialaxis": {
            "gridcolor": "white",
            "linecolor": "white",
            "ticks": ""
           }
          },
          "scene": {
           "xaxis": {
            "backgroundcolor": "#E5ECF6",
            "gridcolor": "white",
            "gridwidth": 2,
            "linecolor": "white",
            "showbackground": true,
            "ticks": "",
            "zerolinecolor": "white"
           },
           "yaxis": {
            "backgroundcolor": "#E5ECF6",
            "gridcolor": "white",
            "gridwidth": 2,
            "linecolor": "white",
            "showbackground": true,
            "ticks": "",
            "zerolinecolor": "white"
           },
           "zaxis": {
            "backgroundcolor": "#E5ECF6",
            "gridcolor": "white",
            "gridwidth": 2,
            "linecolor": "white",
            "showbackground": true,
            "ticks": "",
            "zerolinecolor": "white"
           }
          },
          "shapedefaults": {
           "line": {
            "color": "#2a3f5f"
           }
          },
          "ternary": {
           "aaxis": {
            "gridcolor": "white",
            "linecolor": "white",
            "ticks": ""
           },
           "baxis": {
            "gridcolor": "white",
            "linecolor": "white",
            "ticks": ""
           },
           "bgcolor": "#E5ECF6",
           "caxis": {
            "gridcolor": "white",
            "linecolor": "white",
            "ticks": ""
           }
          },
          "title": {
           "x": 0.05
          },
          "xaxis": {
           "automargin": true,
           "gridcolor": "white",
           "linecolor": "white",
           "ticks": "",
           "title": {
            "standoff": 15
           },
           "zerolinecolor": "white",
           "zerolinewidth": 2
          },
          "yaxis": {
           "automargin": true,
           "gridcolor": "white",
           "linecolor": "white",
           "ticks": "",
           "title": {
            "standoff": 15
           },
           "zerolinecolor": "white",
           "zerolinewidth": 2
          }
         }
        },
        "title": {
         "text": "Average precision"
        },
        "width": 1500,
        "xaxis": {
         "anchor": "y",
         "categoryarray": [
          "20221201_18:21:50_ITER10000_X101_DATAUGM",
          "20221202_16:10:14_ITER10000_X101",
          "20221206_17:50:40_ITER20000_X101",
          "20221212_11:24:37_ITER10000_X101_wVAL",
          "20230103_13:36:15_ITER4000_X101_wP3_dataugm",
          "20230104_13:09:39_ITER4000_X101_wK3",
          "20230104_13:09:39_ITER4000_X101_wK3_dataugm_during_inference",
          "20230106_14:08:45_ITER5000_X101_resize4000",
          "20230207_07:09:07_X101_allsamples_ITER5000",
          "20230321_08:16:40_X101_allsamples_ITER5000_resize3000_balance_dataset",
          "20230406_13:51:27_cityscapes_balanced_datasetITER8000"
         ],
         "categoryorder": "array",
         "domain": [
          0,
          0.168
         ],
         "title": {
          "text": "model"
         }
        },
        "xaxis10": {
         "anchor": "y10",
         "domain": [
          0.8320000000000001,
          1
         ],
         "matches": "x",
         "showticklabels": false
        },
        "xaxis2": {
         "anchor": "y2",
         "categoryarray": [
          "20221201_18:21:50_ITER10000_X101_DATAUGM",
          "20221202_16:10:14_ITER10000_X101",
          "20221206_17:50:40_ITER20000_X101",
          "20221212_11:24:37_ITER10000_X101_wVAL",
          "20230103_13:36:15_ITER4000_X101_wP3_dataugm",
          "20230104_13:09:39_ITER4000_X101_wK3",
          "20230104_13:09:39_ITER4000_X101_wK3_dataugm_during_inference",
          "20230106_14:08:45_ITER5000_X101_resize4000",
          "20230207_07:09:07_X101_allsamples_ITER5000",
          "20230321_08:16:40_X101_allsamples_ITER5000_resize3000_balance_dataset",
          "20230406_13:51:27_cityscapes_balanced_datasetITER8000"
         ],
         "categoryorder": "array",
         "domain": [
          0.20800000000000002,
          0.376
         ],
         "matches": "x",
         "title": {
          "text": "model"
         }
        },
        "xaxis3": {
         "anchor": "y3",
         "categoryarray": [
          "20221201_18:21:50_ITER10000_X101_DATAUGM",
          "20221202_16:10:14_ITER10000_X101",
          "20221206_17:50:40_ITER20000_X101",
          "20221212_11:24:37_ITER10000_X101_wVAL",
          "20230103_13:36:15_ITER4000_X101_wP3_dataugm",
          "20230104_13:09:39_ITER4000_X101_wK3",
          "20230104_13:09:39_ITER4000_X101_wK3_dataugm_during_inference",
          "20230106_14:08:45_ITER5000_X101_resize4000",
          "20230207_07:09:07_X101_allsamples_ITER5000",
          "20230321_08:16:40_X101_allsamples_ITER5000_resize3000_balance_dataset",
          "20230406_13:51:27_cityscapes_balanced_datasetITER8000"
         ],
         "categoryorder": "array",
         "domain": [
          0.41600000000000004,
          0.5840000000000001
         ],
         "matches": "x",
         "title": {
          "text": "model"
         }
        },
        "xaxis4": {
         "anchor": "y4",
         "categoryarray": [
          "20221201_18:21:50_ITER10000_X101_DATAUGM",
          "20221202_16:10:14_ITER10000_X101",
          "20221206_17:50:40_ITER20000_X101",
          "20221212_11:24:37_ITER10000_X101_wVAL",
          "20230103_13:36:15_ITER4000_X101_wP3_dataugm",
          "20230104_13:09:39_ITER4000_X101_wK3",
          "20230104_13:09:39_ITER4000_X101_wK3_dataugm_during_inference",
          "20230106_14:08:45_ITER5000_X101_resize4000",
          "20230207_07:09:07_X101_allsamples_ITER5000",
          "20230321_08:16:40_X101_allsamples_ITER5000_resize3000_balance_dataset",
          "20230406_13:51:27_cityscapes_balanced_datasetITER8000"
         ],
         "categoryorder": "array",
         "domain": [
          0.624,
          0.792
         ],
         "matches": "x",
         "title": {
          "text": "model"
         }
        },
        "xaxis5": {
         "anchor": "y5",
         "categoryarray": [
          "20221201_18:21:50_ITER10000_X101_DATAUGM",
          "20221202_16:10:14_ITER10000_X101",
          "20221206_17:50:40_ITER20000_X101",
          "20221212_11:24:37_ITER10000_X101_wVAL",
          "20230103_13:36:15_ITER4000_X101_wP3_dataugm",
          "20230104_13:09:39_ITER4000_X101_wK3",
          "20230104_13:09:39_ITER4000_X101_wK3_dataugm_during_inference",
          "20230106_14:08:45_ITER5000_X101_resize4000",
          "20230207_07:09:07_X101_allsamples_ITER5000",
          "20230321_08:16:40_X101_allsamples_ITER5000_resize3000_balance_dataset",
          "20230406_13:51:27_cityscapes_balanced_datasetITER8000"
         ],
         "categoryorder": "array",
         "domain": [
          0.8320000000000001,
          1
         ],
         "matches": "x",
         "title": {
          "text": "model"
         }
        },
        "xaxis6": {
         "anchor": "y6",
         "domain": [
          0,
          0.168
         ],
         "matches": "x",
         "showticklabels": false
        },
        "xaxis7": {
         "anchor": "y7",
         "domain": [
          0.20800000000000002,
          0.376
         ],
         "matches": "x",
         "showticklabels": false
        },
        "xaxis8": {
         "anchor": "y8",
         "domain": [
          0.41600000000000004,
          0.5840000000000001
         ],
         "matches": "x",
         "showticklabels": false
        },
        "xaxis9": {
         "anchor": "y9",
         "domain": [
          0.624,
          0.792
         ],
         "matches": "x",
         "showticklabels": false
        },
        "yaxis": {
         "anchor": "x",
         "domain": [
          0,
          0.48
         ],
         "title": {
          "text": "Average precision"
         }
        },
        "yaxis10": {
         "anchor": "x10",
         "domain": [
          0.52,
          1
         ],
         "matches": "y",
         "showticklabels": false
        },
        "yaxis2": {
         "anchor": "x2",
         "domain": [
          0,
          0.48
         ],
         "matches": "y",
         "showticklabels": false
        },
        "yaxis3": {
         "anchor": "x3",
         "domain": [
          0,
          0.48
         ],
         "matches": "y",
         "showticklabels": false
        },
        "yaxis4": {
         "anchor": "x4",
         "domain": [
          0,
          0.48
         ],
         "matches": "y",
         "showticklabels": false
        },
        "yaxis5": {
         "anchor": "x5",
         "domain": [
          0,
          0.48
         ],
         "matches": "y",
         "showticklabels": false
        },
        "yaxis6": {
         "anchor": "x6",
         "domain": [
          0.52,
          1
         ],
         "matches": "y",
         "title": {
          "text": "Average precision"
         }
        },
        "yaxis7": {
         "anchor": "x7",
         "domain": [
          0.52,
          1
         ],
         "matches": "y",
         "showticklabels": false
        },
        "yaxis8": {
         "anchor": "x8",
         "domain": [
          0.52,
          1
         ],
         "matches": "y",
         "showticklabels": false
        },
        "yaxis9": {
         "anchor": "x9",
         "domain": [
          0.52,
          1
         ],
         "matches": "y",
         "showticklabels": false
        }
       }
      }
     },
     "metadata": {},
     "output_type": "display_data"
    }
   ],
   "source": [
    "fig = plots.plot_metrics()\n",
    "fig.show()"
   ]
  },
  {
   "cell_type": "code",
   "execution_count": null,
   "metadata": {},
   "outputs": [],
   "source": [
    "plots.export_plots()"
   ]
  },
  {
   "attachments": {},
   "cell_type": "markdown",
   "metadata": {},
   "source": [
    "## &#x0033; Use the model you trained to predict new data!\n",
    "\n",
    "Now that you have a trained deep learning model, you can use it to predict new annotations on unlabeled rasters and export the results into a spatial format!\n"
   ]
  },
  {
   "cell_type": "code",
   "execution_count": null,
   "metadata": {},
   "outputs": [],
   "source": [
    "import yaml\n",
    "import torch\n",
    "import os\n",
    "import artus.inference as tusinf\n",
    "import artus.spatialize as tuspal\n",
    "from tursinf import "
   ]
  },
  {
   "cell_type": "code",
   "execution_count": null,
   "metadata": {},
   "outputs": [],
   "source": [
    "images_dir = '/path/to/unlabeled/images/directory/' "
   ]
  },
  {
   "attachments": {},
   "cell_type": "markdown",
   "metadata": {},
   "source": [
    "### &#x0033;. &#x0032;. Deploy an unlabeled fiftytone dataset\n",
    "In artus package, we choose to work with fiftyone datasets to handle images and annotations formats. Fiftyone is an open source python package very relevant in deep learning frameworks. You can find all the features on their website. \n"
   ]
  },
  {
   "cell_type": "code",
   "execution_count": null,
   "metadata": {},
   "outputs": [],
   "source": [
    "dataset = tusinf.deploy_unlabeled_dataset.create_or_load_dataset(\n",
    "    dataset_name=os.path.basename(config_path), #add a name for your fiftyone dataset \n",
    "    dataset_type='unlabeled', \n",
    "    images_path=images_dir,\n",
    "    label_type='segmentation')\n",
    "\n",
    "dataset.persistent = True #optional : save dataset on your machine for further exploration\n",
    "\n",
    "dataset.save()\n",
    "\n",
    "print(dataset)"
   ]
  },
  {
   "cell_type": "code",
   "execution_count": null,
   "metadata": {},
   "outputs": [],
   "source": [
    "dataset.compute_metadata()"
   ]
  },
  {
   "attachments": {},
   "cell_type": "markdown",
   "metadata": {},
   "source": [
    "### &#x0033;. &#x0033;. Add image locations\n",
    "\n",
    "To be able to spatialize the predictions made by the model, you need to provide a csv containing location of every image in the dataset. The csv must be presented like this : \n",
    "<table border=\"1\" class=\"dataframe\">\n",
    "  <thead>\n",
    "    <tr style=\"text-align: right;\">\n",
    "      <th>filename</th>\n",
    "      <th>latitude</th>\n",
    "      <th>longitude</th>\n",
    "    </tr>\n",
    "  </thead>\n",
    "  <tbody>\n",
    "    <tr>\n",
    "      <td>image1.jpeg</td>\n",
    "      <td>45.2145313</td>\n",
    "      <td>-12.18641251</td>\n",
    "    </tr>\n",
    "    <tr>\n",
    "      <td>image2.jpeg</td>\n",
    "      <td>45.2145584</td>\n",
    "      <td>-12.18646598</td>\n",
    "    </tr>\n",
    "    <tr>\n",
    "      <td>image3.jpeg</td>\n",
    "      <td>45.214565456</td>\n",
    "      <td>-12.18646123</td>\n",
    "    </tr>\n",
    "    <tr>\n",
    "      <td>image4.jpeg</td>\n",
    "      <td>45.65452316.jpg</td>\n",
    "      <td>-12.123456789</td>\n",
    "    </tr>\n",
    "    <tr>\n",
    "      <td>image5.jpeg</td>\n",
    "      <td>45.16546168</td>\n",
    "      <td>-12.18646598</td>\n",
    "    </tr>\n",
    "  </tbody>\n",
    "</table>\n",
    "\n",
    "\n",
    "Predictions made by the AI model on an image will be affected to the GPS point belonging to the image and results will be spatialized."
   ]
  },
  {
   "cell_type": "code",
   "execution_count": null,
   "metadata": {},
   "outputs": [],
   "source": [
    "from tuspal.LocationImporter import import_csv_locations"
   ]
  },
  {
   "cell_type": "code",
   "execution_count": null,
   "metadata": {},
   "outputs": [],
   "source": [
    "dataset = import_csv_locations(\n",
    "    location_path=\"/path/to/locations.csv\",\n",
    "    fiftyone_dataset=dataset\n",
    "    )"
   ]
  },
  {
   "attachments": {},
   "cell_type": "markdown",
   "metadata": {},
   "source": [
    "### &#x0033;. &#x0034;. Predict new annotations thanks to AI!\n",
    "\n",
    "We first call the trained model an load it (this is the predictor), then we predict new labels on unlabeled rasters with the predictor. In a yaml file, we stored the classes that the model can predict. You can write a yaml file or add a python list directly."
   ]
  },
  {
   "cell_type": "code",
   "execution_count": null,
   "metadata": {},
   "outputs": [],
   "source": [
    "device = (\"cuda\" if torch.cuda.is_available() else \"cpu\")\n",
    "\n",
    "#Load model's classes\n",
    "model_classes = '../../configs/model_classes_species.yml'\n",
    "\n",
    "with open(model_classes) as f:\n",
    "    model_classes = yaml.load(f, Loader=yaml.FullLoader)"
   ]
  },
  {
   "cell_type": "code",
   "execution_count": null,
   "metadata": {},
   "outputs": [],
   "source": [
    "predictor = tusinf.predict.build_predictor(config_path, device)"
   ]
  },
  {
   "cell_type": "code",
   "execution_count": null,
   "metadata": {},
   "outputs": [],
   "source": [
    "dataset = tusinf.predict.add_predictions_to_dataset(\n",
    "    dataset=dataset, \n",
    "    predictor=predictor, \n",
    "    device=device, \n",
    "    classes=model_classes['species_classes'], #the list of a class names or config file containing the list\n",
    "    predictions_field='predictions', \n",
    "    nms_threshold=0.5)"
   ]
  },
  {
   "attachments": {},
   "cell_type": "markdown",
   "metadata": {},
   "source": [
    "### &#x0033;. &#x0035;. Export the results into a spatial format! &#x1F389;"
   ]
  },
  {
   "cell_type": "code",
   "execution_count": null,
   "metadata": {},
   "outputs": [],
   "source": [
    "geojson_exporter = tuspal.GeoFiftyoneExporter(\n",
    "    export_dir='/path/to/export/dir', \n",
    "    label_type='polylines', #can be 'detections' for bbox or 'polylines' for segmentation masks\n",
    "    epsg_code='4326', #set the destination CRS adapted to your data\n",
    "    dest_name='geospatial_predictions.geojson'\n",
    ")"
   ]
  },
  {
   "cell_type": "code",
   "execution_count": null,
   "metadata": {},
   "outputs": [],
   "source": [
    "dataset.export(\n",
    "    dataset_exporter=geojson_exporter,\n",
    "    label_field='predictions',\n",
    "    export_media=False\n",
    "    )"
   ]
  }
 ],
 "metadata": {
  "kernelspec": {
   "display_name": "artus",
   "language": "python",
   "name": "python3"
  },
  "language_info": {
   "codemirror_mode": {
    "name": "ipython",
    "version": 3
   },
   "file_extension": ".py",
   "mimetype": "text/x-python",
   "name": "python",
   "nbconvert_exporter": "python",
   "pygments_lexer": "ipython3",
   "version": "3.11.3"
  },
  "orig_nbformat": 4
 },
 "nbformat": 4,
 "nbformat_minor": 2
}

{
 "cells": [
  {
   "cell_type": "code",
   "execution_count": null,
   "metadata": {
    "tags": []
   },
   "outputs": [],
   "source": [
    "from tile import tile_ortho"
   ]
  },
  {
   "cell_type": "code",
   "execution_count": null,
   "metadata": {
    "tags": []
   },
   "outputs": [],
   "source": [
    "bounds = tile_ortho(\n",
    "    ortho_path='/home/justine/fmr/ngouja_102021/Ngouja_orthomosaic_102021.tif',\n",
    "    dest_dir='/home/justine/fmr/ngouja_102021/tiles_5000_no_overlap',\n",
    "    tuple_tile_size=(5000,5000),\n",
    "    h_shift=0,\n",
    "    v_shift=0\n",
    ")"
   ]
  },
  {
   "cell_type": "code",
   "execution_count": null,
   "metadata": {
    "tags": []
   },
   "outputs": [],
   "source": [
    "#Import libraries\n",
    "import os\n",
    "import sys\n",
    "import yaml\n",
    "import fiftyone as fo\n",
    "import fiftyone.utils.geojson as foug\n",
    "import pandas as pd\n",
    "from predict import build_predictor, add_predictions_to_dataset\n",
    "import fiftyone as fo\n",
    "import fiftyone.utils.coco as fouc\n",
    "import torch\n",
    "from config_model import add_config\n",
    "from detectron2.config import get_cfg\n",
    "from detectron2.engine import DefaultPredictor\n",
    "\n",
    "from deploy_dataset import create_or_load_dataset\n"
   ]
  },
  {
   "cell_type": "code",
   "execution_count": null,
   "metadata": {
    "tags": []
   },
   "outputs": [],
   "source": [
    "importer = fouc.COCODetectionDatasetImporter(\n",
    "    data_path='/home/justine/fmr/tiles_1500_overlap25/',\n",
    "    labels_path='/home/justine/fmr/tiles_1500_overlap25/coco/coco_test10_species.json', \n",
    "    label_types=\"segmentations\",\n",
    "    include_id=True,\n",
    "    use_polylines=True,\n",
    "    tolerance=2)\n",
    "\n",
    "dataset.add_importer(\n",
    "    dataset_importer=importer,\n",
    "    label_field=\"ground_truth\")"
   ]
  },
  {
   "cell_type": "code",
   "execution_count": null,
   "metadata": {
    "tags": []
   },
   "outputs": [],
   "source": [
    "importer = fouc.COCODetectionDatasetImporter(\n",
    "    data_path='/home/justine/fmr/tiles_1500_overlap25/',\n",
    "    labels_path='/home/justine/fmr/tiles_1500_overlap25/coco/coco_val10_species.json', \n",
    "    label_types=\"segmentations\",\n",
    "    include_id=True,\n",
    "    use_polylines=True,\n",
    "    tolerance=2)\n",
    "\n",
    "dataset.add_importer(\n",
    "    dataset_importer=importer,\n",
    "    label_field=\"ground_truth\")"
   ]
  },
  {
   "cell_type": "code",
   "execution_count": null,
   "metadata": {
    "tags": []
   },
   "outputs": [],
   "source": [
    "dataset = create_or_load_dataset(\n",
    "    dataset_name='deepmosaics_testset', \n",
    "    dataset_type='unlabeled', \n",
    "    images_path='/home/justine/fmr/coco/coco_test10_species/', \n",
    "    label_type='segmentations')\n",
    "\n",
    "dataset.persistent = True\n",
    "\n",
    "dataset.save()\n",
    "\n",
    "print(dataset)"
   ]
  },
  {
   "cell_type": "code",
   "execution_count": null,
   "metadata": {
    "tags": []
   },
   "outputs": [],
   "source": [
    "config_name = '../configs/models_training/x101_allsites_species_overlapping25_tiles5000_ITER3000.yml'\n",
    "session = '20230412_14:23:21x101_allsites_species_overlapping25_tiles1500_ITER3000'\n",
    "device = (\"cuda\" if torch.cuda.is_available() else \"cpu\")\n"
   ]
  },
  {
   "cell_type": "code",
   "execution_count": null,
   "metadata": {
    "tags": []
   },
   "outputs": [],
   "source": [
    "cfg = get_cfg()\n",
    "cfg = add_config(\n",
    "    cfg=cfg,\n",
    "    config_path=config_name,\n",
    "    device=device,\n",
    "    train_dataset = (\"trainset\",),\n",
    "    test_dataset = (\"testset\",),\n",
    "    mode='inference'\n",
    "    )\n",
    "predictor = DefaultPredictor(cfg)\n"
   ]
  },
  {
   "cell_type": "code",
   "execution_count": null,
   "metadata": {
    "tags": []
   },
   "outputs": [],
   "source": [
    "#Load model's classes\n",
    "model_classes = '../configs/inference/model_classes_species.yml'\n",
    "\n",
    "with open(model_classes) as f:\n",
    "    model_classes = yaml.load(f, Loader=yaml.FullLoader)\n"
   ]
  },
  {
   "cell_type": "code",
   "execution_count": null,
   "metadata": {
    "tags": []
   },
   "outputs": [],
   "source": [
    "dataset = add_predictions_to_dataset(\n",
    "    dataset=dataset, \n",
    "    predictor=predictor, \n",
    "    device=device, \n",
    "    classes=model_classes['species_classes'],\n",
    "    predictions_field='species_nms50', \n",
    "    nms_threshold=0.5)"
   ]
  },
  {
   "cell_type": "code",
   "execution_count": null,
   "metadata": {
    "tags": []
   },
   "outputs": [],
   "source": [
    "dataset"
   ]
  },
  {
   "cell_type": "code",
   "execution_count": null,
   "metadata": {},
   "outputs": [],
   "source": [
    "from fiftyone import ViewField as F\n",
    "stage = fo.FilterLabels(\"species_nms50\", F(\"points\").length() > 0)\n",
    "view = dataset.add_stage(stage)"
   ]
  },
  {
   "cell_type": "code",
   "execution_count": null,
   "metadata": {},
   "outputs": [],
   "source": [
    "view"
   ]
  },
  {
   "cell_type": "code",
   "execution_count": null,
   "metadata": {},
   "outputs": [],
   "source": [
    "from fiftyone import ViewField as F\n",
    "conf_filter = fo.FilterLabels(\"species_nms50\", F(\"confidence\") > 0.3)\n",
    "view2 = view.add_stage(conf_filter)"
   ]
  },
  {
   "cell_type": "code",
   "execution_count": null,
   "metadata": {},
   "outputs": [],
   "source": [
    "print(view2)"
   ]
  },
  {
   "cell_type": "code",
   "execution_count": null,
   "metadata": {
    "tags": []
   },
   "outputs": [],
   "source": [
    "results = dataset.evaluate_detections(\n",
    "        pred_field='species_nms50',\n",
    "        gt_field=\"ground_truth_segmentations\",\n",
    "        eval_key='eval_predictions_tiles1500',\n",
    "        method='coco',\n",
    "        classes=model_classes,\n",
    "        classwise=False,\n",
    "        iou=0.50,\n",
    "        compute_mAP=True)"
   ]
  },
  {
   "cell_type": "code",
   "execution_count": null,
   "metadata": {
    "tags": []
   },
   "outputs": [],
   "source": [
    "cm = results.plot_confusion_matrix(title='Matrice de confusion : evaluation de MODEL_SPECIES_X101_ITER20000')\n",
    "cm.show()"
   ]
  },
  {
   "cell_type": "code",
   "execution_count": null,
   "metadata": {},
   "outputs": [],
   "source": [
    "coco_exporter = fouc.COCODetectionDatasetExporter(\n",
    "    export_dir='/home/justine/fmr/tiles_1500_overlap25/coco/',\n",
    "    labels_path= 'predictions_testset_conf30.json',\n",
    "    export_media=False,\n",
    "    classes=model_classes['species_classes'],\n",
    "    tolerance=0, \n",
    "    extra_attrs=False)\n",
    "\n",
    "view2.export(\n",
    "    dataset_exporter=coco_exporter,\n",
    "    label_field='species_nms50')"
   ]
  },
  {
   "cell_type": "markdown",
   "metadata": {},
   "source": [
    "### spatialize"
   ]
  },
  {
   "cell_type": "code",
   "execution_count": null,
   "metadata": {},
   "outputs": [],
   "source": [
    "from spatialize_coco import coco2gdf, get_transform, affine_transform, export"
   ]
  },
  {
   "cell_type": "code",
   "execution_count": null,
   "metadata": {},
   "outputs": [],
   "source": [
    "gdf = coco2gdf('/home/justine/fmr/tiles_1500_overlap25/coco/predictions_testset_conf30.json')"
   ]
  },
  {
   "cell_type": "code",
   "execution_count": null,
   "metadata": {},
   "outputs": [],
   "source": [
    "gdf['transform'] =  [get_transform('/home/justine/fmr/tiles_1500_overlap25/', sample) for sample in gdf['img_filename']]"
   ]
  },
  {
   "cell_type": "code",
   "execution_count": null,
   "metadata": {},
   "outputs": [],
   "source": [
    "gdf_affined = affine_transform(gdf, 'EPSG:4326')"
   ]
  },
  {
   "cell_type": "code",
   "execution_count": null,
   "metadata": {},
   "outputs": [],
   "source": [
    "export(gdf_affined, '/home/justine/fmr/tiles_1500_overlap25/coco/', 'predictions_testset_conf30', site_by_site=False)"
   ]
  },
  {
   "cell_type": "code",
   "execution_count": null,
   "metadata": {},
   "outputs": [],
   "source": []
  }
 ],
 "metadata": {
  "kernelspec": {
   "display_name": "Python 3 (ipykernel)",
   "language": "python",
   "name": "python3"
  },
  "language_info": {
   "codemirror_mode": {
    "name": "ipython",
    "version": 3
   },
   "file_extension": ".py",
   "mimetype": "text/x-python",
   "name": "python",
   "nbconvert_exporter": "python",
   "pygments_lexer": "ipython3",
   "version": "3.10.6"
  }
 },
 "nbformat": 4,
 "nbformat_minor": 4
}

{
 "cells": [
  {
   "attachments": {},
   "cell_type": "markdown",
   "id": "fd20b2e7",
   "metadata": {},
   "source": [
    "# Convert the geojsons tiles into one COCO file"
   ]
  },
  {
   "cell_type": "code",
   "execution_count": null,
   "id": "1bb8b0c3-a163-4d70-9998-527c7387bdd7",
   "metadata": {},
   "outputs": [],
   "source": [
    "from artus.prepare.transform_geojson_to_coco import geojson_to_coco\n",
    "import glob"
   ]
  },
  {
   "attachments": {},
   "cell_type": "markdown",
   "id": "44242d8b",
   "metadata": {},
   "source": [
    "## Get tiled ortho and geojsons within the directory tree of different sites"
   ]
  },
  {
   "cell_type": "code",
   "execution_count": null,
   "id": "acd40ba2-f70a-47b2-b577-ca0619bd8670",
   "metadata": {},
   "outputs": [],
   "source": [
    "tiled_geojsons = glob.glob('/tiles/dir/geojsons/*.geojson')\n",
    "tiled_ortho = glob.glob('/home/justine/fmr/tiles_1500_overlap25/*.tif')\n"
   ]
  },
  {
   "cell_type": "code",
   "execution_count": null,
   "id": "eb337b3d-5511-4590-a81c-02bced3330aa",
   "metadata": {},
   "outputs": [],
   "source": [
    "geojson_to_coco(tiled_geojsons=tiled_geojsons, tiled_ortho=tiled_ortho, coco_dest_path='/path/to/coco/export/directory/', feature=None)"
   ]
  }
 ],
 "metadata": {
  "kernelspec": {
   "display_name": "Python 3 (ipykernel)",
   "language": "python",
   "name": "python3"
  },
  "language_info": {
   "codemirror_mode": {
    "name": "ipython",
    "version": 3
   },
   "file_extension": ".py",
   "mimetype": "text/x-python",
   "name": "python",
   "nbconvert_exporter": "python",
   "pygments_lexer": "ipython3",
   "version": "3.10.6"
  }
 },
 "nbformat": 4,
 "nbformat_minor": 5
}

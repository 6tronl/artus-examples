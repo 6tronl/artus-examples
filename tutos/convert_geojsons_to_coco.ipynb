{
 "cells": [
  {
   "cell_type": "code",
   "execution_count": null,
   "id": "1bb8b0c3-a163-4d70-9998-527c7387bdd7",
   "metadata": {},
   "outputs": [],
   "source": [
    "from data_pre_processing.transform_geojson_to_coco import geojson_to_coco"
   ]
  },
  {
   "cell_type": "code",
   "execution_count": null,
   "id": "acd40ba2-f70a-47b2-b577-ca0619bd8670",
   "metadata": {},
   "outputs": [],
   "source": [
    "#Get tiled ortho and geojsons within the directory tree of different sites\n",
    "tiled_geojsons = glob.glob('/home/justine/fmr/tiles_1500_overlap25/geojsons/*.geojson')\n",
    "tiled_ortho = glob.glob('/home/justine/fmr/tiles_1500_overlap25/*.tif')\n",
    "\n",
    "#Create a coco gathering all annotations from different sites of orthomosaics acquisition\n",
    "coco_dir = '/home/justine/fmr/tiles_1500_overlap25/coco/'"
   ]
  },
  {
   "cell_type": "code",
   "execution_count": null,
   "id": "eb337b3d-5511-4590-a81c-02bced3330aa",
   "metadata": {},
   "outputs": [],
   "source": [
    "geojson_to_coco(tiled_geojsons, tiled_ortho, coco_dir)"
   ]
  }
 ],
 "metadata": {
  "kernelspec": {
   "display_name": "Python 3 (ipykernel)",
   "language": "python",
   "name": "python3"
  },
  "language_info": {
   "codemirror_mode": {
    "name": "ipython",
    "version": 3
   },
   "file_extension": ".py",
   "mimetype": "text/x-python",
   "name": "python",
   "nbconvert_exporter": "python",
   "pygments_lexer": "ipython3",
   "version": "3.10.6"
  }
 },
 "nbformat": 4,
 "nbformat_minor": 5
}

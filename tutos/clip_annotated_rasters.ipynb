{
 "cells": [
  {
   "cell_type": "code",
   "execution_count": null,
   "id": "f0c6ca0f-e089-41d4-a5cd-367482ad4d5a",
   "metadata": {},
   "outputs": [],
   "source": [
    "sites_mapping_filenames = '../configs/sites.yml'\n",
    "\n",
    "with open(sites_mapping_filenames) as f:\n",
    "    sites_mapping_filenames = yaml.load(f, Loader=yaml.FullLoader)\n",
    "\n",
    "for site in sites_mapping_filenames:\n",
    "    annotation_path = sites_mapping_filenames[site][0]['annotation_path']\n",
    "    ortho_path = sites_mapping_filenames[site][1]['orthomosaic_path']"
   ]
  }
 ],
 "metadata": {
  "kernelspec": {
   "display_name": "Python 3 (ipykernel)",
   "language": "python",
   "name": "python3"
  },
  "language_info": {
   "codemirror_mode": {
    "name": "ipython",
    "version": 3
   },
   "file_extension": ".py",
   "mimetype": "text/x-python",
   "name": "python",
   "nbconvert_exporter": "python",
   "pygments_lexer": "ipython3",
   "version": "3.10.6"
  }
 },
 "nbformat": 4,
 "nbformat_minor": 5
}

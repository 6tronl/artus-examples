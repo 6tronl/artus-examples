{
 "cells": [
  {
   "attachments": {},
   "cell_type": "markdown",
   "id": "22e0b347",
   "metadata": {},
   "source": [
    "# Data splitting for train, test and val sets"
   ]
  },
  {
   "cell_type": "code",
   "execution_count": null,
   "id": "f9983856-245e-436f-b59a-ce52444d934a",
   "metadata": {},
   "outputs": [],
   "source": [
    "from artus.prepare import COCOStats, COCOSplitter"
   ]
  },
  {
   "attachments": {},
   "cell_type": "markdown",
   "id": "6eff7f95",
   "metadata": {},
   "source": [
    "## Set the path to your coco file and the minimum number of occurences per class to keep in the final dataset"
   ]
  },
  {
   "cell_type": "code",
   "execution_count": null,
   "id": "6ee64dbc",
   "metadata": {},
   "outputs": [],
   "source": [
    "coco_path = '/path/to/your/coco.json'\n",
    "min_nb_occurences=50"
   ]
  },
  {
   "attachments": {},
   "cell_type": "markdown",
   "id": "fa949823",
   "metadata": {},
   "source": [
    "## Get some stats on your classes distribution"
   ]
  },
  {
   "cell_type": "code",
   "execution_count": null,
   "id": "36627ad5-f27b-44fa-bc1e-58cf4867181a",
   "metadata": {},
   "outputs": [],
   "source": [
    "stats = COCOStats(coco_path, min_nb_occurences)\n",
    "stats.get_class_stats()\n",
    "stats.export_stats(export_path='/path/to/export/stats.csv') #optionnal : export the classes distribution in csv format"
   ]
  },
  {
   "attachments": {},
   "cell_type": "markdown",
   "id": "a93bc87f",
   "metadata": {},
   "source": [
    "## Split the dataset"
   ]
  },
  {
   "cell_type": "code",
   "execution_count": null,
   "id": "f25e7cd9",
   "metadata": {},
   "outputs": [],
   "source": [
    "splitter = COCOSplitter(\n",
    "    coco_path=coco_path,\n",
    "    export_dir='/path/to/export/coco/splits/',\n",
    "    coco_train_name='coco_train',\n",
    "    coco_test_name='coco_test',\n",
    "    coco_val_name='coco_val',\n",
    "    min_nb_occurences=min_nb_occurences,\n",
    "    train_pct=.8,\n",
    "    val_pct=.1,\n",
    "    test_pct=.1,\n",
    "    batch_size=8\n",
    ")"
   ]
  },
  {
   "cell_type": "code",
   "execution_count": null,
   "id": "f47318c6",
   "metadata": {},
   "outputs": [],
   "source": [
    "splitter.split_coco()"
   ]
  }
 ],
 "metadata": {
  "kernelspec": {
   "display_name": "Python 3 (ipykernel)",
   "language": "python",
   "name": "python3"
  },
  "language_info": {
   "codemirror_mode": {
    "name": "ipython",
    "version": 3
   },
   "file_extension": ".py",
   "mimetype": "text/x-python",
   "name": "python",
   "nbconvert_exporter": "python",
   "pygments_lexer": "ipython3",
   "version": "3.10.6"
  }
 },
 "nbformat": 4,
 "nbformat_minor": 5
}

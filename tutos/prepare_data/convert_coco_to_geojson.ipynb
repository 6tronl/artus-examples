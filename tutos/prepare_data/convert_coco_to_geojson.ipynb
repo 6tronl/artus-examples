{
 "cells": [
  {
   "attachments": {},
   "cell_type": "markdown",
   "metadata": {},
   "source": [
    "## Convert non-spatial annotations of tif files into geojson files"
   ]
  },
  {
   "cell_type": "code",
   "execution_count": 1,
   "metadata": {},
   "outputs": [],
   "source": [
    "import artus.spatialize as tuspal"
   ]
  },
  {
   "cell_type": "code",
   "execution_count": null,
   "metadata": {},
   "outputs": [],
   "source": [
    "geojson_exporter = tuspal.GeoCOCOExporter(\n",
    "    coco_path = 'path/to/coco/file.json', #the path you indicated in the last chunk\n",
    "    sample_dir = 'path/to/tif/directory/', \n",
    "    epsg_code = 'EPSG:4326', #set the epsg adapted to your data\n",
    "    dest_path = 'path/to/export/directory/',\n",
    "    dest_name = 'predictions.geojson'\n",
    ")"
   ]
  },
  {
   "cell_type": "code",
   "execution_count": null,
   "metadata": {},
   "outputs": [],
   "source": [
    "geojson_exporter.export()"
   ]
  }
 ],
 "metadata": {
  "kernelspec": {
   "display_name": "artus",
   "language": "python",
   "name": "python3"
  },
  "language_info": {
   "codemirror_mode": {
    "name": "ipython",
    "version": 3
   },
   "file_extension": ".py",
   "mimetype": "text/x-python",
   "name": "python",
   "nbconvert_exporter": "python",
   "pygments_lexer": "ipython3",
   "version": "3.11.3"
  },
  "orig_nbformat": 4
 },
 "nbformat": 4,
 "nbformat_minor": 2
}

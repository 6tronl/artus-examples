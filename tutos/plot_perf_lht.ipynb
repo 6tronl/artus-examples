{
 "cells": [
  {
   "cell_type": "code",
   "execution_count": 1,
   "metadata": {},
   "outputs": [],
   "source": [
    "import plotly.express as px\n",
    "import pandas as pd\n",
    "from pylabel import importer\n",
    "\n",
    "from get_dataset_stats import get_feature_classes, get_class_count\n",
    "from get_dataset_stats import min_occurences\n"
   ]
  },
  {
   "cell_type": "code",
   "execution_count": 2,
   "metadata": {},
   "outputs": [],
   "source": [
    "metrics = pd.read_csv('../../logs/models_metrics.csv', header=0)\n",
    "features = ['species', 'genus', 'lht']\n",
    "classes_list = []\n",
    "\n",
    "for feature in features:\n",
    "    coco_path = f'../../coco/coco_{feature}.json'\n",
    "    classes_list.append(get_feature_classes(coco_path, 20))\n",
    "\n"
   ]
  },
  {
   "cell_type": "code",
   "execution_count": 3,
   "metadata": {},
   "outputs": [
    {
     "data": {
      "text/plain": [
       "['AP-tenuis',\n",
       " 'AP-histrix',\n",
       " 'AP-rus',\n",
       " 'AP-hemprichi',\n",
       " 'AP-Lutea',\n",
       " 'AP-sp1',\n",
       " 'AP-lobata',\n",
       " 'AP-cylibdrica',\n",
       " 'AP-digitifera',\n",
       " 'AP-retiformis',\n",
       " 'AP-divaricata',\n",
       " 'AP-anae',\n",
       " 'AP-hyacinthus',\n",
       " 'AP-humilis',\n",
       " 'AP-gemmacea',\n",
       " 'AP-fungites',\n",
       " 'AP-pectinata',\n",
       " 'AP-daedalea',\n",
       " 'AP-speciosa',\n",
       " 'AP-muricata',\n",
       " 'AP-fascicularis',\n",
       " 'AP-exaesa',\n",
       " 'AP-halicora',\n",
       " 'AP-astreata',\n",
       " 'AP-complanata',\n",
       " 'AP-cylindrica',\n",
       " 'AP-palifera',\n",
       " 'AP-heliopora',\n",
       " 'AP-Muricata 1',\n",
       " 'AP-lutea',\n",
       " 'AP-sp']"
      ]
     },
     "execution_count": 3,
     "metadata": {},
     "output_type": "execute_result"
    }
   ],
   "source": [
    "classes_list[0] = ['AP-' + s  for s in classes_list[0]]\n",
    "classes_list[0]"
   ]
  },
  {
   "cell_type": "code",
   "execution_count": 4,
   "metadata": {},
   "outputs": [
    {
     "data": {
      "text/plain": [
       "['AP-tenuis',\n",
       " 'AP-histrix',\n",
       " 'AP-rus',\n",
       " 'AP-hemprichi',\n",
       " 'AP-Lutea',\n",
       " 'AP-sp1',\n",
       " 'AP-lobata',\n",
       " 'AP-cylibdrica',\n",
       " 'AP-digitifera',\n",
       " 'AP-retiformis',\n",
       " 'AP-divaricata',\n",
       " 'AP-anae',\n",
       " 'AP-hyacinthus',\n",
       " 'AP-humilis',\n",
       " 'AP-gemmacea',\n",
       " 'AP-fungites',\n",
       " 'AP-pectinata',\n",
       " 'AP-daedalea',\n",
       " 'AP-speciosa',\n",
       " 'AP-muricata',\n",
       " 'AP-fascicularis',\n",
       " 'AP-exaesa',\n",
       " 'AP-halicora',\n",
       " 'AP-astreata',\n",
       " 'AP-complanata',\n",
       " 'AP-cylindrica',\n",
       " 'AP-palifera',\n",
       " 'AP-heliopora',\n",
       " 'AP-Muricata 1',\n",
       " 'AP-lutea',\n",
       " 'AP-sp',\n",
       " 'model',\n",
       " 'AP',\n",
       " 'AP50',\n",
       " 'AP75',\n",
       " 'APs',\n",
       " 'APm',\n",
       " 'APl']"
      ]
     },
     "execution_count": 4,
     "metadata": {},
     "output_type": "execute_result"
    }
   ],
   "source": [
    "classes_list[0].extend(['model', 'AP', 'AP50','AP75', 'APs', 'APm', 'APl'])\n",
    "classes_list[0]"
   ]
  },
  {
   "cell_type": "code",
   "execution_count": 5,
   "metadata": {},
   "outputs": [],
   "source": [
    "metrics_filtered = metrics.filter(classes_list[0])"
   ]
  },
  {
   "cell_type": "code",
   "execution_count": 6,
   "metadata": {},
   "outputs": [],
   "source": [
    "classes_list[0].remove('model')"
   ]
  },
  {
   "cell_type": "code",
   "execution_count": 7,
   "metadata": {},
   "outputs": [],
   "source": [
    "metrics_melted = pd.melt(\n",
    "    metrics_filtered, \n",
    "    id_vars='model', \n",
    "    value_vars=classes_list[0],\n",
    "    value_name='Average precision')"
   ]
  },
  {
   "cell_type": "code",
   "execution_count": 8,
   "metadata": {},
   "outputs": [],
   "source": [
    "metrics_melted.dropna(axis=0, how='any', inplace=True)"
   ]
  },
  {
   "cell_type": "code",
   "execution_count": 12,
   "metadata": {},
   "outputs": [],
   "source": [
    "metrics_species = metrics_melted[metrics_melted['model'].isin(['20221229_15:09:14_ITER4000_X101_ae102021only', '20230202_13:33:19_X101_allsites_ITER20000', '20230202_11:07:44_X101_allsites_ITER10000'])]"
   ]
  },
  {
   "cell_type": "code",
   "execution_count": 13,
   "metadata": {},
   "outputs": [
    {
     "data": {
      "application/vnd.plotly.v1+json": {
       "config": {
        "plotlyServerURL": "https://plot.ly"
       },
       "data": [
        {
         "alignmentgroup": "True",
         "hovertemplate": "model=%{x}<br>variable=AP-tenuis<br>Average precision=%{y}<extra></extra>",
         "legendgroup": "20221229_15:09:14_ITER4000_X101_ae102021only",
         "marker": {
          "color": "#636efa",
          "pattern": {
           "shape": ""
          }
         },
         "name": "20221229_15:09:14_ITER4000_X101_ae102021only",
         "offsetgroup": "20221229_15:09:14_ITER4000_X101_ae102021only",
         "orientation": "v",
         "showlegend": true,
         "textposition": "auto",
         "type": "bar",
         "x": [
          "20221229_15:09:14_ITER4000_X101_ae102021only"
         ],
         "xaxis": "x36",
         "y": [
          30.171904829233743
         ],
         "yaxis": "y36"
        },
        {
         "alignmentgroup": "True",
         "hovertemplate": "model=%{x}<br>variable=AP-histrix<br>Average precision=%{y}<extra></extra>",
         "legendgroup": "20221229_15:09:14_ITER4000_X101_ae102021only",
         "marker": {
          "color": "#636efa",
          "pattern": {
           "shape": ""
          }
         },
         "name": "20221229_15:09:14_ITER4000_X101_ae102021only",
         "offsetgroup": "20221229_15:09:14_ITER4000_X101_ae102021only",
         "orientation": "v",
         "showlegend": false,
         "textposition": "auto",
         "type": "bar",
         "x": [
          "20221229_15:09:14_ITER4000_X101_ae102021only"
         ],
         "xaxis": "x37",
         "y": [
          20.715571557155712
         ],
         "yaxis": "y37"
        },
        {
         "alignmentgroup": "True",
         "hovertemplate": "model=%{x}<br>variable=AP-rus<br>Average precision=%{y}<extra></extra>",
         "legendgroup": "20221229_15:09:14_ITER4000_X101_ae102021only",
         "marker": {
          "color": "#636efa",
          "pattern": {
           "shape": ""
          }
         },
         "name": "20221229_15:09:14_ITER4000_X101_ae102021only",
         "offsetgroup": "20221229_15:09:14_ITER4000_X101_ae102021only",
         "orientation": "v",
         "showlegend": false,
         "textposition": "auto",
         "type": "bar",
         "x": [
          "20221229_15:09:14_ITER4000_X101_ae102021only"
         ],
         "xaxis": "x38",
         "y": [
          16.94690517064002
         ],
         "yaxis": "y38"
        },
        {
         "alignmentgroup": "True",
         "hovertemplate": "model=%{x}<br>variable=AP-hemprichi<br>Average precision=%{y}<extra></extra>",
         "legendgroup": "20221229_15:09:14_ITER4000_X101_ae102021only",
         "marker": {
          "color": "#636efa",
          "pattern": {
           "shape": ""
          }
         },
         "name": "20221229_15:09:14_ITER4000_X101_ae102021only",
         "offsetgroup": "20221229_15:09:14_ITER4000_X101_ae102021only",
         "orientation": "v",
         "showlegend": false,
         "textposition": "auto",
         "type": "bar",
         "x": [
          "20221229_15:09:14_ITER4000_X101_ae102021only"
         ],
         "xaxis": "x39",
         "y": [
          0
         ],
         "yaxis": "y39"
        },
        {
         "alignmentgroup": "True",
         "hovertemplate": "model=%{x}<br>variable=AP-Lutea<br>Average precision=%{y}<extra></extra>",
         "legendgroup": "20221229_15:09:14_ITER4000_X101_ae102021only",
         "marker": {
          "color": "#636efa",
          "pattern": {
           "shape": ""
          }
         },
         "name": "20221229_15:09:14_ITER4000_X101_ae102021only",
         "offsetgroup": "20221229_15:09:14_ITER4000_X101_ae102021only",
         "orientation": "v",
         "showlegend": false,
         "textposition": "auto",
         "type": "bar",
         "x": [
          "20221229_15:09:14_ITER4000_X101_ae102021only"
         ],
         "xaxis": "x40",
         "y": [
          34.45701417040282
         ],
         "yaxis": "y40"
        },
        {
         "alignmentgroup": "True",
         "hovertemplate": "model=%{x}<br>variable=AP-lobata<br>Average precision=%{y}<extra></extra>",
         "legendgroup": "20221229_15:09:14_ITER4000_X101_ae102021only",
         "marker": {
          "color": "#636efa",
          "pattern": {
           "shape": ""
          }
         },
         "name": "20221229_15:09:14_ITER4000_X101_ae102021only",
         "offsetgroup": "20221229_15:09:14_ITER4000_X101_ae102021only",
         "orientation": "v",
         "showlegend": false,
         "textposition": "auto",
         "type": "bar",
         "x": [
          "20221229_15:09:14_ITER4000_X101_ae102021only"
         ],
         "xaxis": "x32",
         "y": [
          27.944782939832447
         ],
         "yaxis": "y32"
        },
        {
         "alignmentgroup": "True",
         "hovertemplate": "model=%{x}<br>variable=AP-cylibdrica<br>Average precision=%{y}<extra></extra>",
         "legendgroup": "20221229_15:09:14_ITER4000_X101_ae102021only",
         "marker": {
          "color": "#636efa",
          "pattern": {
           "shape": ""
          }
         },
         "name": "20221229_15:09:14_ITER4000_X101_ae102021only",
         "offsetgroup": "20221229_15:09:14_ITER4000_X101_ae102021only",
         "orientation": "v",
         "showlegend": false,
         "textposition": "auto",
         "type": "bar",
         "x": [
          "20221229_15:09:14_ITER4000_X101_ae102021only"
         ],
         "xaxis": "x33",
         "y": [
          32.91169116911692
         ],
         "yaxis": "y33"
        },
        {
         "alignmentgroup": "True",
         "hovertemplate": "model=%{x}<br>variable=AP-digitifera<br>Average precision=%{y}<extra></extra>",
         "legendgroup": "20221229_15:09:14_ITER4000_X101_ae102021only",
         "marker": {
          "color": "#636efa",
          "pattern": {
           "shape": ""
          }
         },
         "name": "20221229_15:09:14_ITER4000_X101_ae102021only",
         "offsetgroup": "20221229_15:09:14_ITER4000_X101_ae102021only",
         "orientation": "v",
         "showlegend": false,
         "textposition": "auto",
         "type": "bar",
         "x": [
          "20221229_15:09:14_ITER4000_X101_ae102021only"
         ],
         "xaxis": "x34",
         "y": [
          3.326732673267327
         ],
         "yaxis": "y34"
        },
        {
         "alignmentgroup": "True",
         "hovertemplate": "model=%{x}<br>variable=AP-retiformis<br>Average precision=%{y}<extra></extra>",
         "legendgroup": "20221229_15:09:14_ITER4000_X101_ae102021only",
         "marker": {
          "color": "#636efa",
          "pattern": {
           "shape": ""
          }
         },
         "name": "20221229_15:09:14_ITER4000_X101_ae102021only",
         "offsetgroup": "20221229_15:09:14_ITER4000_X101_ae102021only",
         "orientation": "v",
         "showlegend": false,
         "textposition": "auto",
         "type": "bar",
         "x": [
          "20221229_15:09:14_ITER4000_X101_ae102021only"
         ],
         "xaxis": "x35",
         "y": [
          46.63366336633664
         ],
         "yaxis": "y35"
        },
        {
         "alignmentgroup": "True",
         "hovertemplate": "model=%{x}<br>variable=AP-divaricata<br>Average precision=%{y}<extra></extra>",
         "legendgroup": "20221229_15:09:14_ITER4000_X101_ae102021only",
         "marker": {
          "color": "#636efa",
          "pattern": {
           "shape": ""
          }
         },
         "name": "20221229_15:09:14_ITER4000_X101_ae102021only",
         "offsetgroup": "20221229_15:09:14_ITER4000_X101_ae102021only",
         "orientation": "v",
         "showlegend": false,
         "textposition": "auto",
         "type": "bar",
         "x": [
          "20221229_15:09:14_ITER4000_X101_ae102021only"
         ],
         "xaxis": "x26",
         "y": [
          1.404140414041404
         ],
         "yaxis": "y26"
        },
        {
         "alignmentgroup": "True",
         "hovertemplate": "model=%{x}<br>variable=AP-anae<br>Average precision=%{y}<extra></extra>",
         "legendgroup": "20221229_15:09:14_ITER4000_X101_ae102021only",
         "marker": {
          "color": "#636efa",
          "pattern": {
           "shape": ""
          }
         },
         "name": "20221229_15:09:14_ITER4000_X101_ae102021only",
         "offsetgroup": "20221229_15:09:14_ITER4000_X101_ae102021only",
         "orientation": "v",
         "showlegend": false,
         "textposition": "auto",
         "type": "bar",
         "x": [
          "20221229_15:09:14_ITER4000_X101_ae102021only"
         ],
         "xaxis": "x27",
         "y": [
          0
         ],
         "yaxis": "y27"
        },
        {
         "alignmentgroup": "True",
         "hovertemplate": "model=%{x}<br>variable=AP-hyacinthus<br>Average precision=%{y}<extra></extra>",
         "legendgroup": "20221229_15:09:14_ITER4000_X101_ae102021only",
         "marker": {
          "color": "#636efa",
          "pattern": {
           "shape": ""
          }
         },
         "name": "20221229_15:09:14_ITER4000_X101_ae102021only",
         "offsetgroup": "20221229_15:09:14_ITER4000_X101_ae102021only",
         "orientation": "v",
         "showlegend": false,
         "textposition": "auto",
         "type": "bar",
         "x": [
          "20221229_15:09:14_ITER4000_X101_ae102021only"
         ],
         "xaxis": "x28",
         "y": [
          17.189918991899194
         ],
         "yaxis": "y28"
        },
        {
         "alignmentgroup": "True",
         "hovertemplate": "model=%{x}<br>variable=AP-humilis<br>Average precision=%{y}<extra></extra>",
         "legendgroup": "20221229_15:09:14_ITER4000_X101_ae102021only",
         "marker": {
          "color": "#636efa",
          "pattern": {
           "shape": ""
          }
         },
         "name": "20221229_15:09:14_ITER4000_X101_ae102021only",
         "offsetgroup": "20221229_15:09:14_ITER4000_X101_ae102021only",
         "orientation": "v",
         "showlegend": false,
         "textposition": "auto",
         "type": "bar",
         "x": [
          "20221229_15:09:14_ITER4000_X101_ae102021only"
         ],
         "xaxis": "x29",
         "y": [
          11.36138613861386
         ],
         "yaxis": "y29"
        },
        {
         "alignmentgroup": "True",
         "hovertemplate": "model=%{x}<br>variable=AP-fungites<br>Average precision=%{y}<extra></extra>",
         "legendgroup": "20221229_15:09:14_ITER4000_X101_ae102021only",
         "marker": {
          "color": "#636efa",
          "pattern": {
           "shape": ""
          }
         },
         "name": "20221229_15:09:14_ITER4000_X101_ae102021only",
         "offsetgroup": "20221229_15:09:14_ITER4000_X101_ae102021only",
         "orientation": "v",
         "showlegend": false,
         "textposition": "auto",
         "type": "bar",
         "x": [
          "20221229_15:09:14_ITER4000_X101_ae102021only"
         ],
         "xaxis": "x21",
         "y": [
          21.05610561056106
         ],
         "yaxis": "y21"
        },
        {
         "alignmentgroup": "True",
         "hovertemplate": "model=%{x}<br>variable=AP<br>Average precision=%{y}<extra></extra>",
         "legendgroup": "20221229_15:09:14_ITER4000_X101_ae102021only",
         "marker": {
          "color": "#636efa",
          "pattern": {
           "shape": ""
          }
         },
         "name": "20221229_15:09:14_ITER4000_X101_ae102021only",
         "offsetgroup": "20221229_15:09:14_ITER4000_X101_ae102021only",
         "orientation": "v",
         "showlegend": false,
         "textposition": "auto",
         "type": "bar",
         "x": [
          "20221229_15:09:14_ITER4000_X101_ae102021only"
         ],
         "xaxis": "x7",
         "y": [
          18.865701216507222
         ],
         "yaxis": "y7"
        },
        {
         "alignmentgroup": "True",
         "hovertemplate": "model=%{x}<br>variable=AP50<br>Average precision=%{y}<extra></extra>",
         "legendgroup": "20221229_15:09:14_ITER4000_X101_ae102021only",
         "marker": {
          "color": "#636efa",
          "pattern": {
           "shape": ""
          }
         },
         "name": "20221229_15:09:14_ITER4000_X101_ae102021only",
         "offsetgroup": "20221229_15:09:14_ITER4000_X101_ae102021only",
         "orientation": "v",
         "showlegend": false,
         "textposition": "auto",
         "type": "bar",
         "x": [
          "20221229_15:09:14_ITER4000_X101_ae102021only"
         ],
         "xaxis": "x8",
         "y": [
          30.665421999521385
         ],
         "yaxis": "y8"
        },
        {
         "alignmentgroup": "True",
         "hovertemplate": "model=%{x}<br>variable=AP75<br>Average precision=%{y}<extra></extra>",
         "legendgroup": "20221229_15:09:14_ITER4000_X101_ae102021only",
         "marker": {
          "color": "#636efa",
          "pattern": {
           "shape": ""
          }
         },
         "name": "20221229_15:09:14_ITER4000_X101_ae102021only",
         "offsetgroup": "20221229_15:09:14_ITER4000_X101_ae102021only",
         "orientation": "v",
         "showlegend": false,
         "textposition": "auto",
         "type": "bar",
         "x": [
          "20221229_15:09:14_ITER4000_X101_ae102021only"
         ],
         "xaxis": "x9",
         "y": [
          18.68863363428152
         ],
         "yaxis": "y9"
        },
        {
         "alignmentgroup": "True",
         "hovertemplate": "model=%{x}<br>variable=APs<br>Average precision=%{y}<extra></extra>",
         "legendgroup": "20221229_15:09:14_ITER4000_X101_ae102021only",
         "marker": {
          "color": "#636efa",
          "pattern": {
           "shape": ""
          }
         },
         "name": "20221229_15:09:14_ITER4000_X101_ae102021only",
         "offsetgroup": "20221229_15:09:14_ITER4000_X101_ae102021only",
         "orientation": "v",
         "showlegend": false,
         "textposition": "auto",
         "type": "bar",
         "x": [
          "20221229_15:09:14_ITER4000_X101_ae102021only"
         ],
         "xaxis": "x10",
         "y": [
          1.051980198019802
         ],
         "yaxis": "y10"
        },
        {
         "alignmentgroup": "True",
         "hovertemplate": "model=%{x}<br>variable=APm<br>Average precision=%{y}<extra></extra>",
         "legendgroup": "20221229_15:09:14_ITER4000_X101_ae102021only",
         "marker": {
          "color": "#636efa",
          "pattern": {
           "shape": ""
          }
         },
         "name": "20221229_15:09:14_ITER4000_X101_ae102021only",
         "offsetgroup": "20221229_15:09:14_ITER4000_X101_ae102021only",
         "orientation": "v",
         "showlegend": false,
         "textposition": "auto",
         "type": "bar",
         "x": [
          "20221229_15:09:14_ITER4000_X101_ae102021only"
         ],
         "xaxis": "x",
         "y": [
          20.7959795979598
         ],
         "yaxis": "y"
        },
        {
         "alignmentgroup": "True",
         "hovertemplate": "model=%{x}<br>variable=APl<br>Average precision=%{y}<extra></extra>",
         "legendgroup": "20221229_15:09:14_ITER4000_X101_ae102021only",
         "marker": {
          "color": "#636efa",
          "pattern": {
           "shape": ""
          }
         },
         "name": "20221229_15:09:14_ITER4000_X101_ae102021only",
         "offsetgroup": "20221229_15:09:14_ITER4000_X101_ae102021only",
         "orientation": "v",
         "showlegend": false,
         "textposition": "auto",
         "type": "bar",
         "x": [
          "20221229_15:09:14_ITER4000_X101_ae102021only"
         ],
         "xaxis": "x2",
         "y": [
          26.00928785884465
         ],
         "yaxis": "y2"
        },
        {
         "alignmentgroup": "True",
         "hovertemplate": "model=%{x}<br>variable=AP-tenuis<br>Average precision=%{y}<extra></extra>",
         "legendgroup": "20230202_11:07:44_X101_allsites_ITER10000",
         "marker": {
          "color": "#EF553B",
          "pattern": {
           "shape": ""
          }
         },
         "name": "20230202_11:07:44_X101_allsites_ITER10000",
         "offsetgroup": "20230202_11:07:44_X101_allsites_ITER10000",
         "orientation": "v",
         "showlegend": true,
         "textposition": "auto",
         "type": "bar",
         "x": [
          "20230202_11:07:44_X101_allsites_ITER10000"
         ],
         "xaxis": "x36",
         "y": [
          20.83451754603765
         ],
         "yaxis": "y36"
        },
        {
         "alignmentgroup": "True",
         "hovertemplate": "model=%{x}<br>variable=AP-histrix<br>Average precision=%{y}<extra></extra>",
         "legendgroup": "20230202_11:07:44_X101_allsites_ITER10000",
         "marker": {
          "color": "#EF553B",
          "pattern": {
           "shape": ""
          }
         },
         "name": "20230202_11:07:44_X101_allsites_ITER10000",
         "offsetgroup": "20230202_11:07:44_X101_allsites_ITER10000",
         "orientation": "v",
         "showlegend": false,
         "textposition": "auto",
         "type": "bar",
         "x": [
          "20230202_11:07:44_X101_allsites_ITER10000"
         ],
         "xaxis": "x37",
         "y": [
          1.1303435308069814
         ],
         "yaxis": "y37"
        },
        {
         "alignmentgroup": "True",
         "hovertemplate": "model=%{x}<br>variable=AP-rus<br>Average precision=%{y}<extra></extra>",
         "legendgroup": "20230202_11:07:44_X101_allsites_ITER10000",
         "marker": {
          "color": "#EF553B",
          "pattern": {
           "shape": ""
          }
         },
         "name": "20230202_11:07:44_X101_allsites_ITER10000",
         "offsetgroup": "20230202_11:07:44_X101_allsites_ITER10000",
         "orientation": "v",
         "showlegend": false,
         "textposition": "auto",
         "type": "bar",
         "x": [
          "20230202_11:07:44_X101_allsites_ITER10000"
         ],
         "xaxis": "x38",
         "y": [
          39.86796073208602
         ],
         "yaxis": "y38"
        },
        {
         "alignmentgroup": "True",
         "hovertemplate": "model=%{x}<br>variable=AP-hemprichi<br>Average precision=%{y}<extra></extra>",
         "legendgroup": "20230202_11:07:44_X101_allsites_ITER10000",
         "marker": {
          "color": "#EF553B",
          "pattern": {
           "shape": ""
          }
         },
         "name": "20230202_11:07:44_X101_allsites_ITER10000",
         "offsetgroup": "20230202_11:07:44_X101_allsites_ITER10000",
         "orientation": "v",
         "showlegend": false,
         "textposition": "auto",
         "type": "bar",
         "x": [
          "20230202_11:07:44_X101_allsites_ITER10000"
         ],
         "xaxis": "x39",
         "y": [
          8.199752461267662
         ],
         "yaxis": "y39"
        },
        {
         "alignmentgroup": "True",
         "hovertemplate": "model=%{x}<br>variable=AP-Lutea<br>Average precision=%{y}<extra></extra>",
         "legendgroup": "20230202_11:07:44_X101_allsites_ITER10000",
         "marker": {
          "color": "#EF553B",
          "pattern": {
           "shape": ""
          }
         },
         "name": "20230202_11:07:44_X101_allsites_ITER10000",
         "offsetgroup": "20230202_11:07:44_X101_allsites_ITER10000",
         "orientation": "v",
         "showlegend": false,
         "textposition": "auto",
         "type": "bar",
         "x": [
          "20230202_11:07:44_X101_allsites_ITER10000"
         ],
         "xaxis": "x40",
         "y": [
          35.73094674117829
         ],
         "yaxis": "y40"
        },
        {
         "alignmentgroup": "True",
         "hovertemplate": "model=%{x}<br>variable=AP-sp1<br>Average precision=%{y}<extra></extra>",
         "legendgroup": "20230202_11:07:44_X101_allsites_ITER10000",
         "marker": {
          "color": "#EF553B",
          "pattern": {
           "shape": ""
          }
         },
         "name": "20230202_11:07:44_X101_allsites_ITER10000",
         "offsetgroup": "20230202_11:07:44_X101_allsites_ITER10000",
         "orientation": "v",
         "showlegend": false,
         "textposition": "auto",
         "type": "bar",
         "x": [
          "20230202_11:07:44_X101_allsites_ITER10000"
         ],
         "xaxis": "x31",
         "y": [
          0
         ],
         "yaxis": "y31"
        },
        {
         "alignmentgroup": "True",
         "hovertemplate": "model=%{x}<br>variable=AP-lobata<br>Average precision=%{y}<extra></extra>",
         "legendgroup": "20230202_11:07:44_X101_allsites_ITER10000",
         "marker": {
          "color": "#EF553B",
          "pattern": {
           "shape": ""
          }
         },
         "name": "20230202_11:07:44_X101_allsites_ITER10000",
         "offsetgroup": "20230202_11:07:44_X101_allsites_ITER10000",
         "orientation": "v",
         "showlegend": false,
         "textposition": "auto",
         "type": "bar",
         "x": [
          "20230202_11:07:44_X101_allsites_ITER10000"
         ],
         "xaxis": "x32",
         "y": [
          19.362782432089368
         ],
         "yaxis": "y32"
        },
        {
         "alignmentgroup": "True",
         "hovertemplate": "model=%{x}<br>variable=AP-cylibdrica<br>Average precision=%{y}<extra></extra>",
         "legendgroup": "20230202_11:07:44_X101_allsites_ITER10000",
         "marker": {
          "color": "#EF553B",
          "pattern": {
           "shape": ""
          }
         },
         "name": "20230202_11:07:44_X101_allsites_ITER10000",
         "offsetgroup": "20230202_11:07:44_X101_allsites_ITER10000",
         "orientation": "v",
         "showlegend": false,
         "textposition": "auto",
         "type": "bar",
         "x": [
          "20230202_11:07:44_X101_allsites_ITER10000"
         ],
         "xaxis": "x33",
         "y": [
          34.503221750746505
         ],
         "yaxis": "y33"
        },
        {
         "alignmentgroup": "True",
         "hovertemplate": "model=%{x}<br>variable=AP-digitifera<br>Average precision=%{y}<extra></extra>",
         "legendgroup": "20230202_11:07:44_X101_allsites_ITER10000",
         "marker": {
          "color": "#EF553B",
          "pattern": {
           "shape": ""
          }
         },
         "name": "20230202_11:07:44_X101_allsites_ITER10000",
         "offsetgroup": "20230202_11:07:44_X101_allsites_ITER10000",
         "orientation": "v",
         "showlegend": false,
         "textposition": "auto",
         "type": "bar",
         "x": [
          "20230202_11:07:44_X101_allsites_ITER10000"
         ],
         "xaxis": "x34",
         "y": [
          0.5178979436405179
         ],
         "yaxis": "y34"
        },
        {
         "alignmentgroup": "True",
         "hovertemplate": "model=%{x}<br>variable=AP-retiformis<br>Average precision=%{y}<extra></extra>",
         "legendgroup": "20230202_11:07:44_X101_allsites_ITER10000",
         "marker": {
          "color": "#EF553B",
          "pattern": {
           "shape": ""
          }
         },
         "name": "20230202_11:07:44_X101_allsites_ITER10000",
         "offsetgroup": "20230202_11:07:44_X101_allsites_ITER10000",
         "orientation": "v",
         "showlegend": false,
         "textposition": "auto",
         "type": "bar",
         "x": [
          "20230202_11:07:44_X101_allsites_ITER10000"
         ],
         "xaxis": "x35",
         "y": [
          28.587117922318544
         ],
         "yaxis": "y35"
        },
        {
         "alignmentgroup": "True",
         "hovertemplate": "model=%{x}<br>variable=AP-divaricata<br>Average precision=%{y}<extra></extra>",
         "legendgroup": "20230202_11:07:44_X101_allsites_ITER10000",
         "marker": {
          "color": "#EF553B",
          "pattern": {
           "shape": ""
          }
         },
         "name": "20230202_11:07:44_X101_allsites_ITER10000",
         "offsetgroup": "20230202_11:07:44_X101_allsites_ITER10000",
         "orientation": "v",
         "showlegend": false,
         "textposition": "auto",
         "type": "bar",
         "x": [
          "20230202_11:07:44_X101_allsites_ITER10000"
         ],
         "xaxis": "x26",
         "y": [
          6.88598781604459
         ],
         "yaxis": "y26"
        },
        {
         "alignmentgroup": "True",
         "hovertemplate": "model=%{x}<br>variable=AP-anae<br>Average precision=%{y}<extra></extra>",
         "legendgroup": "20230202_11:07:44_X101_allsites_ITER10000",
         "marker": {
          "color": "#EF553B",
          "pattern": {
           "shape": ""
          }
         },
         "name": "20230202_11:07:44_X101_allsites_ITER10000",
         "offsetgroup": "20230202_11:07:44_X101_allsites_ITER10000",
         "orientation": "v",
         "showlegend": false,
         "textposition": "auto",
         "type": "bar",
         "x": [
          "20230202_11:07:44_X101_allsites_ITER10000"
         ],
         "xaxis": "x27",
         "y": [
          0
         ],
         "yaxis": "y27"
        },
        {
         "alignmentgroup": "True",
         "hovertemplate": "model=%{x}<br>variable=AP-hyacinthus<br>Average precision=%{y}<extra></extra>",
         "legendgroup": "20230202_11:07:44_X101_allsites_ITER10000",
         "marker": {
          "color": "#EF553B",
          "pattern": {
           "shape": ""
          }
         },
         "name": "20230202_11:07:44_X101_allsites_ITER10000",
         "offsetgroup": "20230202_11:07:44_X101_allsites_ITER10000",
         "orientation": "v",
         "showlegend": false,
         "textposition": "auto",
         "type": "bar",
         "x": [
          "20230202_11:07:44_X101_allsites_ITER10000"
         ],
         "xaxis": "x28",
         "y": [
          48.53852002591505
         ],
         "yaxis": "y28"
        },
        {
         "alignmentgroup": "True",
         "hovertemplate": "model=%{x}<br>variable=AP-humilis<br>Average precision=%{y}<extra></extra>",
         "legendgroup": "20230202_11:07:44_X101_allsites_ITER10000",
         "marker": {
          "color": "#EF553B",
          "pattern": {
           "shape": ""
          }
         },
         "name": "20230202_11:07:44_X101_allsites_ITER10000",
         "offsetgroup": "20230202_11:07:44_X101_allsites_ITER10000",
         "orientation": "v",
         "showlegend": false,
         "textposition": "auto",
         "type": "bar",
         "x": [
          "20230202_11:07:44_X101_allsites_ITER10000"
         ],
         "xaxis": "x29",
         "y": [
          19.32189738983412
         ],
         "yaxis": "y29"
        },
        {
         "alignmentgroup": "True",
         "hovertemplate": "model=%{x}<br>variable=AP-gemmacea<br>Average precision=%{y}<extra></extra>",
         "legendgroup": "20230202_11:07:44_X101_allsites_ITER10000",
         "marker": {
          "color": "#EF553B",
          "pattern": {
           "shape": ""
          }
         },
         "name": "20230202_11:07:44_X101_allsites_ITER10000",
         "offsetgroup": "20230202_11:07:44_X101_allsites_ITER10000",
         "orientation": "v",
         "showlegend": false,
         "textposition": "auto",
         "type": "bar",
         "x": [
          "20230202_11:07:44_X101_allsites_ITER10000"
         ],
         "xaxis": "x30",
         "y": [
          0
         ],
         "yaxis": "y30"
        },
        {
         "alignmentgroup": "True",
         "hovertemplate": "model=%{x}<br>variable=AP-fungites<br>Average precision=%{y}<extra></extra>",
         "legendgroup": "20230202_11:07:44_X101_allsites_ITER10000",
         "marker": {
          "color": "#EF553B",
          "pattern": {
           "shape": ""
          }
         },
         "name": "20230202_11:07:44_X101_allsites_ITER10000",
         "offsetgroup": "20230202_11:07:44_X101_allsites_ITER10000",
         "orientation": "v",
         "showlegend": false,
         "textposition": "auto",
         "type": "bar",
         "x": [
          "20230202_11:07:44_X101_allsites_ITER10000"
         ],
         "xaxis": "x21",
         "y": [
          0
         ],
         "yaxis": "y21"
        },
        {
         "alignmentgroup": "True",
         "hovertemplate": "model=%{x}<br>variable=AP-pectinata<br>Average precision=%{y}<extra></extra>",
         "legendgroup": "20230202_11:07:44_X101_allsites_ITER10000",
         "marker": {
          "color": "#EF553B",
          "pattern": {
           "shape": ""
          }
         },
         "name": "20230202_11:07:44_X101_allsites_ITER10000",
         "offsetgroup": "20230202_11:07:44_X101_allsites_ITER10000",
         "orientation": "v",
         "showlegend": false,
         "textposition": "auto",
         "type": "bar",
         "x": [
          "20230202_11:07:44_X101_allsites_ITER10000"
         ],
         "xaxis": "x22",
         "y": [
          6.435643564356436
         ],
         "yaxis": "y22"
        },
        {
         "alignmentgroup": "True",
         "hovertemplate": "model=%{x}<br>variable=AP-daedalea<br>Average precision=%{y}<extra></extra>",
         "legendgroup": "20230202_11:07:44_X101_allsites_ITER10000",
         "marker": {
          "color": "#EF553B",
          "pattern": {
           "shape": ""
          }
         },
         "name": "20230202_11:07:44_X101_allsites_ITER10000",
         "offsetgroup": "20230202_11:07:44_X101_allsites_ITER10000",
         "orientation": "v",
         "showlegend": false,
         "textposition": "auto",
         "type": "bar",
         "x": [
          "20230202_11:07:44_X101_allsites_ITER10000"
         ],
         "xaxis": "x23",
         "y": [
          5.792079207920793
         ],
         "yaxis": "y23"
        },
        {
         "alignmentgroup": "True",
         "hovertemplate": "model=%{x}<br>variable=AP-speciosa<br>Average precision=%{y}<extra></extra>",
         "legendgroup": "20230202_11:07:44_X101_allsites_ITER10000",
         "marker": {
          "color": "#EF553B",
          "pattern": {
           "shape": ""
          }
         },
         "name": "20230202_11:07:44_X101_allsites_ITER10000",
         "offsetgroup": "20230202_11:07:44_X101_allsites_ITER10000",
         "orientation": "v",
         "showlegend": false,
         "textposition": "auto",
         "type": "bar",
         "x": [
          "20230202_11:07:44_X101_allsites_ITER10000"
         ],
         "xaxis": "x24",
         "y": [
          0
         ],
         "yaxis": "y24"
        },
        {
         "alignmentgroup": "True",
         "hovertemplate": "model=%{x}<br>variable=AP-muricata<br>Average precision=%{y}<extra></extra>",
         "legendgroup": "20230202_11:07:44_X101_allsites_ITER10000",
         "marker": {
          "color": "#EF553B",
          "pattern": {
           "shape": ""
          }
         },
         "name": "20230202_11:07:44_X101_allsites_ITER10000",
         "offsetgroup": "20230202_11:07:44_X101_allsites_ITER10000",
         "orientation": "v",
         "showlegend": false,
         "textposition": "auto",
         "type": "bar",
         "x": [
          "20230202_11:07:44_X101_allsites_ITER10000"
         ],
         "xaxis": "x25",
         "y": [
          8.210766550684003
         ],
         "yaxis": "y25"
        },
        {
         "alignmentgroup": "True",
         "hovertemplate": "model=%{x}<br>variable=AP-fascicularis<br>Average precision=%{y}<extra></extra>",
         "legendgroup": "20230202_11:07:44_X101_allsites_ITER10000",
         "marker": {
          "color": "#EF553B",
          "pattern": {
           "shape": ""
          }
         },
         "name": "20230202_11:07:44_X101_allsites_ITER10000",
         "offsetgroup": "20230202_11:07:44_X101_allsites_ITER10000",
         "orientation": "v",
         "showlegend": false,
         "textposition": "auto",
         "type": "bar",
         "x": [
          "20230202_11:07:44_X101_allsites_ITER10000"
         ],
         "xaxis": "x16",
         "y": [
          0
         ],
         "yaxis": "y16"
        },
        {
         "alignmentgroup": "True",
         "hovertemplate": "model=%{x}<br>variable=AP-exaesa<br>Average precision=%{y}<extra></extra>",
         "legendgroup": "20230202_11:07:44_X101_allsites_ITER10000",
         "marker": {
          "color": "#EF553B",
          "pattern": {
           "shape": ""
          }
         },
         "name": "20230202_11:07:44_X101_allsites_ITER10000",
         "offsetgroup": "20230202_11:07:44_X101_allsites_ITER10000",
         "orientation": "v",
         "showlegend": false,
         "textposition": "auto",
         "type": "bar",
         "x": [
          "20230202_11:07:44_X101_allsites_ITER10000"
         ],
         "xaxis": "x17",
         "y": [
          0
         ],
         "yaxis": "y17"
        },
        {
         "alignmentgroup": "True",
         "hovertemplate": "model=%{x}<br>variable=AP-halicora<br>Average precision=%{y}<extra></extra>",
         "legendgroup": "20230202_11:07:44_X101_allsites_ITER10000",
         "marker": {
          "color": "#EF553B",
          "pattern": {
           "shape": ""
          }
         },
         "name": "20230202_11:07:44_X101_allsites_ITER10000",
         "offsetgroup": "20230202_11:07:44_X101_allsites_ITER10000",
         "orientation": "v",
         "showlegend": false,
         "textposition": "auto",
         "type": "bar",
         "x": [
          "20230202_11:07:44_X101_allsites_ITER10000"
         ],
         "xaxis": "x18",
         "y": [
          0.4243281471004244
         ],
         "yaxis": "y18"
        },
        {
         "alignmentgroup": "True",
         "hovertemplate": "model=%{x}<br>variable=AP-astreata<br>Average precision=%{y}<extra></extra>",
         "legendgroup": "20230202_11:07:44_X101_allsites_ITER10000",
         "marker": {
          "color": "#EF553B",
          "pattern": {
           "shape": ""
          }
         },
         "name": "20230202_11:07:44_X101_allsites_ITER10000",
         "offsetgroup": "20230202_11:07:44_X101_allsites_ITER10000",
         "orientation": "v",
         "showlegend": false,
         "textposition": "auto",
         "type": "bar",
         "x": [
          "20230202_11:07:44_X101_allsites_ITER10000"
         ],
         "xaxis": "x19",
         "y": [
          21.782096778488693
         ],
         "yaxis": "y19"
        },
        {
         "alignmentgroup": "True",
         "hovertemplate": "model=%{x}<br>variable=AP-complanata<br>Average precision=%{y}<extra></extra>",
         "legendgroup": "20230202_11:07:44_X101_allsites_ITER10000",
         "marker": {
          "color": "#EF553B",
          "pattern": {
           "shape": ""
          }
         },
         "name": "20230202_11:07:44_X101_allsites_ITER10000",
         "offsetgroup": "20230202_11:07:44_X101_allsites_ITER10000",
         "orientation": "v",
         "showlegend": false,
         "textposition": "auto",
         "type": "bar",
         "x": [
          "20230202_11:07:44_X101_allsites_ITER10000"
         ],
         "xaxis": "x20",
         "y": [
          16.620809449365986
         ],
         "yaxis": "y20"
        },
        {
         "alignmentgroup": "True",
         "hovertemplate": "model=%{x}<br>variable=AP-cylindrica<br>Average precision=%{y}<extra></extra>",
         "legendgroup": "20230202_11:07:44_X101_allsites_ITER10000",
         "marker": {
          "color": "#EF553B",
          "pattern": {
           "shape": ""
          }
         },
         "name": "20230202_11:07:44_X101_allsites_ITER10000",
         "offsetgroup": "20230202_11:07:44_X101_allsites_ITER10000",
         "orientation": "v",
         "showlegend": false,
         "textposition": "auto",
         "type": "bar",
         "x": [
          "20230202_11:07:44_X101_allsites_ITER10000"
         ],
         "xaxis": "x11",
         "y": [
          0
         ],
         "yaxis": "y11"
        },
        {
         "alignmentgroup": "True",
         "hovertemplate": "model=%{x}<br>variable=AP-palifera<br>Average precision=%{y}<extra></extra>",
         "legendgroup": "20230202_11:07:44_X101_allsites_ITER10000",
         "marker": {
          "color": "#EF553B",
          "pattern": {
           "shape": ""
          }
         },
         "name": "20230202_11:07:44_X101_allsites_ITER10000",
         "offsetgroup": "20230202_11:07:44_X101_allsites_ITER10000",
         "orientation": "v",
         "showlegend": false,
         "textposition": "auto",
         "type": "bar",
         "x": [
          "20230202_11:07:44_X101_allsites_ITER10000"
         ],
         "xaxis": "x12",
         "y": [
          10.752708989829545
         ],
         "yaxis": "y12"
        },
        {
         "alignmentgroup": "True",
         "hovertemplate": "model=%{x}<br>variable=AP-heliopora<br>Average precision=%{y}<extra></extra>",
         "legendgroup": "20230202_11:07:44_X101_allsites_ITER10000",
         "marker": {
          "color": "#EF553B",
          "pattern": {
           "shape": ""
          }
         },
         "name": "20230202_11:07:44_X101_allsites_ITER10000",
         "offsetgroup": "20230202_11:07:44_X101_allsites_ITER10000",
         "orientation": "v",
         "showlegend": false,
         "textposition": "auto",
         "type": "bar",
         "x": [
          "20230202_11:07:44_X101_allsites_ITER10000"
         ],
         "xaxis": "x13",
         "y": [
          0
         ],
         "yaxis": "y13"
        },
        {
         "alignmentgroup": "True",
         "hovertemplate": "model=%{x}<br>variable=AP-Muricata 1<br>Average precision=%{y}<extra></extra>",
         "legendgroup": "20230202_11:07:44_X101_allsites_ITER10000",
         "marker": {
          "color": "#EF553B",
          "pattern": {
           "shape": ""
          }
         },
         "name": "20230202_11:07:44_X101_allsites_ITER10000",
         "offsetgroup": "20230202_11:07:44_X101_allsites_ITER10000",
         "orientation": "v",
         "showlegend": false,
         "textposition": "auto",
         "type": "bar",
         "x": [
          "20230202_11:07:44_X101_allsites_ITER10000"
         ],
         "xaxis": "x14",
         "y": [
          50.07439818751213
         ],
         "yaxis": "y14"
        },
        {
         "alignmentgroup": "True",
         "hovertemplate": "model=%{x}<br>variable=AP-lutea<br>Average precision=%{y}<extra></extra>",
         "legendgroup": "20230202_11:07:44_X101_allsites_ITER10000",
         "marker": {
          "color": "#EF553B",
          "pattern": {
           "shape": ""
          }
         },
         "name": "20230202_11:07:44_X101_allsites_ITER10000",
         "offsetgroup": "20230202_11:07:44_X101_allsites_ITER10000",
         "orientation": "v",
         "showlegend": false,
         "textposition": "auto",
         "type": "bar",
         "x": [
          "20230202_11:07:44_X101_allsites_ITER10000"
         ],
         "xaxis": "x15",
         "y": [
          4.187495672644188
         ],
         "yaxis": "y15"
        },
        {
         "alignmentgroup": "True",
         "hovertemplate": "model=%{x}<br>variable=AP-sp<br>Average precision=%{y}<extra></extra>",
         "legendgroup": "20230202_11:07:44_X101_allsites_ITER10000",
         "marker": {
          "color": "#EF553B",
          "pattern": {
           "shape": ""
          }
         },
         "name": "20230202_11:07:44_X101_allsites_ITER10000",
         "offsetgroup": "20230202_11:07:44_X101_allsites_ITER10000",
         "orientation": "v",
         "showlegend": false,
         "textposition": "auto",
         "type": "bar",
         "x": [
          "20230202_11:07:44_X101_allsites_ITER10000"
         ],
         "xaxis": "x6",
         "y": [
          1.323132313231323
         ],
         "yaxis": "y6"
        },
        {
         "alignmentgroup": "True",
         "hovertemplate": "model=%{x}<br>variable=AP<br>Average precision=%{y}<extra></extra>",
         "legendgroup": "20230202_11:07:44_X101_allsites_ITER10000",
         "marker": {
          "color": "#EF553B",
          "pattern": {
           "shape": ""
          }
         },
         "name": "20230202_11:07:44_X101_allsites_ITER10000",
         "offsetgroup": "20230202_11:07:44_X101_allsites_ITER10000",
         "orientation": "v",
         "showlegend": false,
         "textposition": "auto",
         "type": "bar",
         "x": [
          "20230202_11:07:44_X101_allsites_ITER10000"
         ],
         "xaxis": "x7",
         "y": [
          12.551109843648348
         ],
         "yaxis": "y7"
        },
        {
         "alignmentgroup": "True",
         "hovertemplate": "model=%{x}<br>variable=AP50<br>Average precision=%{y}<extra></extra>",
         "legendgroup": "20230202_11:07:44_X101_allsites_ITER10000",
         "marker": {
          "color": "#EF553B",
          "pattern": {
           "shape": ""
          }
         },
         "name": "20230202_11:07:44_X101_allsites_ITER10000",
         "offsetgroup": "20230202_11:07:44_X101_allsites_ITER10000",
         "orientation": "v",
         "showlegend": false,
         "textposition": "auto",
         "type": "bar",
         "x": [
          "20230202_11:07:44_X101_allsites_ITER10000"
         ],
         "xaxis": "x8",
         "y": [
          20.06126737621104
         ],
         "yaxis": "y8"
        },
        {
         "alignmentgroup": "True",
         "hovertemplate": "model=%{x}<br>variable=AP75<br>Average precision=%{y}<extra></extra>",
         "legendgroup": "20230202_11:07:44_X101_allsites_ITER10000",
         "marker": {
          "color": "#EF553B",
          "pattern": {
           "shape": ""
          }
         },
         "name": "20230202_11:07:44_X101_allsites_ITER10000",
         "offsetgroup": "20230202_11:07:44_X101_allsites_ITER10000",
         "orientation": "v",
         "showlegend": false,
         "textposition": "auto",
         "type": "bar",
         "x": [
          "20230202_11:07:44_X101_allsites_ITER10000"
         ],
         "xaxis": "x9",
         "y": [
          13.71942647513892
         ],
         "yaxis": "y9"
        },
        {
         "alignmentgroup": "True",
         "hovertemplate": "model=%{x}<br>variable=APs<br>Average precision=%{y}<extra></extra>",
         "legendgroup": "20230202_11:07:44_X101_allsites_ITER10000",
         "marker": {
          "color": "#EF553B",
          "pattern": {
           "shape": ""
          }
         },
         "name": "20230202_11:07:44_X101_allsites_ITER10000",
         "offsetgroup": "20230202_11:07:44_X101_allsites_ITER10000",
         "orientation": "v",
         "showlegend": false,
         "textposition": "auto",
         "type": "bar",
         "x": [
          "20230202_11:07:44_X101_allsites_ITER10000"
         ],
         "xaxis": "x10",
         "y": [
          0.6670140698280355
         ],
         "yaxis": "y10"
        },
        {
         "alignmentgroup": "True",
         "hovertemplate": "model=%{x}<br>variable=APm<br>Average precision=%{y}<extra></extra>",
         "legendgroup": "20230202_11:07:44_X101_allsites_ITER10000",
         "marker": {
          "color": "#EF553B",
          "pattern": {
           "shape": ""
          }
         },
         "name": "20230202_11:07:44_X101_allsites_ITER10000",
         "offsetgroup": "20230202_11:07:44_X101_allsites_ITER10000",
         "orientation": "v",
         "showlegend": false,
         "textposition": "auto",
         "type": "bar",
         "x": [
          "20230202_11:07:44_X101_allsites_ITER10000"
         ],
         "xaxis": "x",
         "y": [
          2.9840569507198147
         ],
         "yaxis": "y"
        },
        {
         "alignmentgroup": "True",
         "hovertemplate": "model=%{x}<br>variable=APl<br>Average precision=%{y}<extra></extra>",
         "legendgroup": "20230202_11:07:44_X101_allsites_ITER10000",
         "marker": {
          "color": "#EF553B",
          "pattern": {
           "shape": ""
          }
         },
         "name": "20230202_11:07:44_X101_allsites_ITER10000",
         "offsetgroup": "20230202_11:07:44_X101_allsites_ITER10000",
         "orientation": "v",
         "showlegend": false,
         "textposition": "auto",
         "type": "bar",
         "x": [
          "20230202_11:07:44_X101_allsites_ITER10000"
         ],
         "xaxis": "x2",
         "y": [
          16.727636991233055
         ],
         "yaxis": "y2"
        },
        {
         "alignmentgroup": "True",
         "hovertemplate": "model=%{x}<br>variable=AP-tenuis<br>Average precision=%{y}<extra></extra>",
         "legendgroup": "20230202_13:33:19_X101_allsites_ITER20000",
         "marker": {
          "color": "#00cc96",
          "pattern": {
           "shape": ""
          }
         },
         "name": "20230202_13:33:19_X101_allsites_ITER20000",
         "offsetgroup": "20230202_13:33:19_X101_allsites_ITER20000",
         "orientation": "v",
         "showlegend": true,
         "textposition": "auto",
         "type": "bar",
         "x": [
          "20230202_13:33:19_X101_allsites_ITER20000"
         ],
         "xaxis": "x36",
         "y": [
          21.684438078457003
         ],
         "yaxis": "y36"
        },
        {
         "alignmentgroup": "True",
         "hovertemplate": "model=%{x}<br>variable=AP-histrix<br>Average precision=%{y}<extra></extra>",
         "legendgroup": "20230202_13:33:19_X101_allsites_ITER20000",
         "marker": {
          "color": "#00cc96",
          "pattern": {
           "shape": ""
          }
         },
         "name": "20230202_13:33:19_X101_allsites_ITER20000",
         "offsetgroup": "20230202_13:33:19_X101_allsites_ITER20000",
         "orientation": "v",
         "showlegend": false,
         "textposition": "auto",
         "type": "bar",
         "x": [
          "20230202_13:33:19_X101_allsites_ITER20000"
         ],
         "xaxis": "x37",
         "y": [
          7.009900990099009
         ],
         "yaxis": "y37"
        },
        {
         "alignmentgroup": "True",
         "hovertemplate": "model=%{x}<br>variable=AP-rus<br>Average precision=%{y}<extra></extra>",
         "legendgroup": "20230202_13:33:19_X101_allsites_ITER20000",
         "marker": {
          "color": "#00cc96",
          "pattern": {
           "shape": ""
          }
         },
         "name": "20230202_13:33:19_X101_allsites_ITER20000",
         "offsetgroup": "20230202_13:33:19_X101_allsites_ITER20000",
         "orientation": "v",
         "showlegend": false,
         "textposition": "auto",
         "type": "bar",
         "x": [
          "20230202_13:33:19_X101_allsites_ITER20000"
         ],
         "xaxis": "x38",
         "y": [
          39.48257413985049
         ],
         "yaxis": "y38"
        },
        {
         "alignmentgroup": "True",
         "hovertemplate": "model=%{x}<br>variable=AP-hemprichi<br>Average precision=%{y}<extra></extra>",
         "legendgroup": "20230202_13:33:19_X101_allsites_ITER20000",
         "marker": {
          "color": "#00cc96",
          "pattern": {
           "shape": ""
          }
         },
         "name": "20230202_13:33:19_X101_allsites_ITER20000",
         "offsetgroup": "20230202_13:33:19_X101_allsites_ITER20000",
         "orientation": "v",
         "showlegend": false,
         "textposition": "auto",
         "type": "bar",
         "x": [
          "20230202_13:33:19_X101_allsites_ITER20000"
         ],
         "xaxis": "x39",
         "y": [
          7.499009900990099
         ],
         "yaxis": "y39"
        },
        {
         "alignmentgroup": "True",
         "hovertemplate": "model=%{x}<br>variable=AP-Lutea<br>Average precision=%{y}<extra></extra>",
         "legendgroup": "20230202_13:33:19_X101_allsites_ITER20000",
         "marker": {
          "color": "#00cc96",
          "pattern": {
           "shape": ""
          }
         },
         "name": "20230202_13:33:19_X101_allsites_ITER20000",
         "offsetgroup": "20230202_13:33:19_X101_allsites_ITER20000",
         "orientation": "v",
         "showlegend": false,
         "textposition": "auto",
         "type": "bar",
         "x": [
          "20230202_13:33:19_X101_allsites_ITER20000"
         ],
         "xaxis": "x40",
         "y": [
          40.43018222190126
         ],
         "yaxis": "y40"
        },
        {
         "alignmentgroup": "True",
         "hovertemplate": "model=%{x}<br>variable=AP-sp1<br>Average precision=%{y}<extra></extra>",
         "legendgroup": "20230202_13:33:19_X101_allsites_ITER20000",
         "marker": {
          "color": "#00cc96",
          "pattern": {
           "shape": ""
          }
         },
         "name": "20230202_13:33:19_X101_allsites_ITER20000",
         "offsetgroup": "20230202_13:33:19_X101_allsites_ITER20000",
         "orientation": "v",
         "showlegend": false,
         "textposition": "auto",
         "type": "bar",
         "x": [
          "20230202_13:33:19_X101_allsites_ITER20000"
         ],
         "xaxis": "x31",
         "y": [
          0
         ],
         "yaxis": "y31"
        },
        {
         "alignmentgroup": "True",
         "hovertemplate": "model=%{x}<br>variable=AP-lobata<br>Average precision=%{y}<extra></extra>",
         "legendgroup": "20230202_13:33:19_X101_allsites_ITER20000",
         "marker": {
          "color": "#00cc96",
          "pattern": {
           "shape": ""
          }
         },
         "name": "20230202_13:33:19_X101_allsites_ITER20000",
         "offsetgroup": "20230202_13:33:19_X101_allsites_ITER20000",
         "orientation": "v",
         "showlegend": false,
         "textposition": "auto",
         "type": "bar",
         "x": [
          "20230202_13:33:19_X101_allsites_ITER20000"
         ],
         "xaxis": "x32",
         "y": [
          32.051964692267546
         ],
         "yaxis": "y32"
        },
        {
         "alignmentgroup": "True",
         "hovertemplate": "model=%{x}<br>variable=AP-cylibdrica<br>Average precision=%{y}<extra></extra>",
         "legendgroup": "20230202_13:33:19_X101_allsites_ITER20000",
         "marker": {
          "color": "#00cc96",
          "pattern": {
           "shape": ""
          }
         },
         "name": "20230202_13:33:19_X101_allsites_ITER20000",
         "offsetgroup": "20230202_13:33:19_X101_allsites_ITER20000",
         "orientation": "v",
         "showlegend": false,
         "textposition": "auto",
         "type": "bar",
         "x": [
          "20230202_13:33:19_X101_allsites_ITER20000"
         ],
         "xaxis": "x33",
         "y": [
          34.3003300330033
         ],
         "yaxis": "y33"
        },
        {
         "alignmentgroup": "True",
         "hovertemplate": "model=%{x}<br>variable=AP-digitifera<br>Average precision=%{y}<extra></extra>",
         "legendgroup": "20230202_13:33:19_X101_allsites_ITER20000",
         "marker": {
          "color": "#00cc96",
          "pattern": {
           "shape": ""
          }
         },
         "name": "20230202_13:33:19_X101_allsites_ITER20000",
         "offsetgroup": "20230202_13:33:19_X101_allsites_ITER20000",
         "orientation": "v",
         "showlegend": false,
         "textposition": "auto",
         "type": "bar",
         "x": [
          "20230202_13:33:19_X101_allsites_ITER20000"
         ],
         "xaxis": "x34",
         "y": [
          7.611661166116614
         ],
         "yaxis": "y34"
        },
        {
         "alignmentgroup": "True",
         "hovertemplate": "model=%{x}<br>variable=AP-retiformis<br>Average precision=%{y}<extra></extra>",
         "legendgroup": "20230202_13:33:19_X101_allsites_ITER20000",
         "marker": {
          "color": "#00cc96",
          "pattern": {
           "shape": ""
          }
         },
         "name": "20230202_13:33:19_X101_allsites_ITER20000",
         "offsetgroup": "20230202_13:33:19_X101_allsites_ITER20000",
         "orientation": "v",
         "showlegend": false,
         "textposition": "auto",
         "type": "bar",
         "x": [
          "20230202_13:33:19_X101_allsites_ITER20000"
         ],
         "xaxis": "x35",
         "y": [
          26.968871309277155
         ],
         "yaxis": "y35"
        },
        {
         "alignmentgroup": "True",
         "hovertemplate": "model=%{x}<br>variable=AP-divaricata<br>Average precision=%{y}<extra></extra>",
         "legendgroup": "20230202_13:33:19_X101_allsites_ITER20000",
         "marker": {
          "color": "#00cc96",
          "pattern": {
           "shape": ""
          }
         },
         "name": "20230202_13:33:19_X101_allsites_ITER20000",
         "offsetgroup": "20230202_13:33:19_X101_allsites_ITER20000",
         "orientation": "v",
         "showlegend": false,
         "textposition": "auto",
         "type": "bar",
         "x": [
          "20230202_13:33:19_X101_allsites_ITER20000"
         ],
         "xaxis": "x26",
         "y": [
          5.392520021232893
         ],
         "yaxis": "y26"
        },
        {
         "alignmentgroup": "True",
         "hovertemplate": "model=%{x}<br>variable=AP-anae<br>Average precision=%{y}<extra></extra>",
         "legendgroup": "20230202_13:33:19_X101_allsites_ITER20000",
         "marker": {
          "color": "#00cc96",
          "pattern": {
           "shape": ""
          }
         },
         "name": "20230202_13:33:19_X101_allsites_ITER20000",
         "offsetgroup": "20230202_13:33:19_X101_allsites_ITER20000",
         "orientation": "v",
         "showlegend": false,
         "textposition": "auto",
         "type": "bar",
         "x": [
          "20230202_13:33:19_X101_allsites_ITER20000"
         ],
         "xaxis": "x27",
         "y": [
          0
         ],
         "yaxis": "y27"
        },
        {
         "alignmentgroup": "True",
         "hovertemplate": "model=%{x}<br>variable=AP-hyacinthus<br>Average precision=%{y}<extra></extra>",
         "legendgroup": "20230202_13:33:19_X101_allsites_ITER20000",
         "marker": {
          "color": "#00cc96",
          "pattern": {
           "shape": ""
          }
         },
         "name": "20230202_13:33:19_X101_allsites_ITER20000",
         "offsetgroup": "20230202_13:33:19_X101_allsites_ITER20000",
         "orientation": "v",
         "showlegend": false,
         "textposition": "auto",
         "type": "bar",
         "x": [
          "20230202_13:33:19_X101_allsites_ITER20000"
         ],
         "xaxis": "x28",
         "y": [
          51.53333297377996
         ],
         "yaxis": "y28"
        },
        {
         "alignmentgroup": "True",
         "hovertemplate": "model=%{x}<br>variable=AP-humilis<br>Average precision=%{y}<extra></extra>",
         "legendgroup": "20230202_13:33:19_X101_allsites_ITER20000",
         "marker": {
          "color": "#00cc96",
          "pattern": {
           "shape": ""
          }
         },
         "name": "20230202_13:33:19_X101_allsites_ITER20000",
         "offsetgroup": "20230202_13:33:19_X101_allsites_ITER20000",
         "orientation": "v",
         "showlegend": false,
         "textposition": "auto",
         "type": "bar",
         "x": [
          "20230202_13:33:19_X101_allsites_ITER20000"
         ],
         "xaxis": "x29",
         "y": [
          23.65298182304279
         ],
         "yaxis": "y29"
        },
        {
         "alignmentgroup": "True",
         "hovertemplate": "model=%{x}<br>variable=AP-gemmacea<br>Average precision=%{y}<extra></extra>",
         "legendgroup": "20230202_13:33:19_X101_allsites_ITER20000",
         "marker": {
          "color": "#00cc96",
          "pattern": {
           "shape": ""
          }
         },
         "name": "20230202_13:33:19_X101_allsites_ITER20000",
         "offsetgroup": "20230202_13:33:19_X101_allsites_ITER20000",
         "orientation": "v",
         "showlegend": false,
         "textposition": "auto",
         "type": "bar",
         "x": [
          "20230202_13:33:19_X101_allsites_ITER20000"
         ],
         "xaxis": "x30",
         "y": [
          25.346534653465348
         ],
         "yaxis": "y30"
        },
        {
         "alignmentgroup": "True",
         "hovertemplate": "model=%{x}<br>variable=AP-fungites<br>Average precision=%{y}<extra></extra>",
         "legendgroup": "20230202_13:33:19_X101_allsites_ITER20000",
         "marker": {
          "color": "#00cc96",
          "pattern": {
           "shape": ""
          }
         },
         "name": "20230202_13:33:19_X101_allsites_ITER20000",
         "offsetgroup": "20230202_13:33:19_X101_allsites_ITER20000",
         "orientation": "v",
         "showlegend": false,
         "textposition": "auto",
         "type": "bar",
         "x": [
          "20230202_13:33:19_X101_allsites_ITER20000"
         ],
         "xaxis": "x21",
         "y": [
          0
         ],
         "yaxis": "y21"
        },
        {
         "alignmentgroup": "True",
         "hovertemplate": "model=%{x}<br>variable=AP-pectinata<br>Average precision=%{y}<extra></extra>",
         "legendgroup": "20230202_13:33:19_X101_allsites_ITER20000",
         "marker": {
          "color": "#00cc96",
          "pattern": {
           "shape": ""
          }
         },
         "name": "20230202_13:33:19_X101_allsites_ITER20000",
         "offsetgroup": "20230202_13:33:19_X101_allsites_ITER20000",
         "orientation": "v",
         "showlegend": false,
         "textposition": "auto",
         "type": "bar",
         "x": [
          "20230202_13:33:19_X101_allsites_ITER20000"
         ],
         "xaxis": "x22",
         "y": [
          0
         ],
         "yaxis": "y22"
        },
        {
         "alignmentgroup": "True",
         "hovertemplate": "model=%{x}<br>variable=AP-daedalea<br>Average precision=%{y}<extra></extra>",
         "legendgroup": "20230202_13:33:19_X101_allsites_ITER20000",
         "marker": {
          "color": "#00cc96",
          "pattern": {
           "shape": ""
          }
         },
         "name": "20230202_13:33:19_X101_allsites_ITER20000",
         "offsetgroup": "20230202_13:33:19_X101_allsites_ITER20000",
         "orientation": "v",
         "showlegend": false,
         "textposition": "auto",
         "type": "bar",
         "x": [
          "20230202_13:33:19_X101_allsites_ITER20000"
         ],
         "xaxis": "x23",
         "y": [
          25.742574257425744
         ],
         "yaxis": "y23"
        },
        {
         "alignmentgroup": "True",
         "hovertemplate": "model=%{x}<br>variable=AP-speciosa<br>Average precision=%{y}<extra></extra>",
         "legendgroup": "20230202_13:33:19_X101_allsites_ITER20000",
         "marker": {
          "color": "#00cc96",
          "pattern": {
           "shape": ""
          }
         },
         "name": "20230202_13:33:19_X101_allsites_ITER20000",
         "offsetgroup": "20230202_13:33:19_X101_allsites_ITER20000",
         "orientation": "v",
         "showlegend": false,
         "textposition": "auto",
         "type": "bar",
         "x": [
          "20230202_13:33:19_X101_allsites_ITER20000"
         ],
         "xaxis": "x24",
         "y": [
          0
         ],
         "yaxis": "y24"
        },
        {
         "alignmentgroup": "True",
         "hovertemplate": "model=%{x}<br>variable=AP-muricata<br>Average precision=%{y}<extra></extra>",
         "legendgroup": "20230202_13:33:19_X101_allsites_ITER20000",
         "marker": {
          "color": "#00cc96",
          "pattern": {
           "shape": ""
          }
         },
         "name": "20230202_13:33:19_X101_allsites_ITER20000",
         "offsetgroup": "20230202_13:33:19_X101_allsites_ITER20000",
         "orientation": "v",
         "showlegend": false,
         "textposition": "auto",
         "type": "bar",
         "x": [
          "20230202_13:33:19_X101_allsites_ITER20000"
         ],
         "xaxis": "x25",
         "y": [
          22.70966126151155
         ],
         "yaxis": "y25"
        },
        {
         "alignmentgroup": "True",
         "hovertemplate": "model=%{x}<br>variable=AP-fascicularis<br>Average precision=%{y}<extra></extra>",
         "legendgroup": "20230202_13:33:19_X101_allsites_ITER20000",
         "marker": {
          "color": "#00cc96",
          "pattern": {
           "shape": ""
          }
         },
         "name": "20230202_13:33:19_X101_allsites_ITER20000",
         "offsetgroup": "20230202_13:33:19_X101_allsites_ITER20000",
         "orientation": "v",
         "showlegend": false,
         "textposition": "auto",
         "type": "bar",
         "x": [
          "20230202_13:33:19_X101_allsites_ITER20000"
         ],
         "xaxis": "x16",
         "y": [
          0
         ],
         "yaxis": "y16"
        },
        {
         "alignmentgroup": "True",
         "hovertemplate": "model=%{x}<br>variable=AP-exaesa<br>Average precision=%{y}<extra></extra>",
         "legendgroup": "20230202_13:33:19_X101_allsites_ITER20000",
         "marker": {
          "color": "#00cc96",
          "pattern": {
           "shape": ""
          }
         },
         "name": "20230202_13:33:19_X101_allsites_ITER20000",
         "offsetgroup": "20230202_13:33:19_X101_allsites_ITER20000",
         "orientation": "v",
         "showlegend": false,
         "textposition": "auto",
         "type": "bar",
         "x": [
          "20230202_13:33:19_X101_allsites_ITER20000"
         ],
         "xaxis": "x17",
         "y": [
          9.390539053905393
         ],
         "yaxis": "y17"
        },
        {
         "alignmentgroup": "True",
         "hovertemplate": "model=%{x}<br>variable=AP-halicora<br>Average precision=%{y}<extra></extra>",
         "legendgroup": "20230202_13:33:19_X101_allsites_ITER20000",
         "marker": {
          "color": "#00cc96",
          "pattern": {
           "shape": ""
          }
         },
         "name": "20230202_13:33:19_X101_allsites_ITER20000",
         "offsetgroup": "20230202_13:33:19_X101_allsites_ITER20000",
         "orientation": "v",
         "showlegend": false,
         "textposition": "auto",
         "type": "bar",
         "x": [
          "20230202_13:33:19_X101_allsites_ITER20000"
         ],
         "xaxis": "x18",
         "y": [
          4.497524752475248
         ],
         "yaxis": "y18"
        },
        {
         "alignmentgroup": "True",
         "hovertemplate": "model=%{x}<br>variable=AP-astreata<br>Average precision=%{y}<extra></extra>",
         "legendgroup": "20230202_13:33:19_X101_allsites_ITER20000",
         "marker": {
          "color": "#00cc96",
          "pattern": {
           "shape": ""
          }
         },
         "name": "20230202_13:33:19_X101_allsites_ITER20000",
         "offsetgroup": "20230202_13:33:19_X101_allsites_ITER20000",
         "orientation": "v",
         "showlegend": false,
         "textposition": "auto",
         "type": "bar",
         "x": [
          "20230202_13:33:19_X101_allsites_ITER20000"
         ],
         "xaxis": "x19",
         "y": [
          21.83731104773601
         ],
         "yaxis": "y19"
        },
        {
         "alignmentgroup": "True",
         "hovertemplate": "model=%{x}<br>variable=AP-complanata<br>Average precision=%{y}<extra></extra>",
         "legendgroup": "20230202_13:33:19_X101_allsites_ITER20000",
         "marker": {
          "color": "#00cc96",
          "pattern": {
           "shape": ""
          }
         },
         "name": "20230202_13:33:19_X101_allsites_ITER20000",
         "offsetgroup": "20230202_13:33:19_X101_allsites_ITER20000",
         "orientation": "v",
         "showlegend": false,
         "textposition": "auto",
         "type": "bar",
         "x": [
          "20230202_13:33:19_X101_allsites_ITER20000"
         ],
         "xaxis": "x20",
         "y": [
          4.395139513951396
         ],
         "yaxis": "y20"
        },
        {
         "alignmentgroup": "True",
         "hovertemplate": "model=%{x}<br>variable=AP-cylindrica<br>Average precision=%{y}<extra></extra>",
         "legendgroup": "20230202_13:33:19_X101_allsites_ITER20000",
         "marker": {
          "color": "#00cc96",
          "pattern": {
           "shape": ""
          }
         },
         "name": "20230202_13:33:19_X101_allsites_ITER20000",
         "offsetgroup": "20230202_13:33:19_X101_allsites_ITER20000",
         "orientation": "v",
         "showlegend": false,
         "textposition": "auto",
         "type": "bar",
         "x": [
          "20230202_13:33:19_X101_allsites_ITER20000"
         ],
         "xaxis": "x11",
         "y": [
          12.046204620462047
         ],
         "yaxis": "y11"
        },
        {
         "alignmentgroup": "True",
         "hovertemplate": "model=%{x}<br>variable=AP-palifera<br>Average precision=%{y}<extra></extra>",
         "legendgroup": "20230202_13:33:19_X101_allsites_ITER20000",
         "marker": {
          "color": "#00cc96",
          "pattern": {
           "shape": ""
          }
         },
         "name": "20230202_13:33:19_X101_allsites_ITER20000",
         "offsetgroup": "20230202_13:33:19_X101_allsites_ITER20000",
         "orientation": "v",
         "showlegend": false,
         "textposition": "auto",
         "type": "bar",
         "x": [
          "20230202_13:33:19_X101_allsites_ITER20000"
         ],
         "xaxis": "x12",
         "y": [
          11.767326732673268
         ],
         "yaxis": "y12"
        },
        {
         "alignmentgroup": "True",
         "hovertemplate": "model=%{x}<br>variable=AP-heliopora<br>Average precision=%{y}<extra></extra>",
         "legendgroup": "20230202_13:33:19_X101_allsites_ITER20000",
         "marker": {
          "color": "#00cc96",
          "pattern": {
           "shape": ""
          }
         },
         "name": "20230202_13:33:19_X101_allsites_ITER20000",
         "offsetgroup": "20230202_13:33:19_X101_allsites_ITER20000",
         "orientation": "v",
         "showlegend": false,
         "textposition": "auto",
         "type": "bar",
         "x": [
          "20230202_13:33:19_X101_allsites_ITER20000"
         ],
         "xaxis": "x13",
         "y": [
          9.257425742574258
         ],
         "yaxis": "y13"
        },
        {
         "alignmentgroup": "True",
         "hovertemplate": "model=%{x}<br>variable=AP-Muricata 1<br>Average precision=%{y}<extra></extra>",
         "legendgroup": "20230202_13:33:19_X101_allsites_ITER20000",
         "marker": {
          "color": "#00cc96",
          "pattern": {
           "shape": ""
          }
         },
         "name": "20230202_13:33:19_X101_allsites_ITER20000",
         "offsetgroup": "20230202_13:33:19_X101_allsites_ITER20000",
         "orientation": "v",
         "showlegend": false,
         "textposition": "auto",
         "type": "bar",
         "x": [
          "20230202_13:33:19_X101_allsites_ITER20000"
         ],
         "xaxis": "x14",
         "y": [
          49.95033753222361
         ],
         "yaxis": "y14"
        },
        {
         "alignmentgroup": "True",
         "hovertemplate": "model=%{x}<br>variable=AP-lutea<br>Average precision=%{y}<extra></extra>",
         "legendgroup": "20230202_13:33:19_X101_allsites_ITER20000",
         "marker": {
          "color": "#00cc96",
          "pattern": {
           "shape": ""
          }
         },
         "name": "20230202_13:33:19_X101_allsites_ITER20000",
         "offsetgroup": "20230202_13:33:19_X101_allsites_ITER20000",
         "orientation": "v",
         "showlegend": false,
         "textposition": "auto",
         "type": "bar",
         "x": [
          "20230202_13:33:19_X101_allsites_ITER20000"
         ],
         "xaxis": "x15",
         "y": [
          6.720310595180819
         ],
         "yaxis": "y15"
        },
        {
         "alignmentgroup": "True",
         "hovertemplate": "model=%{x}<br>variable=AP-sp<br>Average precision=%{y}<extra></extra>",
         "legendgroup": "20230202_13:33:19_X101_allsites_ITER20000",
         "marker": {
          "color": "#00cc96",
          "pattern": {
           "shape": ""
          }
         },
         "name": "20230202_13:33:19_X101_allsites_ITER20000",
         "offsetgroup": "20230202_13:33:19_X101_allsites_ITER20000",
         "orientation": "v",
         "showlegend": false,
         "textposition": "auto",
         "type": "bar",
         "x": [
          "20230202_13:33:19_X101_allsites_ITER20000"
         ],
         "xaxis": "x6",
         "y": [
          0
         ],
         "yaxis": "y6"
        },
        {
         "alignmentgroup": "True",
         "hovertemplate": "model=%{x}<br>variable=AP<br>Average precision=%{y}<extra></extra>",
         "legendgroup": "20230202_13:33:19_X101_allsites_ITER20000",
         "marker": {
          "color": "#00cc96",
          "pattern": {
           "shape": ""
          }
         },
         "name": "20230202_13:33:19_X101_allsites_ITER20000",
         "offsetgroup": "20230202_13:33:19_X101_allsites_ITER20000",
         "orientation": "v",
         "showlegend": false,
         "textposition": "auto",
         "type": "bar",
         "x": [
          "20230202_13:33:19_X101_allsites_ITER20000"
         ],
         "xaxis": "x7",
         "y": [
          16.17027926172912
         ],
         "yaxis": "y7"
        },
        {
         "alignmentgroup": "True",
         "hovertemplate": "model=%{x}<br>variable=AP50<br>Average precision=%{y}<extra></extra>",
         "legendgroup": "20230202_13:33:19_X101_allsites_ITER20000",
         "marker": {
          "color": "#00cc96",
          "pattern": {
           "shape": ""
          }
         },
         "name": "20230202_13:33:19_X101_allsites_ITER20000",
         "offsetgroup": "20230202_13:33:19_X101_allsites_ITER20000",
         "orientation": "v",
         "showlegend": false,
         "textposition": "auto",
         "type": "bar",
         "x": [
          "20230202_13:33:19_X101_allsites_ITER20000"
         ],
         "xaxis": "x8",
         "y": [
          26.41963903165514
         ],
         "yaxis": "y8"
        },
        {
         "alignmentgroup": "True",
         "hovertemplate": "model=%{x}<br>variable=AP75<br>Average precision=%{y}<extra></extra>",
         "legendgroup": "20230202_13:33:19_X101_allsites_ITER20000",
         "marker": {
          "color": "#00cc96",
          "pattern": {
           "shape": ""
          }
         },
         "name": "20230202_13:33:19_X101_allsites_ITER20000",
         "offsetgroup": "20230202_13:33:19_X101_allsites_ITER20000",
         "orientation": "v",
         "showlegend": false,
         "textposition": "auto",
         "type": "bar",
         "x": [
          "20230202_13:33:19_X101_allsites_ITER20000"
         ],
         "xaxis": "x9",
         "y": [
          15.18591048898362
         ],
         "yaxis": "y9"
        },
        {
         "alignmentgroup": "True",
         "hovertemplate": "model=%{x}<br>variable=APs<br>Average precision=%{y}<extra></extra>",
         "legendgroup": "20230202_13:33:19_X101_allsites_ITER20000",
         "marker": {
          "color": "#00cc96",
          "pattern": {
           "shape": ""
          }
         },
         "name": "20230202_13:33:19_X101_allsites_ITER20000",
         "offsetgroup": "20230202_13:33:19_X101_allsites_ITER20000",
         "orientation": "v",
         "showlegend": false,
         "textposition": "auto",
         "type": "bar",
         "x": [
          "20230202_13:33:19_X101_allsites_ITER20000"
         ],
         "xaxis": "x10",
         "y": [
          0.3100573215216258
         ],
         "yaxis": "y10"
        },
        {
         "alignmentgroup": "True",
         "hovertemplate": "model=%{x}<br>variable=APm<br>Average precision=%{y}<extra></extra>",
         "legendgroup": "20230202_13:33:19_X101_allsites_ITER20000",
         "marker": {
          "color": "#00cc96",
          "pattern": {
           "shape": ""
          }
         },
         "name": "20230202_13:33:19_X101_allsites_ITER20000",
         "offsetgroup": "20230202_13:33:19_X101_allsites_ITER20000",
         "orientation": "v",
         "showlegend": false,
         "textposition": "auto",
         "type": "bar",
         "x": [
          "20230202_13:33:19_X101_allsites_ITER20000"
         ],
         "xaxis": "x",
         "y": [
          5.509395890507031
         ],
         "yaxis": "y"
        },
        {
         "alignmentgroup": "True",
         "hovertemplate": "model=%{x}<br>variable=APl<br>Average precision=%{y}<extra></extra>",
         "legendgroup": "20230202_13:33:19_X101_allsites_ITER20000",
         "marker": {
          "color": "#00cc96",
          "pattern": {
           "shape": ""
          }
         },
         "name": "20230202_13:33:19_X101_allsites_ITER20000",
         "offsetgroup": "20230202_13:33:19_X101_allsites_ITER20000",
         "orientation": "v",
         "showlegend": false,
         "textposition": "auto",
         "type": "bar",
         "x": [
          "20230202_13:33:19_X101_allsites_ITER20000"
         ],
         "xaxis": "x2",
         "y": [
          21.17936166354988
         ],
         "yaxis": "y2"
        }
       ],
       "layout": {
        "annotations": [
         {
          "font": {},
          "showarrow": false,
          "text": "APm",
          "x": 0.084,
          "xanchor": "center",
          "xref": "paper",
          "y": 0.09,
          "yanchor": "bottom",
          "yref": "paper"
         },
         {
          "font": {},
          "showarrow": false,
          "text": "APl",
          "x": 0.29200000000000004,
          "xanchor": "center",
          "xref": "paper",
          "y": 0.09,
          "yanchor": "bottom",
          "yref": "paper"
         },
         {
          "font": {},
          "showarrow": false,
          "text": "AP-sp",
          "x": 0.084,
          "xanchor": "center",
          "xref": "paper",
          "y": 0.22,
          "yanchor": "bottom",
          "yref": "paper"
         },
         {
          "font": {},
          "showarrow": false,
          "text": "AP",
          "x": 0.29200000000000004,
          "xanchor": "center",
          "xref": "paper",
          "y": 0.22,
          "yanchor": "bottom",
          "yref": "paper"
         },
         {
          "font": {},
          "showarrow": false,
          "text": "AP50",
          "x": 0.5,
          "xanchor": "center",
          "xref": "paper",
          "y": 0.22,
          "yanchor": "bottom",
          "yref": "paper"
         },
         {
          "font": {},
          "showarrow": false,
          "text": "AP75",
          "x": 0.708,
          "xanchor": "center",
          "xref": "paper",
          "y": 0.22,
          "yanchor": "bottom",
          "yref": "paper"
         },
         {
          "font": {},
          "showarrow": false,
          "text": "APs",
          "x": 0.916,
          "xanchor": "center",
          "xref": "paper",
          "y": 0.22,
          "yanchor": "bottom",
          "yref": "paper"
         },
         {
          "font": {},
          "showarrow": false,
          "text": "AP-cylindrica",
          "x": 0.084,
          "xanchor": "center",
          "xref": "paper",
          "y": 0.35,
          "yanchor": "bottom",
          "yref": "paper"
         },
         {
          "font": {},
          "showarrow": false,
          "text": "AP-palifera",
          "x": 0.29200000000000004,
          "xanchor": "center",
          "xref": "paper",
          "y": 0.35,
          "yanchor": "bottom",
          "yref": "paper"
         },
         {
          "font": {},
          "showarrow": false,
          "text": "AP-heliopora",
          "x": 0.5,
          "xanchor": "center",
          "xref": "paper",
          "y": 0.35,
          "yanchor": "bottom",
          "yref": "paper"
         },
         {
          "font": {},
          "showarrow": false,
          "text": "AP-Muricata 1",
          "x": 0.708,
          "xanchor": "center",
          "xref": "paper",
          "y": 0.35,
          "yanchor": "bottom",
          "yref": "paper"
         },
         {
          "font": {},
          "showarrow": false,
          "text": "AP-lutea",
          "x": 0.916,
          "xanchor": "center",
          "xref": "paper",
          "y": 0.35,
          "yanchor": "bottom",
          "yref": "paper"
         },
         {
          "font": {},
          "showarrow": false,
          "text": "AP-fascicularis",
          "x": 0.084,
          "xanchor": "center",
          "xref": "paper",
          "y": 0.48,
          "yanchor": "bottom",
          "yref": "paper"
         },
         {
          "font": {},
          "showarrow": false,
          "text": "AP-exaesa",
          "x": 0.29200000000000004,
          "xanchor": "center",
          "xref": "paper",
          "y": 0.48,
          "yanchor": "bottom",
          "yref": "paper"
         },
         {
          "font": {},
          "showarrow": false,
          "text": "AP-halicora",
          "x": 0.5,
          "xanchor": "center",
          "xref": "paper",
          "y": 0.48,
          "yanchor": "bottom",
          "yref": "paper"
         },
         {
          "font": {},
          "showarrow": false,
          "text": "AP-astreata",
          "x": 0.708,
          "xanchor": "center",
          "xref": "paper",
          "y": 0.48,
          "yanchor": "bottom",
          "yref": "paper"
         },
         {
          "font": {},
          "showarrow": false,
          "text": "AP-complanata",
          "x": 0.916,
          "xanchor": "center",
          "xref": "paper",
          "y": 0.48,
          "yanchor": "bottom",
          "yref": "paper"
         },
         {
          "font": {},
          "showarrow": false,
          "text": "AP-fungites",
          "x": 0.084,
          "xanchor": "center",
          "xref": "paper",
          "y": 0.61,
          "yanchor": "bottom",
          "yref": "paper"
         },
         {
          "font": {},
          "showarrow": false,
          "text": "AP-pectinata",
          "x": 0.29200000000000004,
          "xanchor": "center",
          "xref": "paper",
          "y": 0.61,
          "yanchor": "bottom",
          "yref": "paper"
         },
         {
          "font": {},
          "showarrow": false,
          "text": "AP-daedalea",
          "x": 0.5,
          "xanchor": "center",
          "xref": "paper",
          "y": 0.61,
          "yanchor": "bottom",
          "yref": "paper"
         },
         {
          "font": {},
          "showarrow": false,
          "text": "AP-speciosa",
          "x": 0.708,
          "xanchor": "center",
          "xref": "paper",
          "y": 0.61,
          "yanchor": "bottom",
          "yref": "paper"
         },
         {
          "font": {},
          "showarrow": false,
          "text": "AP-muricata",
          "x": 0.916,
          "xanchor": "center",
          "xref": "paper",
          "y": 0.61,
          "yanchor": "bottom",
          "yref": "paper"
         },
         {
          "font": {},
          "showarrow": false,
          "text": "AP-divaricata",
          "x": 0.084,
          "xanchor": "center",
          "xref": "paper",
          "y": 0.7399999999999999,
          "yanchor": "bottom",
          "yref": "paper"
         },
         {
          "font": {},
          "showarrow": false,
          "text": "AP-anae",
          "x": 0.29200000000000004,
          "xanchor": "center",
          "xref": "paper",
          "y": 0.7399999999999999,
          "yanchor": "bottom",
          "yref": "paper"
         },
         {
          "font": {},
          "showarrow": false,
          "text": "AP-hyacinthus",
          "x": 0.5,
          "xanchor": "center",
          "xref": "paper",
          "y": 0.7399999999999999,
          "yanchor": "bottom",
          "yref": "paper"
         },
         {
          "font": {},
          "showarrow": false,
          "text": "AP-humilis",
          "x": 0.708,
          "xanchor": "center",
          "xref": "paper",
          "y": 0.7399999999999999,
          "yanchor": "bottom",
          "yref": "paper"
         },
         {
          "font": {},
          "showarrow": false,
          "text": "AP-gemmacea",
          "x": 0.916,
          "xanchor": "center",
          "xref": "paper",
          "y": 0.7399999999999999,
          "yanchor": "bottom",
          "yref": "paper"
         },
         {
          "font": {},
          "showarrow": false,
          "text": "AP-sp1",
          "x": 0.084,
          "xanchor": "center",
          "xref": "paper",
          "y": 0.8699999999999999,
          "yanchor": "bottom",
          "yref": "paper"
         },
         {
          "font": {},
          "showarrow": false,
          "text": "AP-lobata",
          "x": 0.29200000000000004,
          "xanchor": "center",
          "xref": "paper",
          "y": 0.8699999999999999,
          "yanchor": "bottom",
          "yref": "paper"
         },
         {
          "font": {},
          "showarrow": false,
          "text": "AP-cylibdrica",
          "x": 0.5,
          "xanchor": "center",
          "xref": "paper",
          "y": 0.8699999999999999,
          "yanchor": "bottom",
          "yref": "paper"
         },
         {
          "font": {},
          "showarrow": false,
          "text": "AP-digitifera",
          "x": 0.708,
          "xanchor": "center",
          "xref": "paper",
          "y": 0.8699999999999999,
          "yanchor": "bottom",
          "yref": "paper"
         },
         {
          "font": {},
          "showarrow": false,
          "text": "AP-retiformis",
          "x": 0.916,
          "xanchor": "center",
          "xref": "paper",
          "y": 0.8699999999999999,
          "yanchor": "bottom",
          "yref": "paper"
         },
         {
          "font": {},
          "showarrow": false,
          "text": "AP-tenuis",
          "x": 0.084,
          "xanchor": "center",
          "xref": "paper",
          "y": 0.9999999999999999,
          "yanchor": "bottom",
          "yref": "paper"
         },
         {
          "font": {},
          "showarrow": false,
          "text": "AP-histrix",
          "x": 0.29200000000000004,
          "xanchor": "center",
          "xref": "paper",
          "y": 0.9999999999999999,
          "yanchor": "bottom",
          "yref": "paper"
         },
         {
          "font": {},
          "showarrow": false,
          "text": "AP-rus",
          "x": 0.5,
          "xanchor": "center",
          "xref": "paper",
          "y": 0.9999999999999999,
          "yanchor": "bottom",
          "yref": "paper"
         },
         {
          "font": {},
          "showarrow": false,
          "text": "AP-hemprichi",
          "x": 0.708,
          "xanchor": "center",
          "xref": "paper",
          "y": 0.9999999999999999,
          "yanchor": "bottom",
          "yref": "paper"
         },
         {
          "font": {},
          "showarrow": false,
          "text": "AP-Lutea",
          "x": 0.916,
          "xanchor": "center",
          "xref": "paper",
          "y": 0.9999999999999999,
          "yanchor": "bottom",
          "yref": "paper"
         }
        ],
        "barmode": "relative",
        "height": 2000,
        "legend": {
         "title": {
          "text": "model"
         },
         "tracegroupgap": 0
        },
        "margin": {
         "t": 60
        },
        "template": {
         "data": {
          "bar": [
           {
            "error_x": {
             "color": "#2a3f5f"
            },
            "error_y": {
             "color": "#2a3f5f"
            },
            "marker": {
             "line": {
              "color": "#E5ECF6",
              "width": 0.5
             },
             "pattern": {
              "fillmode": "overlay",
              "size": 10,
              "solidity": 0.2
             }
            },
            "type": "bar"
           }
          ],
          "barpolar": [
           {
            "marker": {
             "line": {
              "color": "#E5ECF6",
              "width": 0.5
             },
             "pattern": {
              "fillmode": "overlay",
              "size": 10,
              "solidity": 0.2
             }
            },
            "type": "barpolar"
           }
          ],
          "carpet": [
           {
            "aaxis": {
             "endlinecolor": "#2a3f5f",
             "gridcolor": "white",
             "linecolor": "white",
             "minorgridcolor": "white",
             "startlinecolor": "#2a3f5f"
            },
            "baxis": {
             "endlinecolor": "#2a3f5f",
             "gridcolor": "white",
             "linecolor": "white",
             "minorgridcolor": "white",
             "startlinecolor": "#2a3f5f"
            },
            "type": "carpet"
           }
          ],
          "choropleth": [
           {
            "colorbar": {
             "outlinewidth": 0,
             "ticks": ""
            },
            "type": "choropleth"
           }
          ],
          "contour": [
           {
            "colorbar": {
             "outlinewidth": 0,
             "ticks": ""
            },
            "colorscale": [
             [
              0,
              "#0d0887"
             ],
             [
              0.1111111111111111,
              "#46039f"
             ],
             [
              0.2222222222222222,
              "#7201a8"
             ],
             [
              0.3333333333333333,
              "#9c179e"
             ],
             [
              0.4444444444444444,
              "#bd3786"
             ],
             [
              0.5555555555555556,
              "#d8576b"
             ],
             [
              0.6666666666666666,
              "#ed7953"
             ],
             [
              0.7777777777777778,
              "#fb9f3a"
             ],
             [
              0.8888888888888888,
              "#fdca26"
             ],
             [
              1,
              "#f0f921"
             ]
            ],
            "type": "contour"
           }
          ],
          "contourcarpet": [
           {
            "colorbar": {
             "outlinewidth": 0,
             "ticks": ""
            },
            "type": "contourcarpet"
           }
          ],
          "heatmap": [
           {
            "colorbar": {
             "outlinewidth": 0,
             "ticks": ""
            },
            "colorscale": [
             [
              0,
              "#0d0887"
             ],
             [
              0.1111111111111111,
              "#46039f"
             ],
             [
              0.2222222222222222,
              "#7201a8"
             ],
             [
              0.3333333333333333,
              "#9c179e"
             ],
             [
              0.4444444444444444,
              "#bd3786"
             ],
             [
              0.5555555555555556,
              "#d8576b"
             ],
             [
              0.6666666666666666,
              "#ed7953"
             ],
             [
              0.7777777777777778,
              "#fb9f3a"
             ],
             [
              0.8888888888888888,
              "#fdca26"
             ],
             [
              1,
              "#f0f921"
             ]
            ],
            "type": "heatmap"
           }
          ],
          "heatmapgl": [
           {
            "colorbar": {
             "outlinewidth": 0,
             "ticks": ""
            },
            "colorscale": [
             [
              0,
              "#0d0887"
             ],
             [
              0.1111111111111111,
              "#46039f"
             ],
             [
              0.2222222222222222,
              "#7201a8"
             ],
             [
              0.3333333333333333,
              "#9c179e"
             ],
             [
              0.4444444444444444,
              "#bd3786"
             ],
             [
              0.5555555555555556,
              "#d8576b"
             ],
             [
              0.6666666666666666,
              "#ed7953"
             ],
             [
              0.7777777777777778,
              "#fb9f3a"
             ],
             [
              0.8888888888888888,
              "#fdca26"
             ],
             [
              1,
              "#f0f921"
             ]
            ],
            "type": "heatmapgl"
           }
          ],
          "histogram": [
           {
            "marker": {
             "pattern": {
              "fillmode": "overlay",
              "size": 10,
              "solidity": 0.2
             }
            },
            "type": "histogram"
           }
          ],
          "histogram2d": [
           {
            "colorbar": {
             "outlinewidth": 0,
             "ticks": ""
            },
            "colorscale": [
             [
              0,
              "#0d0887"
             ],
             [
              0.1111111111111111,
              "#46039f"
             ],
             [
              0.2222222222222222,
              "#7201a8"
             ],
             [
              0.3333333333333333,
              "#9c179e"
             ],
             [
              0.4444444444444444,
              "#bd3786"
             ],
             [
              0.5555555555555556,
              "#d8576b"
             ],
             [
              0.6666666666666666,
              "#ed7953"
             ],
             [
              0.7777777777777778,
              "#fb9f3a"
             ],
             [
              0.8888888888888888,
              "#fdca26"
             ],
             [
              1,
              "#f0f921"
             ]
            ],
            "type": "histogram2d"
           }
          ],
          "histogram2dcontour": [
           {
            "colorbar": {
             "outlinewidth": 0,
             "ticks": ""
            },
            "colorscale": [
             [
              0,
              "#0d0887"
             ],
             [
              0.1111111111111111,
              "#46039f"
             ],
             [
              0.2222222222222222,
              "#7201a8"
             ],
             [
              0.3333333333333333,
              "#9c179e"
             ],
             [
              0.4444444444444444,
              "#bd3786"
             ],
             [
              0.5555555555555556,
              "#d8576b"
             ],
             [
              0.6666666666666666,
              "#ed7953"
             ],
             [
              0.7777777777777778,
              "#fb9f3a"
             ],
             [
              0.8888888888888888,
              "#fdca26"
             ],
             [
              1,
              "#f0f921"
             ]
            ],
            "type": "histogram2dcontour"
           }
          ],
          "mesh3d": [
           {
            "colorbar": {
             "outlinewidth": 0,
             "ticks": ""
            },
            "type": "mesh3d"
           }
          ],
          "parcoords": [
           {
            "line": {
             "colorbar": {
              "outlinewidth": 0,
              "ticks": ""
             }
            },
            "type": "parcoords"
           }
          ],
          "pie": [
           {
            "automargin": true,
            "type": "pie"
           }
          ],
          "scatter": [
           {
            "fillpattern": {
             "fillmode": "overlay",
             "size": 10,
             "solidity": 0.2
            },
            "type": "scatter"
           }
          ],
          "scatter3d": [
           {
            "line": {
             "colorbar": {
              "outlinewidth": 0,
              "ticks": ""
             }
            },
            "marker": {
             "colorbar": {
              "outlinewidth": 0,
              "ticks": ""
             }
            },
            "type": "scatter3d"
           }
          ],
          "scattercarpet": [
           {
            "marker": {
             "colorbar": {
              "outlinewidth": 0,
              "ticks": ""
             }
            },
            "type": "scattercarpet"
           }
          ],
          "scattergeo": [
           {
            "marker": {
             "colorbar": {
              "outlinewidth": 0,
              "ticks": ""
             }
            },
            "type": "scattergeo"
           }
          ],
          "scattergl": [
           {
            "marker": {
             "colorbar": {
              "outlinewidth": 0,
              "ticks": ""
             }
            },
            "type": "scattergl"
           }
          ],
          "scattermapbox": [
           {
            "marker": {
             "colorbar": {
              "outlinewidth": 0,
              "ticks": ""
             }
            },
            "type": "scattermapbox"
           }
          ],
          "scatterpolar": [
           {
            "marker": {
             "colorbar": {
              "outlinewidth": 0,
              "ticks": ""
             }
            },
            "type": "scatterpolar"
           }
          ],
          "scatterpolargl": [
           {
            "marker": {
             "colorbar": {
              "outlinewidth": 0,
              "ticks": ""
             }
            },
            "type": "scatterpolargl"
           }
          ],
          "scatterternary": [
           {
            "marker": {
             "colorbar": {
              "outlinewidth": 0,
              "ticks": ""
             }
            },
            "type": "scatterternary"
           }
          ],
          "surface": [
           {
            "colorbar": {
             "outlinewidth": 0,
             "ticks": ""
            },
            "colorscale": [
             [
              0,
              "#0d0887"
             ],
             [
              0.1111111111111111,
              "#46039f"
             ],
             [
              0.2222222222222222,
              "#7201a8"
             ],
             [
              0.3333333333333333,
              "#9c179e"
             ],
             [
              0.4444444444444444,
              "#bd3786"
             ],
             [
              0.5555555555555556,
              "#d8576b"
             ],
             [
              0.6666666666666666,
              "#ed7953"
             ],
             [
              0.7777777777777778,
              "#fb9f3a"
             ],
             [
              0.8888888888888888,
              "#fdca26"
             ],
             [
              1,
              "#f0f921"
             ]
            ],
            "type": "surface"
           }
          ],
          "table": [
           {
            "cells": {
             "fill": {
              "color": "#EBF0F8"
             },
             "line": {
              "color": "white"
             }
            },
            "header": {
             "fill": {
              "color": "#C8D4E3"
             },
             "line": {
              "color": "white"
             }
            },
            "type": "table"
           }
          ]
         },
         "layout": {
          "annotationdefaults": {
           "arrowcolor": "#2a3f5f",
           "arrowhead": 0,
           "arrowwidth": 1
          },
          "autotypenumbers": "strict",
          "coloraxis": {
           "colorbar": {
            "outlinewidth": 0,
            "ticks": ""
           }
          },
          "colorscale": {
           "diverging": [
            [
             0,
             "#8e0152"
            ],
            [
             0.1,
             "#c51b7d"
            ],
            [
             0.2,
             "#de77ae"
            ],
            [
             0.3,
             "#f1b6da"
            ],
            [
             0.4,
             "#fde0ef"
            ],
            [
             0.5,
             "#f7f7f7"
            ],
            [
             0.6,
             "#e6f5d0"
            ],
            [
             0.7,
             "#b8e186"
            ],
            [
             0.8,
             "#7fbc41"
            ],
            [
             0.9,
             "#4d9221"
            ],
            [
             1,
             "#276419"
            ]
           ],
           "sequential": [
            [
             0,
             "#0d0887"
            ],
            [
             0.1111111111111111,
             "#46039f"
            ],
            [
             0.2222222222222222,
             "#7201a8"
            ],
            [
             0.3333333333333333,
             "#9c179e"
            ],
            [
             0.4444444444444444,
             "#bd3786"
            ],
            [
             0.5555555555555556,
             "#d8576b"
            ],
            [
             0.6666666666666666,
             "#ed7953"
            ],
            [
             0.7777777777777778,
             "#fb9f3a"
            ],
            [
             0.8888888888888888,
             "#fdca26"
            ],
            [
             1,
             "#f0f921"
            ]
           ],
           "sequentialminus": [
            [
             0,
             "#0d0887"
            ],
            [
             0.1111111111111111,
             "#46039f"
            ],
            [
             0.2222222222222222,
             "#7201a8"
            ],
            [
             0.3333333333333333,
             "#9c179e"
            ],
            [
             0.4444444444444444,
             "#bd3786"
            ],
            [
             0.5555555555555556,
             "#d8576b"
            ],
            [
             0.6666666666666666,
             "#ed7953"
            ],
            [
             0.7777777777777778,
             "#fb9f3a"
            ],
            [
             0.8888888888888888,
             "#fdca26"
            ],
            [
             1,
             "#f0f921"
            ]
           ]
          },
          "colorway": [
           "#636efa",
           "#EF553B",
           "#00cc96",
           "#ab63fa",
           "#FFA15A",
           "#19d3f3",
           "#FF6692",
           "#B6E880",
           "#FF97FF",
           "#FECB52"
          ],
          "font": {
           "color": "#2a3f5f"
          },
          "geo": {
           "bgcolor": "white",
           "lakecolor": "white",
           "landcolor": "#E5ECF6",
           "showlakes": true,
           "showland": true,
           "subunitcolor": "white"
          },
          "hoverlabel": {
           "align": "left"
          },
          "hovermode": "closest",
          "mapbox": {
           "style": "light"
          },
          "paper_bgcolor": "white",
          "plot_bgcolor": "#E5ECF6",
          "polar": {
           "angularaxis": {
            "gridcolor": "white",
            "linecolor": "white",
            "ticks": ""
           },
           "bgcolor": "#E5ECF6",
           "radialaxis": {
            "gridcolor": "white",
            "linecolor": "white",
            "ticks": ""
           }
          },
          "scene": {
           "xaxis": {
            "backgroundcolor": "#E5ECF6",
            "gridcolor": "white",
            "gridwidth": 2,
            "linecolor": "white",
            "showbackground": true,
            "ticks": "",
            "zerolinecolor": "white"
           },
           "yaxis": {
            "backgroundcolor": "#E5ECF6",
            "gridcolor": "white",
            "gridwidth": 2,
            "linecolor": "white",
            "showbackground": true,
            "ticks": "",
            "zerolinecolor": "white"
           },
           "zaxis": {
            "backgroundcolor": "#E5ECF6",
            "gridcolor": "white",
            "gridwidth": 2,
            "linecolor": "white",
            "showbackground": true,
            "ticks": "",
            "zerolinecolor": "white"
           }
          },
          "shapedefaults": {
           "line": {
            "color": "#2a3f5f"
           }
          },
          "ternary": {
           "aaxis": {
            "gridcolor": "white",
            "linecolor": "white",
            "ticks": ""
           },
           "baxis": {
            "gridcolor": "white",
            "linecolor": "white",
            "ticks": ""
           },
           "bgcolor": "#E5ECF6",
           "caxis": {
            "gridcolor": "white",
            "linecolor": "white",
            "ticks": ""
           }
          },
          "title": {
           "x": 0.05
          },
          "xaxis": {
           "automargin": true,
           "gridcolor": "white",
           "linecolor": "white",
           "ticks": "",
           "title": {
            "standoff": 15
           },
           "zerolinecolor": "white",
           "zerolinewidth": 2
          },
          "yaxis": {
           "automargin": true,
           "gridcolor": "white",
           "linecolor": "white",
           "ticks": "",
           "title": {
            "standoff": 15
           },
           "zerolinecolor": "white",
           "zerolinewidth": 2
          }
         }
        },
        "width": 1500,
        "xaxis": {
         "anchor": "y",
         "categoryarray": [
          "20221229_15:09:14_ITER4000_X101_ae102021only",
          "20230202_11:07:44_X101_allsites_ITER10000",
          "20230202_13:33:19_X101_allsites_ITER20000"
         ],
         "categoryorder": "array",
         "domain": [
          0,
          0.168
         ],
         "title": {
          "text": "model"
         }
        },
        "xaxis10": {
         "anchor": "y10",
         "domain": [
          0.8320000000000001,
          1
         ],
         "matches": "x",
         "showticklabels": false
        },
        "xaxis11": {
         "anchor": "y11",
         "domain": [
          0,
          0.168
         ],
         "matches": "x",
         "showticklabels": false
        },
        "xaxis12": {
         "anchor": "y12",
         "domain": [
          0.20800000000000002,
          0.376
         ],
         "matches": "x",
         "showticklabels": false
        },
        "xaxis13": {
         "anchor": "y13",
         "domain": [
          0.41600000000000004,
          0.5840000000000001
         ],
         "matches": "x",
         "showticklabels": false
        },
        "xaxis14": {
         "anchor": "y14",
         "domain": [
          0.624,
          0.792
         ],
         "matches": "x",
         "showticklabels": false
        },
        "xaxis15": {
         "anchor": "y15",
         "domain": [
          0.8320000000000001,
          1
         ],
         "matches": "x",
         "showticklabels": false
        },
        "xaxis16": {
         "anchor": "y16",
         "domain": [
          0,
          0.168
         ],
         "matches": "x",
         "showticklabels": false
        },
        "xaxis17": {
         "anchor": "y17",
         "domain": [
          0.20800000000000002,
          0.376
         ],
         "matches": "x",
         "showticklabels": false
        },
        "xaxis18": {
         "anchor": "y18",
         "domain": [
          0.41600000000000004,
          0.5840000000000001
         ],
         "matches": "x",
         "showticklabels": false
        },
        "xaxis19": {
         "anchor": "y19",
         "domain": [
          0.624,
          0.792
         ],
         "matches": "x",
         "showticklabels": false
        },
        "xaxis2": {
         "anchor": "y2",
         "categoryarray": [
          "20221229_15:09:14_ITER4000_X101_ae102021only",
          "20230202_11:07:44_X101_allsites_ITER10000",
          "20230202_13:33:19_X101_allsites_ITER20000"
         ],
         "categoryorder": "array",
         "domain": [
          0.20800000000000002,
          0.376
         ],
         "matches": "x",
         "title": {
          "text": "model"
         }
        },
        "xaxis20": {
         "anchor": "y20",
         "domain": [
          0.8320000000000001,
          1
         ],
         "matches": "x",
         "showticklabels": false
        },
        "xaxis21": {
         "anchor": "y21",
         "domain": [
          0,
          0.168
         ],
         "matches": "x",
         "showticklabels": false
        },
        "xaxis22": {
         "anchor": "y22",
         "domain": [
          0.20800000000000002,
          0.376
         ],
         "matches": "x",
         "showticklabels": false
        },
        "xaxis23": {
         "anchor": "y23",
         "domain": [
          0.41600000000000004,
          0.5840000000000001
         ],
         "matches": "x",
         "showticklabels": false
        },
        "xaxis24": {
         "anchor": "y24",
         "domain": [
          0.624,
          0.792
         ],
         "matches": "x",
         "showticklabels": false
        },
        "xaxis25": {
         "anchor": "y25",
         "domain": [
          0.8320000000000001,
          1
         ],
         "matches": "x",
         "showticklabels": false
        },
        "xaxis26": {
         "anchor": "y26",
         "domain": [
          0,
          0.168
         ],
         "matches": "x",
         "showticklabels": false
        },
        "xaxis27": {
         "anchor": "y27",
         "domain": [
          0.20800000000000002,
          0.376
         ],
         "matches": "x",
         "showticklabels": false
        },
        "xaxis28": {
         "anchor": "y28",
         "domain": [
          0.41600000000000004,
          0.5840000000000001
         ],
         "matches": "x",
         "showticklabels": false
        },
        "xaxis29": {
         "anchor": "y29",
         "domain": [
          0.624,
          0.792
         ],
         "matches": "x",
         "showticklabels": false
        },
        "xaxis3": {
         "anchor": "y3",
         "categoryarray": [
          "20221229_15:09:14_ITER4000_X101_ae102021only",
          "20230202_11:07:44_X101_allsites_ITER10000",
          "20230202_13:33:19_X101_allsites_ITER20000"
         ],
         "categoryorder": "array",
         "domain": [
          0.41600000000000004,
          0.5840000000000001
         ],
         "matches": "x",
         "title": {
          "text": "model"
         }
        },
        "xaxis30": {
         "anchor": "y30",
         "domain": [
          0.8320000000000001,
          1
         ],
         "matches": "x",
         "showticklabels": false
        },
        "xaxis31": {
         "anchor": "y31",
         "domain": [
          0,
          0.168
         ],
         "matches": "x",
         "showticklabels": false
        },
        "xaxis32": {
         "anchor": "y32",
         "domain": [
          0.20800000000000002,
          0.376
         ],
         "matches": "x",
         "showticklabels": false
        },
        "xaxis33": {
         "anchor": "y33",
         "domain": [
          0.41600000000000004,
          0.5840000000000001
         ],
         "matches": "x",
         "showticklabels": false
        },
        "xaxis34": {
         "anchor": "y34",
         "domain": [
          0.624,
          0.792
         ],
         "matches": "x",
         "showticklabels": false
        },
        "xaxis35": {
         "anchor": "y35",
         "domain": [
          0.8320000000000001,
          1
         ],
         "matches": "x",
         "showticklabels": false
        },
        "xaxis36": {
         "anchor": "y36",
         "domain": [
          0,
          0.168
         ],
         "matches": "x",
         "showticklabels": false
        },
        "xaxis37": {
         "anchor": "y37",
         "domain": [
          0.20800000000000002,
          0.376
         ],
         "matches": "x",
         "showticklabels": false
        },
        "xaxis38": {
         "anchor": "y38",
         "domain": [
          0.41600000000000004,
          0.5840000000000001
         ],
         "matches": "x",
         "showticklabels": false
        },
        "xaxis39": {
         "anchor": "y39",
         "domain": [
          0.624,
          0.792
         ],
         "matches": "x",
         "showticklabels": false
        },
        "xaxis4": {
         "anchor": "y4",
         "categoryarray": [
          "20221229_15:09:14_ITER4000_X101_ae102021only",
          "20230202_11:07:44_X101_allsites_ITER10000",
          "20230202_13:33:19_X101_allsites_ITER20000"
         ],
         "categoryorder": "array",
         "domain": [
          0.624,
          0.792
         ],
         "matches": "x",
         "title": {
          "text": "model"
         }
        },
        "xaxis40": {
         "anchor": "y40",
         "domain": [
          0.8320000000000001,
          1
         ],
         "matches": "x",
         "showticklabels": false
        },
        "xaxis5": {
         "anchor": "y5",
         "categoryarray": [
          "20221229_15:09:14_ITER4000_X101_ae102021only",
          "20230202_11:07:44_X101_allsites_ITER10000",
          "20230202_13:33:19_X101_allsites_ITER20000"
         ],
         "categoryorder": "array",
         "domain": [
          0.8320000000000001,
          1
         ],
         "matches": "x",
         "title": {
          "text": "model"
         }
        },
        "xaxis6": {
         "anchor": "y6",
         "domain": [
          0,
          0.168
         ],
         "matches": "x",
         "showticklabels": false
        },
        "xaxis7": {
         "anchor": "y7",
         "domain": [
          0.20800000000000002,
          0.376
         ],
         "matches": "x",
         "showticklabels": false
        },
        "xaxis8": {
         "anchor": "y8",
         "domain": [
          0.41600000000000004,
          0.5840000000000001
         ],
         "matches": "x",
         "showticklabels": false
        },
        "xaxis9": {
         "anchor": "y9",
         "domain": [
          0.624,
          0.792
         ],
         "matches": "x",
         "showticklabels": false
        },
        "yaxis": {
         "anchor": "x",
         "domain": [
          0,
          0.09
         ],
         "title": {
          "text": "Average precision"
         }
        },
        "yaxis10": {
         "anchor": "x10",
         "domain": [
          0.13,
          0.22
         ],
         "matches": "y",
         "showticklabels": false
        },
        "yaxis11": {
         "anchor": "x11",
         "domain": [
          0.26,
          0.35
         ],
         "matches": "y",
         "title": {
          "text": "Average precision"
         }
        },
        "yaxis12": {
         "anchor": "x12",
         "domain": [
          0.26,
          0.35
         ],
         "matches": "y",
         "showticklabels": false
        },
        "yaxis13": {
         "anchor": "x13",
         "domain": [
          0.26,
          0.35
         ],
         "matches": "y",
         "showticklabels": false
        },
        "yaxis14": {
         "anchor": "x14",
         "domain": [
          0.26,
          0.35
         ],
         "matches": "y",
         "showticklabels": false
        },
        "yaxis15": {
         "anchor": "x15",
         "domain": [
          0.26,
          0.35
         ],
         "matches": "y",
         "showticklabels": false
        },
        "yaxis16": {
         "anchor": "x16",
         "domain": [
          0.39,
          0.48
         ],
         "matches": "y",
         "title": {
          "text": "Average precision"
         }
        },
        "yaxis17": {
         "anchor": "x17",
         "domain": [
          0.39,
          0.48
         ],
         "matches": "y",
         "showticklabels": false
        },
        "yaxis18": {
         "anchor": "x18",
         "domain": [
          0.39,
          0.48
         ],
         "matches": "y",
         "showticklabels": false
        },
        "yaxis19": {
         "anchor": "x19",
         "domain": [
          0.39,
          0.48
         ],
         "matches": "y",
         "showticklabels": false
        },
        "yaxis2": {
         "anchor": "x2",
         "domain": [
          0,
          0.09
         ],
         "matches": "y",
         "showticklabels": false
        },
        "yaxis20": {
         "anchor": "x20",
         "domain": [
          0.39,
          0.48
         ],
         "matches": "y",
         "showticklabels": false
        },
        "yaxis21": {
         "anchor": "x21",
         "domain": [
          0.52,
          0.61
         ],
         "matches": "y",
         "title": {
          "text": "Average precision"
         }
        },
        "yaxis22": {
         "anchor": "x22",
         "domain": [
          0.52,
          0.61
         ],
         "matches": "y",
         "showticklabels": false
        },
        "yaxis23": {
         "anchor": "x23",
         "domain": [
          0.52,
          0.61
         ],
         "matches": "y",
         "showticklabels": false
        },
        "yaxis24": {
         "anchor": "x24",
         "domain": [
          0.52,
          0.61
         ],
         "matches": "y",
         "showticklabels": false
        },
        "yaxis25": {
         "anchor": "x25",
         "domain": [
          0.52,
          0.61
         ],
         "matches": "y",
         "showticklabels": false
        },
        "yaxis26": {
         "anchor": "x26",
         "domain": [
          0.6499999999999999,
          0.7399999999999999
         ],
         "matches": "y",
         "title": {
          "text": "Average precision"
         }
        },
        "yaxis27": {
         "anchor": "x27",
         "domain": [
          0.6499999999999999,
          0.7399999999999999
         ],
         "matches": "y",
         "showticklabels": false
        },
        "yaxis28": {
         "anchor": "x28",
         "domain": [
          0.6499999999999999,
          0.7399999999999999
         ],
         "matches": "y",
         "showticklabels": false
        },
        "yaxis29": {
         "anchor": "x29",
         "domain": [
          0.6499999999999999,
          0.7399999999999999
         ],
         "matches": "y",
         "showticklabels": false
        },
        "yaxis3": {
         "anchor": "x3",
         "domain": [
          0,
          0.09
         ],
         "matches": "y",
         "showticklabels": false
        },
        "yaxis30": {
         "anchor": "x30",
         "domain": [
          0.6499999999999999,
          0.7399999999999999
         ],
         "matches": "y",
         "showticklabels": false
        },
        "yaxis31": {
         "anchor": "x31",
         "domain": [
          0.7799999999999999,
          0.8699999999999999
         ],
         "matches": "y",
         "title": {
          "text": "Average precision"
         }
        },
        "yaxis32": {
         "anchor": "x32",
         "domain": [
          0.7799999999999999,
          0.8699999999999999
         ],
         "matches": "y",
         "showticklabels": false
        },
        "yaxis33": {
         "anchor": "x33",
         "domain": [
          0.7799999999999999,
          0.8699999999999999
         ],
         "matches": "y",
         "showticklabels": false
        },
        "yaxis34": {
         "anchor": "x34",
         "domain": [
          0.7799999999999999,
          0.8699999999999999
         ],
         "matches": "y",
         "showticklabels": false
        },
        "yaxis35": {
         "anchor": "x35",
         "domain": [
          0.7799999999999999,
          0.8699999999999999
         ],
         "matches": "y",
         "showticklabels": false
        },
        "yaxis36": {
         "anchor": "x36",
         "domain": [
          0.9099999999999999,
          0.9999999999999999
         ],
         "matches": "y",
         "title": {
          "text": "Average precision"
         }
        },
        "yaxis37": {
         "anchor": "x37",
         "domain": [
          0.9099999999999999,
          0.9999999999999999
         ],
         "matches": "y",
         "showticklabels": false
        },
        "yaxis38": {
         "anchor": "x38",
         "domain": [
          0.9099999999999999,
          0.9999999999999999
         ],
         "matches": "y",
         "showticklabels": false
        },
        "yaxis39": {
         "anchor": "x39",
         "domain": [
          0.9099999999999999,
          0.9999999999999999
         ],
         "matches": "y",
         "showticklabels": false
        },
        "yaxis4": {
         "anchor": "x4",
         "domain": [
          0,
          0.09
         ],
         "matches": "y",
         "showticklabels": false
        },
        "yaxis40": {
         "anchor": "x40",
         "domain": [
          0.9099999999999999,
          0.9999999999999999
         ],
         "matches": "y",
         "showticklabels": false
        },
        "yaxis5": {
         "anchor": "x5",
         "domain": [
          0,
          0.09
         ],
         "matches": "y",
         "showticklabels": false
        },
        "yaxis6": {
         "anchor": "x6",
         "domain": [
          0.13,
          0.22
         ],
         "matches": "y",
         "title": {
          "text": "Average precision"
         }
        },
        "yaxis7": {
         "anchor": "x7",
         "domain": [
          0.13,
          0.22
         ],
         "matches": "y",
         "showticklabels": false
        },
        "yaxis8": {
         "anchor": "x8",
         "domain": [
          0.13,
          0.22
         ],
         "matches": "y",
         "showticklabels": false
        },
        "yaxis9": {
         "anchor": "x9",
         "domain": [
          0.13,
          0.22
         ],
         "matches": "y",
         "showticklabels": false
        }
       }
      }
     },
     "metadata": {},
     "output_type": "display_data"
    }
   ],
   "source": [
    "fig = px.bar(metrics_species, x=\"model\", y=\"Average precision\", color=\"model\", barmode=\"relative\",\n",
    "             facet_col=\"variable\", facet_col_wrap=5, facet_row_spacing=0.04, facet_col_spacing=0.04,\n",
    "             height=2000, width = 1500)\n",
    "fig.for_each_annotation(lambda a: a.update(text=a.text.split(\"=\")[-1]))\n",
    "fig.show()"
   ]
  },
  {
   "cell_type": "code",
   "execution_count": 15,
   "metadata": {},
   "outputs": [],
   "source": [
    "fig.write_html('/home/justine/Documents/G2OI/collaborations/isabel/CR/AP_species.html')"
   ]
  },
  {
   "cell_type": "code",
   "execution_count": null,
   "metadata": {},
   "outputs": [],
   "source": []
  }
 ],
 "metadata": {
  "kernelspec": {
   "display_name": "deepmosaics",
   "language": "python",
   "name": "python3"
  },
  "language_info": {
   "codemirror_mode": {
    "name": "ipython",
    "version": 3
   },
   "file_extension": ".py",
   "mimetype": "text/x-python",
   "name": "python",
   "nbconvert_exporter": "python",
   "pygments_lexer": "ipython3",
   "version": "3.8.15"
  },
  "orig_nbformat": 4,
  "vscode": {
   "interpreter": {
    "hash": "9a240f7ebd84ddaea39624d9c2bc7d5109aed1e5dfaa5153a4c0b7663333edcc"
   }
  }
 },
 "nbformat": 4,
 "nbformat_minor": 2
}

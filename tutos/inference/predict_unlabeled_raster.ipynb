{
 "cells": [
  {
   "attachments": {},
   "cell_type": "markdown",
   "metadata": {},
   "source": [
    "# Predict an unlabeled raster and export the results"
   ]
  },
  {
   "cell_type": "code",
   "execution_count": 1,
   "metadata": {},
   "outputs": [
    {
     "ename": "ModuleNotFoundError",
     "evalue": "No module named 'detectron2'",
     "output_type": "error",
     "traceback": [
      "\u001b[0;31m---------------------------------------------------------------------------\u001b[0m",
      "\u001b[0;31mModuleNotFoundError\u001b[0m                       Traceback (most recent call last)",
      "\u001b[1;32m/home/justine/Documents/artus-examples/tutos/inference/predict_unlabeled_raster.ipynb Cell 2\u001b[0m in \u001b[0;36m<cell line: 0>\u001b[0;34m()\u001b[0m\n\u001b[0;32m----> <a href='vscode-notebook-cell:/home/justine/Documents/artus-examples/tutos/inference/predict_unlabeled_raster.ipynb#W1sZmlsZQ%3D%3D?line=0'>1</a>\u001b[0m \u001b[39mfrom\u001b[39;00m \u001b[39martus\u001b[39;00m\u001b[39m.\u001b[39;00m\u001b[39minference\u001b[39;00m \u001b[39mimport\u001b[39;00m deploy_unlabeled_dataset, predict\n\u001b[1;32m      <a href='vscode-notebook-cell:/home/justine/Documents/artus-examples/tutos/inference/predict_unlabeled_raster.ipynb#W1sZmlsZQ%3D%3D?line=1'>2</a>\u001b[0m \u001b[39mfrom\u001b[39;00m \u001b[39martus\u001b[39;00m\u001b[39m.\u001b[39;00m\u001b[39mtrain\u001b[39;00m \u001b[39mimport\u001b[39;00m config\n\u001b[1;32m      <a href='vscode-notebook-cell:/home/justine/Documents/artus-examples/tutos/inference/predict_unlabeled_raster.ipynb#W1sZmlsZQ%3D%3D?line=2'>3</a>\u001b[0m \u001b[39mimport\u001b[39;00m \u001b[39mos\u001b[39;00m\n",
      "File \u001b[0;32m~/miniconda3/envs/artus/lib/python3.11/site-packages/artus/inference/predict.py:1\u001b[0m, in \u001b[0;36m<module>\u001b[0;34m\u001b[0m\n\u001b[0;32m----> 1\u001b[0m \u001b[39mfrom\u001b[39;00m \u001b[39mdetectron2\u001b[39;00m\u001b[39m.\u001b[39;00m\u001b[39mconfig\u001b[39;00m \u001b[39mimport\u001b[39;00m get_cfg\n\u001b[1;32m      2\u001b[0m \u001b[39mfrom\u001b[39;00m \u001b[39mdetectron2\u001b[39;00m\u001b[39m.\u001b[39;00m\u001b[39mengine\u001b[39;00m \u001b[39mimport\u001b[39;00m DefaultPredictor\n\u001b[1;32m      3\u001b[0m \u001b[39mfrom\u001b[39;00m \u001b[39mdetectron2\u001b[39;00m \u001b[39mimport\u001b[39;00m model_zoo\n",
      "\u001b[0;31mModuleNotFoundError\u001b[0m: No module named 'detectron2'"
     ]
    }
   ],
   "source": [
    "from artus.inference import deploy_unlabeled_dataset, predict\n",
    "from artus.train import config\n",
    "import os"
   ]
  },
  {
   "cell_type": "code",
   "execution_count": null,
   "metadata": {},
   "outputs": [],
   "source": [
    "raster_or_tiles_path = '/path/to/raster/or/tiles/directory/' #if your raster exceeds the cache memory then you should tile it first\n",
    "config_path = '../configs/models_training/x101_allsites_species_overlapping25_tiles5000_ITER3000.yml'"
   ]
  },
  {
   "cell_type": "code",
   "execution_count": null,
   "metadata": {},
   "outputs": [],
   "source": [
    "dataset = deploy_unlabeled_dataset.create_or_load_dataset(\n",
    "    dataset_name=os.path.basename(config_path), #add a name for your fiftyone dataset \n",
    "    dataset_type='unlabeled', \n",
    "    images_path='raster_or_tiles_path',\n",
    "    label_type='segmentations')\n",
    "\n",
    "dataset.persistent = True #optional : save dataset on your machine for further exploration\n",
    "\n",
    "dataset.save()\n",
    "\n",
    "print(dataset)"
   ]
  },
  {
   "attachments": {},
   "cell_type": "markdown",
   "metadata": {},
   "source": [
    "## Call the trained model"
   ]
  },
  {
   "cell_type": "code",
   "execution_count": null,
   "metadata": {},
   "outputs": [],
   "source": [
    "config_path = '../configs/models_training/x101_allsites_species_overlapping25_tiles5000_ITER3000.yml'\n",
    "device = (\"cuda\" if torch.cuda.is_available() else \"cpu\")"
   ]
  },
  {
   "cell_type": "code",
   "execution_count": null,
   "metadata": {},
   "outputs": [],
   "source": [
    "if config.check_logs(config_path):\n"
   ]
  },
  {
   "cell_type": "code",
   "execution_count": null,
   "metadata": {},
   "outputs": [],
   "source": [
    "#### faire une fonction qui check si LOGS dans le fichier de config sinon renvoie \"aucun model spéciafié dans le fichier de config\""
   ]
  }
 ],
 "metadata": {
  "kernelspec": {
   "display_name": "artus",
   "language": "python",
   "name": "python3"
  },
  "language_info": {
   "codemirror_mode": {
    "name": "ipython",
    "version": 3
   },
   "file_extension": ".py",
   "mimetype": "text/x-python",
   "name": "python",
   "nbconvert_exporter": "python",
   "pygments_lexer": "ipython3",
   "version": "3.11.3"
  },
  "orig_nbformat": 4
 },
 "nbformat": 4,
 "nbformat_minor": 2
}

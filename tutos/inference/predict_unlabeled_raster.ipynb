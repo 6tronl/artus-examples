{
 "cells": [
  {
   "attachments": {},
   "cell_type": "markdown",
   "metadata": {},
   "source": [
    "# Predict an unlabeled raster and export the results"
   ]
  },
  {
   "cell_type": "code",
   "execution_count": null,
   "metadata": {},
   "outputs": [],
   "source": [
    "import yaml\n",
    "import torch\n",
    "import os\n",
    "import artus.inference as tusinf\n",
    "import artus.spatialize as tuspal\n",
    "import fiftyone as fo\n",
    "import fiftyone.utils.coco as fouc"
   ]
  },
  {
   "cell_type": "code",
   "execution_count": null,
   "metadata": {},
   "outputs": [],
   "source": [
    "raster_or_tiles_path = '/path/to/raster/or/tiles/directory/' #if your raster exceeds the cache memory then you should tile it first\n",
    "config_path = '../../configs/x101_allsites_species_overlapping25_tiles5000_ITER3000.yml'"
   ]
  },
  {
   "cell_type": "code",
   "execution_count": null,
   "metadata": {},
   "outputs": [],
   "source": [
    "dataset = tusinf.deploy_unlabeled_dataset.create_or_load_dataset(\n",
    "    dataset_name=os.path.basename(config_path), #add a name for your fiftyone dataset \n",
    "    dataset_type='unlabeled', \n",
    "    images_path='raster_or_tiles_path',\n",
    "    label_type='segmentations')\n",
    "\n",
    "dataset.persistent = True #optional : save dataset on your machine for further exploration\n",
    "\n",
    "dataset.save()\n",
    "\n",
    "print(dataset)"
   ]
  },
  {
   "cell_type": "code",
   "execution_count": null,
   "metadata": {},
   "outputs": [],
   "source": [
    "dataset.compute_metadata()"
   ]
  },
  {
   "attachments": {},
   "cell_type": "markdown",
   "metadata": {},
   "source": [
    "## Call the trained model"
   ]
  },
  {
   "cell_type": "code",
   "execution_count": null,
   "metadata": {},
   "outputs": [],
   "source": [
    "device = (\"cuda\" if torch.cuda.is_available() else \"cpu\")\n",
    "\n",
    "#Load model's classes\n",
    "model_classes = '../../configs/model_classes_species.yml'\n",
    "\n",
    "with open(model_classes) as f:\n",
    "    model_classes = yaml.load(f, Loader=yaml.FullLoader)"
   ]
  },
  {
   "cell_type": "code",
   "execution_count": null,
   "metadata": {},
   "outputs": [],
   "source": [
    "predictor = tusinf.predict.build_predictor(config_path, device)"
   ]
  },
  {
   "attachments": {},
   "cell_type": "markdown",
   "metadata": {},
   "source": [
    "## Make predictions on images with the AI model"
   ]
  },
  {
   "cell_type": "code",
   "execution_count": null,
   "metadata": {},
   "outputs": [],
   "source": [
    "dataset = tusinf.predict.add_predictions_to_dataset(\n",
    "    dataset=dataset, \n",
    "    predictor=predictor, \n",
    "    device=device, \n",
    "    classes=model_classes['species_classes'], #the list of a class names or config file containing the list\n",
    "    predictions_field='predictions', \n",
    "    nms_threshold=0.5)"
   ]
  },
  {
   "attachments": {},
   "cell_type": "markdown",
   "metadata": {},
   "source": [
    "## Spatialize model's predictions and export them"
   ]
  },
  {
   "cell_type": "code",
   "execution_count": null,
   "metadata": {},
   "outputs": [],
   "source": [
    "geojson_exporter = tuspal.FiftyoneGeoExporter(\n",
    "    export_dir='/path/to/export/dir', \n",
    "    label_type='polylines', #can be 'detections' for bbox or 'polylines' for segmentation masks\n",
    "    epsg_code='4326', #set the destination CRS adapted to your data\n",
    "    dest_name='geospatial_predictions.geojson'\n",
    ")"
   ]
  },
  {
   "cell_type": "code",
   "execution_count": null,
   "metadata": {},
   "outputs": [],
   "source": [
    "dataset.export(\n",
    "    dataset_exporter=geojson_exporter,\n",
    "    label_field='predictions',\n",
    "    export_media=False\n",
    "    )"
   ]
  }
 ],
 "metadata": {
  "kernelspec": {
   "display_name": "artus",
   "language": "python",
   "name": "python3"
  },
  "language_info": {
   "codemirror_mode": {
    "name": "ipython",
    "version": 3
   },
   "file_extension": ".py",
   "mimetype": "text/x-python",
   "name": "python",
   "nbconvert_exporter": "python",
   "pygments_lexer": "ipython3",
   "version": "3.10.4"
  },
  "orig_nbformat": 4
 },
 "nbformat": 4,
 "nbformat_minor": 2
}

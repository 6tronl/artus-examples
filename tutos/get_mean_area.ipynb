{
 "cells": [
  {
   "cell_type": "code",
   "execution_count": 12,
   "id": "b89fc89a-81d6-4171-b45c-7ebbdaa14039",
   "metadata": {
    "tags": []
   },
   "outputs": [],
   "source": [
    "import geopandas\n",
    "import yaml\n",
    "import pandas as pd\n",
    "import statistics\n",
    "import rasterio"
   ]
  },
  {
   "cell_type": "code",
   "execution_count": 13,
   "id": "71dddfdd-7e53-4404-8034-4566071c322a",
   "metadata": {
    "tags": []
   },
   "outputs": [],
   "source": [
    "sites_mapping_filenames = '../configs/sites.yml'\n",
    "\n",
    "with open(sites_mapping_filenames) as f:\n",
    "    sites_mapping_filenames = yaml.load(f, Loader=yaml.FullLoader)"
   ]
  },
  {
   "cell_type": "code",
   "execution_count": 15,
   "id": "3f14f9c6-96ad-4453-bdb8-ea8c3b0bb96d",
   "metadata": {
    "tags": []
   },
   "outputs": [
    {
     "name": "stdout",
     "output_type": "stream",
     "text": [
      "[0.00011287109925156104, 9.894763669400674e-21, 4.818255996501302e-05]\n"
     ]
    }
   ],
   "source": [
    "annotations = []\n",
    "for site in sites_mapping_filenames:\n",
    "    ortho_path = sites_mapping_filenames[site][1]['orthomosaic_path']\n",
    "    annotation_path = sites_mapping_filenames[site][0]['annotation_path']\n",
    "    \n",
    "    ortho = rasterio.open(ortho_path)\n",
    "    gpd = geopandas.read_file(annotation_path)\n",
    "    \n",
    "    \n",
    "    gpd['area'] = gpd.area\n",
    "    gpd.dropna(subset=['area'], inplace=True)\n",
    "    mean_area_polygons = statistics.mean(gpd['area'])\n",
    "    mean_px_area_polygons = ortho.transform[0] * mean_area_polygons\n",
    "    \n",
    "    \n",
    "    annotations.append(mean_px_area_polygons)\n",
    "print(annotations)"
   ]
  },
  {
   "cell_type": "code",
   "execution_count": 6,
   "id": "3fcd1106-8acf-4931-b0e1-8f3f544b8350",
   "metadata": {
    "tags": []
   },
   "outputs": [],
   "source": [
    "annotations['area'] = annotations.area"
   ]
  },
  {
   "cell_type": "code",
   "execution_count": 1,
   "id": "8f4c9a23-f168-441b-9db8-502d4f7651bb",
   "metadata": {},
   "outputs": [],
   "source": [
    "mask = [(530314.054, 8582251.9558, 530315.1875741648, 8582253.089375636), (530314.054, 8582253.089375636, 530315.1875741648, 8582254.22295127), (530314.054, 8582254.22295127, 530315.1875741648, 8582255.356526906)]"
   ]
  },
  {
   "cell_type": "code",
   "execution_count": 2,
   "id": "57edeaac-2314-433a-ae35-cf7156f2c9c4",
   "metadata": {
    "tags": []
   },
   "outputs": [
    {
     "data": {
      "text/plain": [
       "(530314.054, 8582251.9558, 530315.1875741648, 8582253.089375636)"
      ]
     },
     "execution_count": 2,
     "metadata": {},
     "output_type": "execute_result"
    }
   ],
   "source": [
    "mask[0]"
   ]
  },
  {
   "cell_type": "code",
   "execution_count": 3,
   "id": "d6432c8a-08f4-4d3f-8b32-14d5d68ee7c9",
   "metadata": {
    "tags": []
   },
   "outputs": [
    {
     "name": "stdout",
     "output_type": "stream",
     "text": [
      "(530314.054, 8582251.9558, 530315.1875741648, 8582253.089375636)\n",
      "(530314.054, 8582253.089375636, 530315.1875741648, 8582254.22295127)\n",
      "(530314.054, 8582254.22295127, 530315.1875741648, 8582255.356526906)\n"
     ]
    }
   ],
   "source": [
    "for elem in mask:\n",
    "    print(elem)"
   ]
  },
  {
   "cell_type": "code",
   "execution_count": null,
   "id": "48a3cb03-4bf8-48e2-b46e-dfccaeeb6769",
   "metadata": {},
   "outputs": [],
   "source": []
  }
 ],
 "metadata": {
  "kernelspec": {
   "display_name": "Python 3 (ipykernel)",
   "language": "python",
   "name": "python3"
  },
  "language_info": {
   "codemirror_mode": {
    "name": "ipython",
    "version": 3
   },
   "file_extension": ".py",
   "mimetype": "text/x-python",
   "name": "python",
   "nbconvert_exporter": "python",
   "pygments_lexer": "ipython3",
   "version": "3.10.6"
  }
 },
 "nbformat": 4,
 "nbformat_minor": 5
}

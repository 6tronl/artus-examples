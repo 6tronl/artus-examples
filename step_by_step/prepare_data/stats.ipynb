{
 "cells": [
  {
   "cell_type": "code",
   "execution_count": null,
   "metadata": {},
   "outputs": [],
   "source": [
    "import plotly.express as px\n",
    "import pandas as pd\n",
    "import artus.evaluate_model.coco_stats as tustats"
   ]
  },
  {
   "attachments": {},
   "cell_type": "markdown",
   "metadata": {},
   "source": [
    "## Export some statistics from the coco file"
   ]
  },
  {
   "cell_type": "code",
   "execution_count": null,
   "metadata": {},
   "outputs": [],
   "source": [
    "stats = tustats.COCOStats(coco_path='../../coco/no_overlap/coco_species.json', min_nb_occurrences=50) "
   ]
  },
  {
   "cell_type": "code",
   "execution_count": null,
   "metadata": {},
   "outputs": [],
   "source": [
    "stats.export_stats('../../stats.csv')"
   ]
  }
 ],
 "metadata": {
  "kernelspec": {
   "display_name": "deepmosaics",
   "language": "python",
   "name": "python3"
  },
  "language_info": {
   "codemirror_mode": {
    "name": "ipython",
    "version": 3
   },
   "file_extension": ".py",
   "mimetype": "text/x-python",
   "name": "python",
   "nbconvert_exporter": "python",
   "pygments_lexer": "ipython3",
   "version": "3.8.15"
  },
  "orig_nbformat": 4,
  "vscode": {
   "interpreter": {
    "hash": "9a240f7ebd84ddaea39624d9c2bc7d5109aed1e5dfaa5153a4c0b7663333edcc"
   }
  }
 },
 "nbformat": 4,
 "nbformat_minor": 2
}

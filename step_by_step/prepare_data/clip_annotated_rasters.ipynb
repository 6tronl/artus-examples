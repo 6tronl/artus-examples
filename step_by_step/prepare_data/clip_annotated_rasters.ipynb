{
 "cells": [
  {
   "attachments": {},
   "cell_type": "markdown",
   "id": "b3fcc4ee",
   "metadata": {},
   "source": [
    "# Tile raster data and matching annotation file (vector data)"
   ]
  },
  {
   "cell_type": "code",
   "execution_count": null,
   "id": "77a058e0",
   "metadata": {},
   "outputs": [],
   "source": [
    "import artus.prepare.tile as tustile"
   ]
  },
  {
   "attachments": {},
   "cell_type": "markdown",
   "id": "1de1edac",
   "metadata": {},
   "source": [
    "## Set paths to raster and vector"
   ]
  },
  {
   "cell_type": "code",
   "execution_count": null,
   "id": "b9e36c91",
   "metadata": {},
   "outputs": [],
   "source": [
    "annotation_path = '/path/to/your/vector/file.shp/OR/file.geojson'\n",
    "raster_path = '/path/to/your/raster/file.tif'\n"
   ]
  },
  {
   "attachments": {},
   "cell_type": "markdown",
   "id": "1c1171fd",
   "metadata": {},
   "source": [
    "## Tile raster and vector"
   ]
  },
  {
   "cell_type": "code",
   "execution_count": null,
   "id": "1be7af79",
   "metadata": {},
   "outputs": [],
   "source": [
    "tustile.clip_annotated_ortho(\n",
    "    annotation_path,\n",
    "    raster_path,\n",
    "    matching_crs='4326', #set your EPSG code that matches both raster and vector,\n",
    "    dest_dir='/path/to/the/export/dir/', #set the directory where tiles and annotations will be saved\n",
    "    tuple_tile_size=(500,500), #set the tuple size (in pixels or meters)\n",
    "    h_shift=0.5, \n",
    "    v_shift=0.5,\n",
    "    annot_type='segm'\n",
    ")"
   ]
  }
 ],
 "metadata": {
  "kernelspec": {
   "display_name": "Python 3 (ipykernel)",
   "language": "python",
   "name": "python3"
  },
  "language_info": {
   "codemirror_mode": {
    "name": "ipython",
    "version": 3
   },
   "file_extension": ".py",
   "mimetype": "text/x-python",
   "name": "python",
   "nbconvert_exporter": "python",
   "pygments_lexer": "ipython3",
   "version": "3.10.6"
  }
 },
 "nbformat": 4,
 "nbformat_minor": 5
}

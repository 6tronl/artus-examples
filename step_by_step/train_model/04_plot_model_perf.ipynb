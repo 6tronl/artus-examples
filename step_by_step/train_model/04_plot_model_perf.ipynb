{
 "cells": [
  {
   "cell_type": "code",
   "execution_count": null,
   "metadata": {},
   "outputs": [],
   "source": [
    "import plotly.express as px\n",
    "import pandas as pd\n",
    "import artus.evaluate_model.write_eval_results as tuseval"
   ]
  },
  {
   "cell_type": "code",
   "execution_count": null,
   "metadata": {},
   "outputs": [],
   "source": [
    "plots = tuseval.ModelsMetricsPlots(\n",
    "    csv_metrics_path = '/path/to/csv/evaluation/metrics.csv', #the results from evaluate_model.ipynb\n",
    "    export_dir = '/path/to/export/plots/',\n",
    "    plot_name = 'metrics.html',\n",
    "    title = 'Average precision'\n",
    ")"
   ]
  },
  {
   "cell_type": "code",
   "execution_count": null,
   "metadata": {},
   "outputs": [],
   "source": [
    "fig = plots.plot_metrics()\n",
    "fig.show()"
   ]
  },
  {
   "cell_type": "code",
   "execution_count": null,
   "metadata": {},
   "outputs": [],
   "source": [
    "plots.export_plots()"
   ]
  }
 ],
 "metadata": {
  "language_info": {
   "name": "python"
  },
  "orig_nbformat": 4
 },
 "nbformat": 4,
 "nbformat_minor": 2
}

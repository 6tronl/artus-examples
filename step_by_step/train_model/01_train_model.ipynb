{
 "cells": [
  {
   "cell_type": "code",
   "execution_count": null,
   "id": "73b96713-ce47-464b-9d3e-52b94c3980fa",
   "metadata": {
    "tags": []
   },
   "outputs": [],
   "source": [
    "import artus.train.train as tustrain"
   ]
  },
  {
   "cell_type": "code",
   "execution_count": null,
   "id": "971ac814-b0bd-4719-95f4-a93e8a5919d7",
   "metadata": {
    "tags": []
   },
   "outputs": [],
   "source": [
    "config_path = '../../models_config/x101_allsites_species_overlapping25_tiles1500_ITER3000.yml' #pick one in the configs directory or add your following the models available\n"
   ]
  },
  {
   "cell_type": "code",
   "execution_count": null,
   "id": "a359a717-f8bb-4200-ad2b-b0de7c7ee3b6",
   "metadata": {
    "tags": []
   },
   "outputs": [],
   "source": [
    "tustrain.train_model(config_path)"
   ]
  }
 ],
 "metadata": {
  "kernelspec": {
   "display_name": "Python 3 (ipykernel)",
   "language": "python",
   "name": "python3"
  },
  "language_info": {
   "codemirror_mode": {
    "name": "ipython",
    "version": 3
   },
   "file_extension": ".py",
   "mimetype": "text/x-python",
   "name": "python",
   "nbconvert_exporter": "python",
   "pygments_lexer": "ipython3",
   "version": "3.10.6"
  }
 },
 "nbformat": 4,
 "nbformat_minor": 5
}
